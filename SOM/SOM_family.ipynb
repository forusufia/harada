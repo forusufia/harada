{
 "cells": [
  {
   "cell_type": "code",
   "execution_count": 1,
   "metadata": {},
   "outputs": [],
   "source": [
    "import numpy as np\n",
    "import pandas as pd\n",
    "import matplotlib.pyplot as plt\n",
    "%matplotlib inline\n",
    "import sklearn #機械学習のライブラリ"
   ]
  },
  {
   "cell_type": "code",
   "execution_count": 26,
   "metadata": {},
   "outputs": [],
   "source": [
    "x = np.arange(-3, 3, 0.1)\n",
    "n = len(x)"
   ]
  },
  {
   "cell_type": "code",
   "execution_count": 21,
   "metadata": {},
   "outputs": [
    {
     "data": {
      "text/plain": [
       "array([-3.00000000e+00, -2.90000000e+00, -2.80000000e+00, -2.70000000e+00,\n",
       "       -2.60000000e+00, -2.50000000e+00, -2.40000000e+00, -2.30000000e+00,\n",
       "       -2.20000000e+00, -2.10000000e+00, -2.00000000e+00, -1.90000000e+00,\n",
       "       -1.80000000e+00, -1.70000000e+00, -1.60000000e+00, -1.50000000e+00,\n",
       "       -1.40000000e+00, -1.30000000e+00, -1.20000000e+00, -1.10000000e+00,\n",
       "       -1.00000000e+00, -9.00000000e-01, -8.00000000e-01, -7.00000000e-01,\n",
       "       -6.00000000e-01, -5.00000000e-01, -4.00000000e-01, -3.00000000e-01,\n",
       "       -2.00000000e-01, -1.00000000e-01,  2.66453526e-15,  1.00000000e-01,\n",
       "        2.00000000e-01,  3.00000000e-01,  4.00000000e-01,  5.00000000e-01,\n",
       "        6.00000000e-01,  7.00000000e-01,  8.00000000e-01,  9.00000000e-01,\n",
       "        1.00000000e+00,  1.10000000e+00,  1.20000000e+00,  1.30000000e+00,\n",
       "        1.40000000e+00,  1.50000000e+00,  1.60000000e+00,  1.70000000e+00,\n",
       "        1.80000000e+00,  1.90000000e+00,  2.00000000e+00,  2.10000000e+00,\n",
       "        2.20000000e+00,  2.30000000e+00,  2.40000000e+00,  2.50000000e+00,\n",
       "        2.60000000e+00,  2.70000000e+00,  2.80000000e+00,  2.90000000e+00])"
      ]
     },
     "execution_count": 21,
     "metadata": {},
     "output_type": "execute_result"
    }
   ],
   "source": [
    "x"
   ]
  },
  {
   "cell_type": "code",
   "execution_count": 22,
   "metadata": {
    "scrolled": true
   },
   "outputs": [
    {
     "data": {
      "text/plain": [
       "array([-1.41120008e-01, -2.39249329e-01, -3.34988150e-01, -4.27379880e-01,\n",
       "       -5.15501372e-01, -5.98472144e-01, -6.75463181e-01, -7.45705212e-01,\n",
       "       -8.08496404e-01, -8.63209367e-01, -9.09297427e-01, -9.46300088e-01,\n",
       "       -9.73847631e-01, -9.91664810e-01, -9.99573603e-01, -9.97494987e-01,\n",
       "       -9.85449730e-01, -9.63558185e-01, -9.32039086e-01, -8.91207360e-01,\n",
       "       -8.41470985e-01, -7.83326910e-01, -7.17356091e-01, -6.44217687e-01,\n",
       "       -5.64642473e-01, -4.79425539e-01, -3.89418342e-01, -2.95520207e-01,\n",
       "       -1.98669331e-01, -9.98334166e-02,  2.66453526e-15,  9.98334166e-02,\n",
       "        1.98669331e-01,  2.95520207e-01,  3.89418342e-01,  4.79425539e-01,\n",
       "        5.64642473e-01,  6.44217687e-01,  7.17356091e-01,  7.83326910e-01,\n",
       "        8.41470985e-01,  8.91207360e-01,  9.32039086e-01,  9.63558185e-01,\n",
       "        9.85449730e-01,  9.97494987e-01,  9.99573603e-01,  9.91664810e-01,\n",
       "        9.73847631e-01,  9.46300088e-01,  9.09297427e-01,  8.63209367e-01,\n",
       "        8.08496404e-01,  7.45705212e-01,  6.75463181e-01,  5.98472144e-01,\n",
       "        5.15501372e-01,  4.27379880e-01,  3.34988150e-01,  2.39249329e-01])"
      ]
     },
     "execution_count": 22,
     "metadata": {},
     "output_type": "execute_result"
    }
   ],
   "source": [
    "y = np.sin(x)\n",
    "y"
   ]
  },
  {
   "cell_type": "code",
   "execution_count": 25,
   "metadata": {
    "scrolled": true
   },
   "outputs": [
    {
     "data": {
      "text/plain": [
       "array([[-3.00000000e+00, -1.41120008e-01],\n",
       "       [-2.90000000e+00, -2.39249329e-01],\n",
       "       [-2.80000000e+00, -3.34988150e-01],\n",
       "       [-2.70000000e+00, -4.27379880e-01],\n",
       "       [-2.60000000e+00, -5.15501372e-01],\n",
       "       [-2.50000000e+00, -5.98472144e-01],\n",
       "       [-2.40000000e+00, -6.75463181e-01],\n",
       "       [-2.30000000e+00, -7.45705212e-01],\n",
       "       [-2.20000000e+00, -8.08496404e-01],\n",
       "       [-2.10000000e+00, -8.63209367e-01],\n",
       "       [-2.00000000e+00, -9.09297427e-01],\n",
       "       [-1.90000000e+00, -9.46300088e-01],\n",
       "       [-1.80000000e+00, -9.73847631e-01],\n",
       "       [-1.70000000e+00, -9.91664810e-01],\n",
       "       [-1.60000000e+00, -9.99573603e-01],\n",
       "       [-1.50000000e+00, -9.97494987e-01],\n",
       "       [-1.40000000e+00, -9.85449730e-01],\n",
       "       [-1.30000000e+00, -9.63558185e-01],\n",
       "       [-1.20000000e+00, -9.32039086e-01],\n",
       "       [-1.10000000e+00, -8.91207360e-01],\n",
       "       [-1.00000000e+00, -8.41470985e-01],\n",
       "       [-9.00000000e-01, -7.83326910e-01],\n",
       "       [-8.00000000e-01, -7.17356091e-01],\n",
       "       [-7.00000000e-01, -6.44217687e-01],\n",
       "       [-6.00000000e-01, -5.64642473e-01],\n",
       "       [-5.00000000e-01, -4.79425539e-01],\n",
       "       [-4.00000000e-01, -3.89418342e-01],\n",
       "       [-3.00000000e-01, -2.95520207e-01],\n",
       "       [-2.00000000e-01, -1.98669331e-01],\n",
       "       [-1.00000000e-01, -9.98334166e-02],\n",
       "       [ 2.66453526e-15,  2.66453526e-15],\n",
       "       [ 1.00000000e-01,  9.98334166e-02],\n",
       "       [ 2.00000000e-01,  1.98669331e-01],\n",
       "       [ 3.00000000e-01,  2.95520207e-01],\n",
       "       [ 4.00000000e-01,  3.89418342e-01],\n",
       "       [ 5.00000000e-01,  4.79425539e-01],\n",
       "       [ 6.00000000e-01,  5.64642473e-01],\n",
       "       [ 7.00000000e-01,  6.44217687e-01],\n",
       "       [ 8.00000000e-01,  7.17356091e-01],\n",
       "       [ 9.00000000e-01,  7.83326910e-01],\n",
       "       [ 1.00000000e+00,  8.41470985e-01],\n",
       "       [ 1.10000000e+00,  8.91207360e-01],\n",
       "       [ 1.20000000e+00,  9.32039086e-01],\n",
       "       [ 1.30000000e+00,  9.63558185e-01],\n",
       "       [ 1.40000000e+00,  9.85449730e-01],\n",
       "       [ 1.50000000e+00,  9.97494987e-01],\n",
       "       [ 1.60000000e+00,  9.99573603e-01],\n",
       "       [ 1.70000000e+00,  9.91664810e-01],\n",
       "       [ 1.80000000e+00,  9.73847631e-01],\n",
       "       [ 1.90000000e+00,  9.46300088e-01],\n",
       "       [ 2.00000000e+00,  9.09297427e-01],\n",
       "       [ 2.10000000e+00,  8.63209367e-01],\n",
       "       [ 2.20000000e+00,  8.08496404e-01],\n",
       "       [ 2.30000000e+00,  7.45705212e-01],\n",
       "       [ 2.40000000e+00,  6.75463181e-01],\n",
       "       [ 2.50000000e+00,  5.98472144e-01],\n",
       "       [ 2.60000000e+00,  5.15501372e-01],\n",
       "       [ 2.70000000e+00,  4.27379880e-01],\n",
       "       [ 2.80000000e+00,  3.34988150e-01],\n",
       "       [ 2.90000000e+00,  2.39249329e-01]])"
      ]
     },
     "execution_count": 25,
     "metadata": {},
     "output_type": "execute_result"
    }
   ],
   "source": [
    "X = np.stack([x, y], 1)\n",
    "X"
   ]
  },
  {
   "cell_type": "code",
   "execution_count": 8,
   "metadata": {},
   "outputs": [
    {
     "data": {
      "image/png": "[encoded data removed]",
      "text/plain": [
       "<Figure size 432x288 with 1 Axes>"
      ]
     },
     "metadata": {
      "needs_background": "light"
     },
     "output_type": "display_data"
    }
   ],
   "source": [
    "plt.plot(x, y,'r:',label=\"y\")\n",
    "plt.title('three function')\n",
    "plt.legend()\n",
    "plt.show()"
   ]
  },
  {
   "cell_type": "code",
   "execution_count": 45,
   "metadata": {},
   "outputs": [
    {
     "name": "stdout",
     "output_type": "stream",
     "text": [
      "[1.0, 0.96, 0.884, 0.7814, 0.66512, 0.54884, 0.444188, 0.3587222, 0.29523332, 0.25237832600000004, 0.22618916300000003, 0.21178512335000002, 0.20471404934, 0.201649917269, 0.2004949751807, 0.200123743795175, 0.200024748759035, 0.20000371231385525, 0.20000037123138553, 0.2000000185615693, 0.2, 0.2, 0.2, 0.2, 0.2, 0.2, 0.2, 0.2, 0.2, 0.2, 0.2, 0.2, 0.2, 0.2, 0.2, 0.2, 0.2, 0.2, 0.2, 0.2, 0.2, 0.2, 0.2, 0.2, 0.2, 0.2, 0.2, 0.2, 0.2, 0.2, 0.2, 0.2, 0.2, 0.2, 0.2, 0.2, 0.2, 0.2, 0.2, 0.2]\n"
     ]
    },
    {
     "data": {
      "text/plain": [
       "60"
      ]
     },
     "execution_count": 45,
     "metadata": {},
     "output_type": "execute_result"
    }
   ],
   "source": [
    "sig_zero = 1.0\n",
    "sig_min = 0.2\n",
    "Tau = 20.0\n",
    "sig = 0\n",
    "sig_t = []\n",
    "\n",
    "#for sig > sig_min:\n",
    "for t in range(n):\n",
    "    sig_max = sig_zero-(sig_zero-sig_min) * t / Tau\n",
    "    if sig_max > sig_min:\n",
    "        sig = sig_max\n",
    "    else:\n",
    "        sig = sig_min\n",
    "    sig_t.append(sig)\n",
    "    sig_zero = sig_max\n",
    "print(sig_t)\n",
    "len(sig_t)"
   ]
  },
  {
   "cell_type": "code",
   "execution_count": 10,
   "metadata": {},
   "outputs": [
    {
     "data": {
      "image/png": "[encoded data removed]",
      "text/plain": [
       "<Figure size 432x288 with 1 Axes>"
      ]
     },
     "metadata": {
      "needs_background": "light"
     },
     "output_type": "display_data"
    }
   ],
   "source": [
    "a = np.arange(60)\n",
    "plt.plot(a, sig_t,'r:',label=\"y\")\n",
    "plt.title('近傍半径スケジュール')\n",
    "plt.legend()\n",
    "plt.show()"
   ]
  },
  {
   "cell_type": "code",
   "execution_count": 11,
   "metadata": {
    "scrolled": true
   },
   "outputs": [
    {
     "name": "stdout",
     "output_type": "stream",
     "text": [
      "[[-1.        ]\n",
      " [-0.95918367]\n",
      " [-0.91836735]\n",
      " [-0.87755102]\n",
      " [-0.83673469]\n",
      " [-0.79591837]\n",
      " [-0.75510204]\n",
      " [-0.71428571]\n",
      " [-0.67346939]\n",
      " [-0.63265306]\n",
      " [-0.59183673]\n",
      " [-0.55102041]\n",
      " [-0.51020408]\n",
      " [-0.46938776]\n",
      " [-0.42857143]\n",
      " [-0.3877551 ]\n",
      " [-0.34693878]\n",
      " [-0.30612245]\n",
      " [-0.26530612]\n",
      " [-0.2244898 ]\n",
      " [-0.18367347]\n",
      " [-0.14285714]\n",
      " [-0.10204082]\n",
      " [-0.06122449]\n",
      " [-0.02040816]\n",
      " [ 0.02040816]\n",
      " [ 0.06122449]\n",
      " [ 0.10204082]\n",
      " [ 0.14285714]\n",
      " [ 0.18367347]\n",
      " [ 0.2244898 ]\n",
      " [ 0.26530612]\n",
      " [ 0.30612245]\n",
      " [ 0.34693878]\n",
      " [ 0.3877551 ]\n",
      " [ 0.42857143]\n",
      " [ 0.46938776]\n",
      " [ 0.51020408]\n",
      " [ 0.55102041]\n",
      " [ 0.59183673]\n",
      " [ 0.63265306]\n",
      " [ 0.67346939]\n",
      " [ 0.71428571]\n",
      " [ 0.75510204]\n",
      " [ 0.79591837]\n",
      " [ 0.83673469]\n",
      " [ 0.87755102]\n",
      " [ 0.91836735]\n",
      " [ 0.95918367]\n",
      " [ 1.        ]]\n"
     ]
    }
   ],
   "source": [
    "K = 50\n",
    "l = 1\n",
    "zeta = np.linspace(-1,1,K)\n",
    "zeta = np.reshape(zeta, (50,1))\n",
    "print(zeta)"
   ]
  },
  {
   "cell_type": "code",
   "execution_count": 13,
   "metadata": {},
   "outputs": [
    {
     "data": {
      "text/plain": [
       "50"
      ]
     },
     "execution_count": 13,
     "metadata": {},
     "output_type": "execute_result"
    }
   ],
   "source": [
    "len(zeta)"
   ]
  },
  {
   "cell_type": "code",
   "execution_count": 28,
   "metadata": {
    "scrolled": true
   },
   "outputs": [
    {
     "data": {
      "text/plain": [
       "array([[0.57542674],\n",
       "       [0.87332477],\n",
       "       [0.28499307],\n",
       "       [0.33527881],\n",
       "       [0.3657263 ],\n",
       "       [0.09436679],\n",
       "       [0.38718267],\n",
       "       [0.78975345],\n",
       "       [0.17546576],\n",
       "       [0.46626291],\n",
       "       [0.59067004],\n",
       "       [0.44525706],\n",
       "       [0.30009979],\n",
       "       [0.66417081],\n",
       "       [0.23264646],\n",
       "       [0.10236302],\n",
       "       [0.23614478],\n",
       "       [0.15243059],\n",
       "       [0.37114066],\n",
       "       [0.47893126],\n",
       "       [0.38798492],\n",
       "       [0.60091485],\n",
       "       [0.82132978],\n",
       "       [0.90888956],\n",
       "       [0.94220421],\n",
       "       [0.00466765],\n",
       "       [0.37997992],\n",
       "       [0.06068864],\n",
       "       [0.63527942],\n",
       "       [0.34273584],\n",
       "       [0.92182732],\n",
       "       [0.84643404],\n",
       "       [0.90430054],\n",
       "       [0.66124495],\n",
       "       [0.51929331],\n",
       "       [0.02523755],\n",
       "       [0.95311175],\n",
       "       [0.48763141],\n",
       "       [0.4904623 ],\n",
       "       [0.81761383],\n",
       "       [0.55064915],\n",
       "       [0.17731784],\n",
       "       [0.29757373],\n",
       "       [0.66532639],\n",
       "       [0.0397731 ],\n",
       "       [0.92236791],\n",
       "       [0.5057862 ],\n",
       "       [0.1240069 ],\n",
       "       [0.89560944],\n",
       "       [0.15996215],\n",
       "       [0.57869429],\n",
       "       [0.55075553],\n",
       "       [0.65617152],\n",
       "       [0.01610267],\n",
       "       [0.78276438],\n",
       "       [0.21762227],\n",
       "       [0.25987284],\n",
       "       [0.06939868],\n",
       "       [0.79584093],\n",
       "       [0.70568103]])"
      ]
     },
     "execution_count": 28,
     "metadata": {},
     "output_type": "execute_result"
    }
   ],
   "source": [
    "zn = np.random.rand(n)\n",
    "zn = np.reshape(zn, (n,1))\n",
    "zn"
   ]
  },
  {
   "cell_type": "code",
   "execution_count": 29,
   "metadata": {},
   "outputs": [
    {
     "data": {
      "text/plain": [
       "60"
      ]
     },
     "execution_count": 29,
     "metadata": {},
     "output_type": "execute_result"
    }
   ],
   "source": [
    "len(zn)"
   ]
  },
  {
   "cell_type": "code",
   "execution_count": 31,
   "metadata": {},
   "outputs": [
    {
     "data": {
      "text/plain": [
       "array([2.48196942])"
      ]
     },
     "execution_count": 31,
     "metadata": {},
     "output_type": "execute_result"
    }
   ],
   "source": [
    "np.power(zn[0]-zeta[0],2)"
   ]
  },
  {
   "cell_type": "code",
   "execution_count": 39,
   "metadata": {},
   "outputs": [
    {
     "data": {
      "text/plain": [
       "array([[0., 0., 0., ..., 0., 0., 0.],\n",
       "       [0., 0., 0., ..., 0., 0., 0.],\n",
       "       [0., 0., 0., ..., 0., 0., 0.],\n",
       "       ...,\n",
       "       [0., 0., 0., ..., 0., 0., 0.],\n",
       "       [0., 0., 0., ..., 0., 0., 0.],\n",
       "       [0., 0., 0., ..., 0., 0., 0.]])"
      ]
     },
     "execution_count": 39,
     "metadata": {},
     "output_type": "execute_result"
    }
   ],
   "source": [
    "h_kn = np.zeros((n,K))\n",
    "np.size(h_kn,axis=0)\n",
    "h_kn"
   ]
  },
  {
   "cell_type": "code",
   "execution_count": 40,
   "metadata": {},
   "outputs": [
    {
     "data": {
      "text/plain": [
       "0.0"
      ]
     },
     "execution_count": 40,
     "metadata": {},
     "output_type": "execute_result"
    }
   ],
   "source": [
    "h_kn[0][0]"
   ]
  },
  {
   "cell_type": "code",
   "execution_count": 49,
   "metadata": {
    "scrolled": true
   },
   "outputs": [
    {
     "data": {
      "text/plain": [
       "array([2.48196942])"
      ]
     },
     "execution_count": 49,
     "metadata": {},
     "output_type": "execute_result"
    }
   ],
   "source": [
    "np.power(zn[i]-zeta[j],2)"
   ]
  },
  {
   "cell_type": "code",
   "execution_count": 50,
   "metadata": {},
   "outputs": [
    {
     "data": {
      "text/plain": [
       "50"
      ]
     },
     "execution_count": 50,
     "metadata": {},
     "output_type": "execute_result"
    }
   ],
   "source": [
    "K"
   ]
  },
  {
   "cell_type": "code",
   "execution_count": 51,
   "metadata": {},
   "outputs": [
    {
     "data": {
      "text/plain": [
       "array([1.        , 0.9216    , 0.781456  , 0.61058596, 0.44238461,\n",
       "       0.30122535, 0.19730298, 0.12868162, 0.08716271, 0.06369482,\n",
       "       0.05116154, 0.04485294, 0.04190784, 0.04066269, 0.04019824,\n",
       "       0.04004951, 0.0400099 , 0.04000148, 0.04000015, 0.04000001,\n",
       "       0.04      , 0.04      , 0.04      , 0.04      , 0.04      ,\n",
       "       0.04      , 0.04      , 0.04      , 0.04      , 0.04      ,\n",
       "       0.04      , 0.04      , 0.04      , 0.04      , 0.04      ,\n",
       "       0.04      , 0.04      , 0.04      , 0.04      , 0.04      ,\n",
       "       0.04      , 0.04      , 0.04      , 0.04      , 0.04      ,\n",
       "       0.04      , 0.04      , 0.04      , 0.04      , 0.04      ,\n",
       "       0.04      , 0.04      , 0.04      , 0.04      , 0.04      ,\n",
       "       0.04      , 0.04      , 0.04      , 0.04      , 0.04      ])"
      ]
     },
     "execution_count": 51,
     "metadata": {},
     "output_type": "execute_result"
    }
   ],
   "source": [
    "np.power(sig_t, 2)"
   ]
  },
  {
   "cell_type": "code",
   "execution_count": 57,
   "metadata": {},
   "outputs": [
    {
     "data": {
      "text/plain": [
       "array([[0.2890994 , 0.30804341, 0.32768241, ..., 0.94289144, 0.92901101,\n",
       "        0.91381126],\n",
       "       [0.17296382, 0.18655231, 0.20087342, ..., 0.9989861 , 0.99632091,\n",
       "        0.99200879],\n",
       "       [0.43797056, 0.4611703 , 0.48479064, ..., 0.81825481, 0.79670844,\n",
       "        0.77443817],\n",
       "       ...,\n",
       "       [0.56450459, 0.58919927, 0.61395057, ..., 0.69741552, 0.67310182,\n",
       "        0.64855439],\n",
       "       [0.19938407, 0.21436917, 0.23009684, ..., 0.99252174, 0.98674816,\n",
       "        0.9793752 ],\n",
       "       [0.23347649, 0.2501018 , 0.267465  , ..., 0.97763613, 0.96837894,\n",
       "        0.95761273]])"
      ]
     },
     "execution_count": 57,
     "metadata": {},
     "output_type": "execute_result"
    }
   ],
   "source": [
    "time = 0\n",
    "for data in range(n):\n",
    "        for node in range(K):\n",
    "            h_kn[data][node] = np.exp( -1 / (2*np.power(sig_t[time], 2)) * np.power(zn[data]-zeta[node],2))\n",
    "h_kn"
   ]
  },
  {
   "cell_type": "code",
   "execution_count": 60,
   "metadata": {},
   "outputs": [
    {
     "data": {
      "text/plain": [
       "array([0.2890994 , 0.17296382, 0.43797056, 0.41004648, 0.39352757,\n",
       "       0.54945998, 0.38207518, 0.20157199, 0.50114496, 0.34131023,\n",
       "       0.28220668, 0.35190854, 0.42950163, 0.25039083, 0.4678027 ,\n",
       "       0.54465533, 0.46578694, 0.51476328, 0.39062262, 0.33500198,\n",
       "       0.38165009, 0.2776305 , 0.19040135, 0.16171339, 0.15166539,\n",
       "       0.60369961, 0.38590182, 0.56976562, 0.26261416, 0.40597254,\n",
       "       0.15775531, 0.18183432, 0.1631345 , 0.25161192, 0.31533299,\n",
       "       0.59122654, 0.14847736, 0.33070663, 0.32931553, 0.19169302,\n",
       "       0.30051536, 0.50005427, 0.43091312, 0.24990961, 0.58241964,\n",
       "       0.15759148, 0.32184151, 0.53168942, 0.16585065, 0.51030021,\n",
       "       0.28761347, 0.30046579, 0.25373825, 0.59676474, 0.20410424,\n",
       "       0.47649312, 0.4521959 , 0.56450459, 0.19938407, 0.23347649])"
      ]
     },
     "execution_count": 60,
     "metadata": {},
     "output_type": "execute_result"
    }
   ],
   "source": [
    "h_kn[:,0]"
   ]
  },
  {
   "cell_type": "code",
   "execution_count": 61,
   "metadata": {},
   "outputs": [
    {
     "data": {
      "text/plain": [
       "21.083739207954242"
      ]
     },
     "execution_count": 61,
     "metadata": {},
     "output_type": "execute_result"
    }
   ],
   "source": [
    "sum(h_kn[:,0])"
   ]
  },
  {
   "cell_type": "code",
   "execution_count": 66,
   "metadata": {},
   "outputs": [
    {
     "data": {
      "text/plain": [
       "array([0.])"
      ]
     },
     "execution_count": 66,
     "metadata": {},
     "output_type": "execute_result"
    }
   ],
   "source": [
    "g_k = np.zeros((K))\n",
    "g_k = np.reshape(g_k,(K,1))\n",
    "g_k[0]"
   ]
  },
  {
   "cell_type": "code",
   "execution_count": 78,
   "metadata": {},
   "outputs": [
    {
     "data": {
      "text/plain": [
       "50"
      ]
     },
     "execution_count": 78,
     "metadata": {},
     "output_type": "execute_result"
    }
   ],
   "source": [
    "for node in range(K):\n",
    "    g_k[node] = np.sum(h_kn[:,node])\n",
    "np.size(g_k)"
   ]
  },
  {
   "cell_type": "code",
   "execution_count": 113,
   "metadata": {},
   "outputs": [
    {
     "data": {
      "text/plain": [
       "array([0., 0.])"
      ]
     },
     "execution_count": 113,
     "metadata": {},
     "output_type": "execute_result"
    }
   ],
   "source": [
    "y_k = np.zeros((K,2))\n",
    "y_k = np.reshape(y_k, (K,2))\n",
    "y_k[0]"
   ]
  },
  {
   "cell_type": "code",
   "execution_count": 98,
   "metadata": {},
   "outputs": [
    {
     "data": {
      "text/plain": [
       "array([0., 0.])"
      ]
     },
     "execution_count": 98,
     "metadata": {},
     "output_type": "execute_result"
    }
   ],
   "source": [
    "h_X = np.zeros((n,2))\n",
    "h_X = np.reshape(h_X, (n,2))\n",
    "h_X[0]"
   ]
  },
  {
   "cell_type": "code",
   "execution_count": 97,
   "metadata": {},
   "outputs": [
    {
     "data": {
      "text/plain": [
       "array([-3.        , -0.14112001])"
      ]
     },
     "execution_count": 97,
     "metadata": {},
     "output_type": "execute_result"
    }
   ],
   "source": [
    "X[0]"
   ]
  },
  {
   "cell_type": "code",
   "execution_count": 110,
   "metadata": {
    "scrolled": true
   },
   "outputs": [
    {
     "name": "stdout",
     "output_type": "stream",
     "text": [
      "[[-8.67298195e-01 -4.07977094e-02]\n",
      " [-5.01595071e-01 -4.13814773e-02]\n",
      " [-1.22631756e+00 -1.46714947e-01]\n",
      " [-1.10712550e+00 -1.75245616e-01]\n",
      " [-1.02317167e+00 -2.02864000e-01]\n",
      " [-1.37364995e+00 -3.28836493e-01]\n",
      " [-9.16980440e-01 -2.58077719e-01]\n",
      " [-4.63615566e-01 -1.50313280e-01]\n",
      " [-1.10251892e+00 -4.05173900e-01]\n",
      " [-7.16751473e-01 -2.94622183e-01]\n",
      " [-5.64413352e-01 -2.56609804e-01]\n",
      " [-6.68626218e-01 -3.33011078e-01]\n",
      " [-7.73102937e-01 -4.18269147e-01]\n",
      " [-4.25664419e-01 -2.48303780e-01]\n",
      " [-7.48484324e-01 -4.67603233e-01]\n",
      " [-8.16982993e-01 -5.43290959e-01]\n",
      " [-6.52101714e-01 -4.59009613e-01]\n",
      " [-6.69192263e-01 -4.96004371e-01]\n",
      " [-4.68747142e-01 -3.64075548e-01]\n",
      " [-3.68502176e-01 -2.98556228e-01]\n",
      " [-3.81650094e-01 -3.21147480e-01]\n",
      " [-2.49867450e-01 -2.17475442e-01]\n",
      " [-1.52321077e-01 -1.36585566e-01]\n",
      " [-1.13199376e-01 -1.04178629e-01]\n",
      " [-9.09992318e-02 -8.56367189e-02]\n",
      " [-3.01849803e-01 -2.89429009e-01]\n",
      " [-1.54360728e-01 -1.50277247e-01]\n",
      " [-1.70929686e-01 -1.68377254e-01]\n",
      " [-5.25228321e-02 -5.21733795e-02]\n",
      " [-4.05972536e-02 -4.05296254e-02]\n",
      " [ 4.20344585e-16  4.20344585e-16]\n",
      " [ 1.81834320e-02  1.81531414e-02]\n",
      " [ 3.26268996e-02  3.24098215e-02]\n",
      " [ 7.54835749e-02  7.43564055e-02]\n",
      " [ 1.26133196e-01  1.22796450e-01]\n",
      " [ 2.95613271e-01  2.83449104e-01]\n",
      " [ 8.90864190e-02  8.38366266e-02]\n",
      " [ 2.31494644e-01  2.13047063e-01]\n",
      " [ 2.63452423e-01  2.36236501e-01]\n",
      " [ 1.72523722e-01  1.50158305e-01]\n",
      " [ 3.00515364e-01  2.52874959e-01]\n",
      " [ 5.50059698e-01  4.45652047e-01]\n",
      " [ 5.17095739e-01  4.01627866e-01]\n",
      " [ 3.24882492e-01  2.40802449e-01]\n",
      " [ 8.15387501e-01  5.73945280e-01]\n",
      " [ 2.36387213e-01  1.57196706e-01]\n",
      " [ 5.14946423e-01  3.21704282e-01]\n",
      " [ 9.03872016e-01  5.27257689e-01]\n",
      " [ 2.98531174e-01  1.61513265e-01]\n",
      " [ 9.69570390e-01  4.82897129e-01]\n",
      " [ 5.75226932e-01  2.61526185e-01]\n",
      " [ 6.30978169e-01  2.59364888e-01]\n",
      " [ 5.58224150e-01  2.05146463e-01]\n",
      " [ 1.37255890e+00  4.45010575e-01]\n",
      " [ 4.89850185e-01  1.37864902e-01]\n",
      " [ 1.19123280e+00  2.85167859e-01]\n",
      " [ 1.17570934e+00  2.33107607e-01]\n",
      " [ 1.52416238e+00  2.41257903e-01]\n",
      " [ 5.58275395e-01  6.67913007e-02]\n",
      " [ 6.77081829e-01  5.58590943e-02]]\n"
     ]
    },
    {
     "data": {
      "text/plain": [
       "array([-1.67399375, -0.52355957])"
      ]
     },
     "execution_count": 110,
     "metadata": {},
     "output_type": "execute_result"
    }
   ],
   "source": [
    "for data in range(n):\n",
    "    h_X[data] = h_kn[data][0]*X[data]\n",
    "print(h_X)\n",
    "np.sum(h_X,axis=0)"
   ]
  },
  {
   "cell_type": "code",
   "execution_count": 126,
   "metadata": {
    "scrolled": true
   },
   "outputs": [
    {
     "data": {
      "text/plain": [
       "array([[-0.07939738, -0.02483239],\n",
       "       [-0.07972186, -0.02462567],\n",
       "       [-0.07999938, -0.02440107],\n",
       "       [-0.08022979, -0.02415857],\n",
       "       [-0.08041298, -0.02389817],\n",
       "       [-0.08054884, -0.02361987],\n",
       "       [-0.08063729, -0.0233237 ],\n",
       "       [-0.08067827, -0.02300966],\n",
       "       [-0.08067175, -0.0226778 ],\n",
       "       [-0.08061772, -0.02232815],\n",
       "       [-0.08051618, -0.02196076],\n",
       "       [-0.08036716, -0.02157568],\n",
       "       [-0.08017073, -0.02117298],\n",
       "       [-0.07992696, -0.02075272],\n",
       "       [-0.07963595, -0.020315  ],\n",
       "       [-0.07929784, -0.0198599 ],\n",
       "       [-0.07891277, -0.01938751],\n",
       "       [-0.07848091, -0.01889795],\n",
       "       [-0.07800247, -0.01839133],\n",
       "       [-0.07747766, -0.01786777],\n",
       "       [-0.07690673, -0.01732741],\n",
       "       [-0.07628995, -0.01677038],\n",
       "       [-0.07562761, -0.01619683],\n",
       "       [-0.07492004, -0.01560692],\n",
       "       [-0.07416756, -0.01500081],\n",
       "       [-0.07337055, -0.01437868],\n",
       "       [-0.07252938, -0.01374071],\n",
       "       [-0.07164448, -0.01308708],\n",
       "       [-0.07071627, -0.012418  ],\n",
       "       [-0.0697452 , -0.01173366],\n",
       "       [-0.06873177, -0.01103428],\n",
       "       [-0.06767645, -0.01032008],\n",
       "       [-0.06657978, -0.00959128],\n",
       "       [-0.06544229, -0.00884811],\n",
       "       [-0.06426455, -0.00809082],\n",
       "       [-0.06304714, -0.00731965],\n",
       "       [-0.06179067, -0.00653485],\n",
       "       [-0.06049575, -0.00573669],\n",
       "       [-0.05916302, -0.00492542],\n",
       "       [-0.05779315, -0.00410132],\n",
       "       [-0.05638681, -0.00326467],\n",
       "       [-0.0549447 , -0.00241575],\n",
       "       [-0.05346753, -0.00155484],\n",
       "       [-0.05195601, -0.00068224],\n",
       "       [-0.05041091,  0.00020176],\n",
       "       [-0.04883296,  0.00109685],\n",
       "       [-0.04722295,  0.00200273],\n",
       "       [-0.04558166,  0.00291909],\n",
       "       [-0.04390989,  0.00384562],\n",
       "       [-0.04220844,  0.004782  ]])"
      ]
     },
     "execution_count": 126,
     "metadata": {},
     "output_type": "execute_result"
    }
   ],
   "source": [
    "h_X = np.zeros((n,2))\n",
    "h_X = np.reshape(h_X, (n,2))\n",
    "for node in range(K):\n",
    "    for data in range(n):\n",
    "        h_X[data] = h_kn[data][node]*X[data]\n",
    "    y_k[node] = 1/g_k[node] * np.sum(h_X,axis=0)\n",
    "#h_X\n",
    "#np.size(y_k,axis=0)\n",
    "y_k"
   ]
  },
  {
   "cell_type": "code",
   "execution_count": 123,
   "metadata": {},
   "outputs": [
    {
     "data": {
      "text/plain": [
       "array([0.])"
      ]
     },
     "execution_count": 123,
     "metadata": {},
     "output_type": "execute_result"
    }
   ],
   "source": [
    "k_n = np.zeros((n))\n",
    "k_n = np.reshape(k_n, (n,1))\n",
    "k_n[0]"
   ]
  },
  {
   "cell_type": "code",
   "execution_count": 125,
   "metadata": {
    "scrolled": true
   },
   "outputs": [
    {
     "data": {
      "text/plain": [
       "array([0., 0., 0., 0., 0., 0., 0., 0., 0., 0., 0., 0., 0., 0., 0., 0., 0.,\n",
       "       0., 0., 0., 0., 0., 0., 0., 0., 0., 0., 0., 0., 0., 0., 0., 0., 0.,\n",
       "       0., 0., 0., 0., 0., 0., 0., 0., 0., 0., 0., 0., 0., 0., 0., 0.])"
      ]
     },
     "execution_count": 125,
     "metadata": {},
     "output_type": "execute_result"
    }
   ],
   "source": [
    "xn_yk = np.zeros((K))\n",
    "xn_yk"
   ]
  },
  {
   "cell_type": "code",
   "execution_count": 140,
   "metadata": {
    "scrolled": true
   },
   "outputs": [
    {
     "data": {
      "text/plain": [
       "array([[49.],\n",
       "       [49.],\n",
       "       [49.],\n",
       "       [49.],\n",
       "       [49.],\n",
       "       [49.],\n",
       "       [49.],\n",
       "       [49.],\n",
       "       [49.],\n",
       "       [49.],\n",
       "       [49.],\n",
       "       [49.],\n",
       "       [49.],\n",
       "       [49.],\n",
       "       [49.],\n",
       "       [49.],\n",
       "       [49.],\n",
       "       [49.],\n",
       "       [49.],\n",
       "       [49.],\n",
       "       [49.],\n",
       "       [49.],\n",
       "       [49.],\n",
       "       [49.],\n",
       "       [49.],\n",
       "       [49.],\n",
       "       [49.],\n",
       "       [49.],\n",
       "       [49.],\n",
       "       [49.],\n",
       "       [49.],\n",
       "       [49.],\n",
       "       [49.],\n",
       "       [49.],\n",
       "       [49.],\n",
       "       [49.],\n",
       "       [49.],\n",
       "       [49.],\n",
       "       [49.],\n",
       "       [49.],\n",
       "       [49.],\n",
       "       [49.],\n",
       "       [49.],\n",
       "       [49.],\n",
       "       [49.],\n",
       "       [49.],\n",
       "       [49.],\n",
       "       [49.],\n",
       "       [49.],\n",
       "       [49.],\n",
       "       [49.],\n",
       "       [49.],\n",
       "       [49.],\n",
       "       [49.],\n",
       "       [49.],\n",
       "       [49.],\n",
       "       [26.],\n",
       "       [26.],\n",
       "       [26.],\n",
       "       [26.]])"
      ]
     },
     "execution_count": 140,
     "metadata": {},
     "output_type": "execute_result"
    }
   ],
   "source": [
    "for data in range(n):\n",
    "        xn_yk_min = np.power(X[data][0] - y_k[0][0], 2) + np.power(X[data][1] - y_k[0][1], 2)\n",
    "        #print(xn_yk_min)\n",
    "        Nd = 0\n",
    "        for node in range(1,K):\n",
    "            xn_yk = np.power(X[data][0] - y_k[node][0], 2) + np.power(X[data][1] - y_k[node][1], 2)\n",
    "            if xn_yk_min > xn_yk:\n",
    "                xn_yk_min = xn_yk\n",
    "                Nd = node\n",
    "        k_n[data] = Nd\n",
    "k_n"
   ]
  },
  {
   "cell_type": "code",
   "execution_count": 142,
   "metadata": {},
   "outputs": [
    {
     "data": {
      "text/plain": [
       "array([-1.])"
      ]
     },
     "execution_count": 142,
     "metadata": {},
     "output_type": "execute_result"
    }
   ],
   "source": [
    "zeta[0]"
   ]
  },
  {
   "cell_type": "code",
   "execution_count": 147,
   "metadata": {
    "scrolled": false
   },
   "outputs": [
    {
     "data": {
      "text/plain": [
       "array([[-2.46313776e+00, -5.74985370e-01],\n",
       "       [-2.41105122e+00, -6.04697670e-01],\n",
       "       [-2.34977185e+00, -6.37612671e-01],\n",
       "       [-2.27861742e+00, -6.73173662e-01],\n",
       "       [-2.19742822e+00, -7.10348265e-01],\n",
       "       [-2.10676811e+00, -7.47594907e-01],\n",
       "       [-2.00801113e+00, -7.82943175e-01],\n",
       "       [-1.90322715e+00, -8.14205134e-01],\n",
       "       [-1.79484763e+00, -8.39274476e-01],\n",
       "       [-1.68519928e+00, -8.56415069e-01],\n",
       "       [-1.57607119e+00, -8.64435394e-01],\n",
       "       [-1.46846800e+00, -8.62702182e-01],\n",
       "       [-1.36260722e+00, -8.51026126e-01],\n",
       "       [-1.25811321e+00, -8.29500669e-01],\n",
       "       [-1.15430503e+00, -7.98370669e-01],\n",
       "       [-1.05047842e+00, -7.57969522e-01],\n",
       "       [-9.46116052e-01, -7.08721344e-01],\n",
       "       [-8.40995929e-01, -6.51177918e-01],\n",
       "       [-7.35196379e-01, -5.86052910e-01],\n",
       "       [-6.29018122e-01, -5.14225246e-01],\n",
       "       [-5.22859478e-01, -4.36702745e-01],\n",
       "       [-4.17087126e-01, -3.54556992e-01],\n",
       "       [-3.11938195e-01, -2.68852371e-01],\n",
       "       [-2.07472596e-01, -1.80592031e-01],\n",
       "       [-1.03575619e-01, -9.06941545e-02],\n",
       "       [ 1.78411819e-06,  9.01192567e-08],\n",
       "       [ 1.03580868e-01,  9.06943453e-02],\n",
       "       [ 2.07484051e-01,  1.80592172e-01],\n",
       "       [ 3.11964335e-01,  2.68852048e-01],\n",
       "       [ 4.17144605e-01,  3.54554784e-01],\n",
       "       [ 5.22979643e-01,  4.36694790e-01],\n",
       "       [ 6.29256368e-01,  5.14202496e-01],\n",
       "       [ 7.35643931e-01,  5.85996585e-01],\n",
       "       [ 8.41791847e-01,  6.51053174e-01],\n",
       "       [ 9.47454511e-01,  7.08470433e-01],\n",
       "       [ 1.05260290e+00,  7.57507946e-01],\n",
       "       [ 1.15747802e+00,  7.97592735e-01],\n",
       "       [ 1.26254927e+00,  8.28303446e-01],\n",
       "       [ 1.36836295e+00,  8.49360814e-01],\n",
       "       [ 1.47529781e+00,  8.60656062e-01],\n",
       "       [ 1.58328347e+00,  8.62333161e-01],\n",
       "       [ 1.69157398e+00,  8.54907688e-01],\n",
       "       [ 1.79868187e+00,  8.39368216e-01],\n",
       "       [ 1.90253908e+00,  8.17190573e-01],\n",
       "       [ 2.00086049e+00,  7.90221975e-01],\n",
       "       [ 2.09158661e+00,  7.60453669e-01],\n",
       "       [ 2.17324470e+00,  7.29757844e-01],\n",
       "       [ 2.24511877e+00,  6.99677131e-01],\n",
       "       [ 2.30721746e+00,  6.71319178e-01],\n",
       "       [ 2.36010662e+00,  6.45356550e-01]])"
      ]
     },
     "execution_count": 147,
     "metadata": {},
     "output_type": "execute_result"
    }
   ],
   "source": [
    "T = 50\n",
    "\n",
    "for time in range(T):\n",
    "    for data in range(n):\n",
    "        for node in range(K):\n",
    "            h_kn[data][node] = np.exp( -1 / (2*np.power(sig_t[time], 2)) * np.power(zn[data]-zeta[node],2))\n",
    "    \n",
    "    for node in range(K):\n",
    "        g_k[node] = np.sum(h_kn[:,node])\n",
    "    \n",
    "    for node in range(K):\n",
    "        for data in range(n):\n",
    "            h_X[data] = h_kn[data][node]*X[data]\n",
    "        y_k[node] = 1/g_k[node] * np.sum(h_X,axis=0)\n",
    "    \n",
    "    for data in range(n):\n",
    "        xn_yk_min = np.power(X[data][0] - y_k[0][0], 2) + np.power(X[data][1] - y_k[0][1], 2)\n",
    "        Nd = 0\n",
    "        for node in range(1,K):\n",
    "            xn_yk = np.power(X[data][0] - y_k[node][0], 2) + np.power(X[data][1] - y_k[node][1], 2)\n",
    "            if xn_yk_min > xn_yk:\n",
    "                xn_yk_min = xn_yk\n",
    "                Nd = node\n",
    "        k_n[data] = Nd\n",
    "        \n",
    "    for data in range(n):\n",
    "        zn[data] = zeta[int(k_n[data])]    \n",
    "    #print(time)\n",
    "    \n",
    "#print(h_kn)\n",
    "#print(g_k)\n",
    "#print(y_k)\n",
    "#print(k_n)\n",
    "y_k"
   ]
  },
  {
   "cell_type": "code",
   "execution_count": 151,
   "metadata": {},
   "outputs": [
    {
     "data": {
      "text/plain": [
       "<function matplotlib.pyplot.show(*args, **kw)>"
      ]
     },
     "execution_count": 151,
     "metadata": {},
     "output_type": "execute_result"
    },
    {
     "data": {
      "image/png": "[encoded data removed]",
      "text/plain": [
       "<Figure size 432x288 with 1 Axes>"
      ]
     },
     "metadata": {
      "needs_background": "light"
     },
     "output_type": "display_data"
    }
   ],
   "source": [
    "plt.plot(x, y,'r:',label=\"y\")\n",
    "plt.plot(y_k[:,0],y_k[:,1])\n",
    "plt.show"
   ]
  },
  {
   "cell_type": "code",
   "execution_count": 145,
   "metadata": {},
   "outputs": [
    {
     "ename": "IndexError",
     "evalue": "arrays used as indices must be of integer (or boolean) type",
     "output_type": "error",
     "traceback": [
      "\u001b[1;31m---------------------------------------------------------------------------\u001b[0m",
      "\u001b[1;31mIndexError\u001b[0m                                Traceback (most recent call last)",
      "\u001b[1;32m<ipython-input-145-412e83542cf2>\u001b[0m in \u001b[0;36m<module>\u001b[1;34m\u001b[0m\n\u001b[1;32m----> 1\u001b[1;33m \u001b[0mzeta\u001b[0m\u001b[1;33m[\u001b[0m\u001b[0mk_n\u001b[0m\u001b[1;33m[\u001b[0m\u001b[0mdata\u001b[0m\u001b[1;33m]\u001b[0m\u001b[1;33m]\u001b[0m\u001b[1;33m\u001b[0m\u001b[1;33m\u001b[0m\u001b[0m\n\u001b[0m",
      "\u001b[1;31mIndexError\u001b[0m: arrays used as indices must be of integer (or boolean) type"
     ]
    }
   ],
   "source": [
    "zeta[k_n[data]]"
   ]
  },
  {
   "cell_type": "code",
   "execution_count": 65,
   "metadata": {},
   "outputs": [
    {
     "data": {
      "text/plain": [
       "array([[-2.97953398, -2.97953398, -2.97953398, ..., -2.97953398,\n",
       "        -2.97953398, -2.97953398],\n",
       "       [-2.97953398, -2.97953398, -2.97953398, ..., -2.97953398,\n",
       "        -2.97953398, -2.97953398],\n",
       "       [-2.97953398, -2.97953398, -2.97953398, ..., -2.97953398,\n",
       "        -2.97953398, -2.97953398],\n",
       "       ...,\n",
       "       [-2.97953398, -2.97953398, -2.97953398, ..., -2.97953398,\n",
       "        -2.97953398, -2.97953398],\n",
       "       [-2.97953398, -2.97953398, -2.97953398, ..., -2.97953398,\n",
       "        -2.97953398, -2.97953398],\n",
       "       [-2.97953398, -2.97953398, -2.97953398, ..., -2.97953398,\n",
       "        -2.97953398, -2.97953398]])"
      ]
     },
     "execution_count": 65,
     "metadata": {},
     "output_type": "execute_result"
    }
   ],
   "source": [
    "np.arange(20)*np.array([2]*20)\n",
    "len(x)\n",
    "np.array([y_k]*len(x))\n"
   ]
  },
  {
   "cell_type": "code",
   "execution_count": 68,
   "metadata": {},
   "outputs": [
    {
     "data": {
      "text/plain": [
       "array([-0.02046602,  0.07953398,  0.17953398,  0.27953398,  0.37953398,\n",
       "        0.47953398,  0.57953398,  0.67953398,  0.77953398,  0.87953398,\n",
       "        0.97953398,  1.07953398,  1.17953398,  1.27953398,  1.37953398,\n",
       "        1.47953398,  1.57953398,  1.67953398,  1.77953398,  1.87953398,\n",
       "        1.97953398,  2.07953398,  2.17953398,  2.27953398,  2.37953398,\n",
       "        2.47953398,  2.57953398,  2.67953398,  2.77953398,  2.87953398,\n",
       "        2.97953398,  3.07953398,  3.17953398,  3.27953398,  3.37953398,\n",
       "        3.47953398,  3.57953398,  3.67953398,  3.77953398,  3.87953398,\n",
       "        3.97953398,  4.07953398,  4.17953398,  4.27953398,  4.37953398,\n",
       "        4.47953398,  4.57953398,  4.67953398,  4.77953398,  4.87953398,\n",
       "        4.97953398,  5.07953398,  5.17953398,  5.27953398,  5.37953398,\n",
       "        5.47953398,  5.57953398,  5.67953398,  5.77953398,  5.87953398])"
      ]
     },
     "execution_count": 68,
     "metadata": {},
     "output_type": "execute_result"
    }
   ],
   "source": [
    "x - y_kn"
   ]
  }
 ],
 "metadata": {
  "kernelspec": {
   "display_name": "Python 3",
   "language": "python",
   "name": "python3"
  },
  "language_info": {
   "codemirror_mode": {
    "name": "ipython",
    "version": 3
   },
   "file_extension": ".py",
   "mimetype": "text/x-python",
   "name": "python",
   "nbconvert_exporter": "python",
   "pygments_lexer": "ipython3",
   "version": "3.7.3"
  }
 },
 "nbformat": 4,
 "nbformat_minor": 2
}
