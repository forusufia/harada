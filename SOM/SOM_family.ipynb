{
 "cells": [
  {
   "cell_type": "code",
   "execution_count": 11,
   "metadata": {},
   "outputs": [],
   "source": [
    "import numpy as np\n",
    "import pandas as pd\n",
    "import matplotlib.pyplot as plt\n",
    "%matplotlib inline\n",
    "import sklearn #機械学習のライブラリ"
   ]
  },
  {
   "cell_type": "code",
   "execution_count": 54,
   "metadata": {},
   "outputs": [
    {
     "data": {
      "text/plain": [
       "60"
      ]
     },
     "execution_count": 54,
     "metadata": {},
     "output_type": "execute_result"
    }
   ],
   "source": [
    "x = np.arange(-3, 3, 0.1)\n",
    "len(x)"
   ]
  },
  {
   "cell_type": "code",
   "execution_count": 13,
   "metadata": {},
   "outputs": [],
   "source": [
    "y = np.sin(x)"
   ]
  },
  {
   "cell_type": "code",
   "execution_count": 14,
   "metadata": {},
   "outputs": [
    {
     "data": {
      "image/png": "[encoded data removed]",
      "text/plain": [
       "<Figure size 432x288 with 1 Axes>"
      ]
     },
     "metadata": {
      "needs_background": "light"
     },
     "output_type": "display_data"
    }
   ],
   "source": [
    "plt.plot(x, y,'r:',label=\"y\")\n",
    "plt.title('three function')\n",
    "plt.legend()\n",
    "plt.show()"
   ]
  },
  {
   "cell_type": "code",
   "execution_count": 55,
   "metadata": {},
   "outputs": [
    {
     "name": "stdout",
     "output_type": "stream",
     "text": [
      "[1.0, 0.96, 0.884, 0.7814, 0.66512, 0.54884, 0.444188, 0.3587222, 0.29523332, 0.25237832600000004, 0.22618916300000003, 0.21178512335000002, 0.20471404934, 0.201649917269, 0.2004949751807, 0.200123743795175, 0.200024748759035, 0.20000371231385525, 0.20000037123138553, 0.2000000185615693, 0.2, 0.2, 0.2, 0.2, 0.2, 0.2, 0.2, 0.2, 0.2, 0.2, 0.2, 0.2, 0.2, 0.2, 0.2, 0.2, 0.2, 0.2, 0.2, 0.2, 0.2, 0.2, 0.2, 0.2, 0.2, 0.2, 0.2, 0.2, 0.2, 0.2, 0.2, 0.2, 0.2, 0.2, 0.2, 0.2, 0.2, 0.2, 0.2, 0.2]\n"
     ]
    },
    {
     "data": {
      "text/plain": [
       "60"
      ]
     },
     "execution_count": 55,
     "metadata": {},
     "output_type": "execute_result"
    }
   ],
   "source": [
    "sig_zero = 1.0\n",
    "sig_min = 0.2\n",
    "Tau = 20.0\n",
    "sig = 0\n",
    "sig_t = []\n",
    "\n",
    "#for sig > sig_min:\n",
    "for t in range(60):\n",
    "    sig_max = sig_zero-(sig_zero-sig_min) * t / Tau\n",
    "    if sig_max > sig_min:\n",
    "        sig = sig_max\n",
    "    else:\n",
    "        sig = sig_min\n",
    "    sig_t.append(sig)\n",
    "    sig_zero = sig_max\n",
    "print(sig_t)\n",
    "len(sig_t)"
   ]
  },
  {
   "cell_type": "code",
   "execution_count": 56,
   "metadata": {},
   "outputs": [
    {
     "data": {
      "image/png": "[encoded data removed]",
      "text/plain": [
       "<Figure size 432x288 with 1 Axes>"
      ]
     },
     "metadata": {
      "needs_background": "light"
     },
     "output_type": "display_data"
    }
   ],
   "source": [
    "a = np.arange(60)\n",
    "plt.plot(a, sig_t,'r:',label=\"y\")\n",
    "plt.title('近傍半径スケジュール')\n",
    "plt.legend()\n",
    "plt.show()"
   ]
  },
  {
   "cell_type": "code",
   "execution_count": 57,
   "metadata": {
    "scrolled": true
   },
   "outputs": [
    {
     "name": "stdout",
     "output_type": "stream",
     "text": [
      "[[-1.        ]\n",
      " [-0.95918367]\n",
      " [-0.91836735]\n",
      " [-0.87755102]\n",
      " [-0.83673469]\n",
      " [-0.79591837]\n",
      " [-0.75510204]\n",
      " [-0.71428571]\n",
      " [-0.67346939]\n",
      " [-0.63265306]\n",
      " [-0.59183673]\n",
      " [-0.55102041]\n",
      " [-0.51020408]\n",
      " [-0.46938776]\n",
      " [-0.42857143]\n",
      " [-0.3877551 ]\n",
      " [-0.34693878]\n",
      " [-0.30612245]\n",
      " [-0.26530612]\n",
      " [-0.2244898 ]\n",
      " [-0.18367347]\n",
      " [-0.14285714]\n",
      " [-0.10204082]\n",
      " [-0.06122449]\n",
      " [-0.02040816]\n",
      " [ 0.02040816]\n",
      " [ 0.06122449]\n",
      " [ 0.10204082]\n",
      " [ 0.14285714]\n",
      " [ 0.18367347]\n",
      " [ 0.2244898 ]\n",
      " [ 0.26530612]\n",
      " [ 0.30612245]\n",
      " [ 0.34693878]\n",
      " [ 0.3877551 ]\n",
      " [ 0.42857143]\n",
      " [ 0.46938776]\n",
      " [ 0.51020408]\n",
      " [ 0.55102041]\n",
      " [ 0.59183673]\n",
      " [ 0.63265306]\n",
      " [ 0.67346939]\n",
      " [ 0.71428571]\n",
      " [ 0.75510204]\n",
      " [ 0.79591837]\n",
      " [ 0.83673469]\n",
      " [ 0.87755102]\n",
      " [ 0.91836735]\n",
      " [ 0.95918367]\n",
      " [ 1.        ]]\n"
     ]
    }
   ],
   "source": [
    "K = 50\n",
    "l = 1\n",
    "zeta = np.linspace(-1,1,K)\n",
    "zeta = np.reshape(zeta, (50,1))\n",
    "print(zeta)"
   ]
  },
  {
   "cell_type": "code",
   "execution_count": 59,
   "metadata": {
    "collapsed": true
   },
   "outputs": [
    {
     "data": {
      "text/plain": [
       "array([[ 1.1741135 ],\n",
       "       [ 1.27362612],\n",
       "       [ 1.15150255],\n",
       "       [ 1.13715078],\n",
       "       [ 1.59935643],\n",
       "       [ 1.35447082],\n",
       "       [ 1.41037153],\n",
       "       [ 1.21234825],\n",
       "       [ 1.20392246],\n",
       "       [ 1.38049145],\n",
       "       [ 0.74439636],\n",
       "       [ 1.53143369],\n",
       "       [ 0.59618042],\n",
       "       [ 1.34520278],\n",
       "       [ 1.0258467 ],\n",
       "       [ 0.50439977],\n",
       "       [ 1.07582279],\n",
       "       [ 0.95667307],\n",
       "       [ 1.07890138],\n",
       "       [ 0.67481742],\n",
       "       [ 0.80390242],\n",
       "       [ 0.33553987],\n",
       "       [ 1.06590344],\n",
       "       [ 0.89548981],\n",
       "       [ 0.51527673],\n",
       "       [ 0.0398692 ],\n",
       "       [ 0.78601055],\n",
       "       [-0.08733368],\n",
       "       [ 0.36047174],\n",
       "       [ 0.71898984],\n",
       "       [ 0.70584101],\n",
       "       [ 0.72980695],\n",
       "       [ 0.14777298],\n",
       "       [ 0.60333002],\n",
       "       [-0.2468067 ],\n",
       "       [-0.05111899],\n",
       "       [-0.01489675],\n",
       "       [-0.27764642],\n",
       "       [-0.09863019],\n",
       "       [ 0.00918284],\n",
       "       [-0.11627551],\n",
       "       [ 0.25889114],\n",
       "       [ 0.09001328],\n",
       "       [-0.24516871],\n",
       "       [-0.06283799],\n",
       "       [-0.32814628],\n",
       "       [-0.21780183],\n",
       "       [ 0.01701105],\n",
       "       [ 0.02572056],\n",
       "       [-0.90306652]])"
      ]
     },
     "execution_count": 59,
     "metadata": {},
     "output_type": "execute_result"
    }
   ],
   "source": [
    "zn - zeta"
   ]
  },
  {
   "cell_type": "code",
   "execution_count": 77,
   "metadata": {},
   "outputs": [
    {
     "name": "stdout",
     "output_type": "stream",
     "text": [
      "[1.09217963e-006 3.39730908e-007 2.34978441e-008 1.72222824e-010\n",
      " 3.33967481e-014 1.61616261e-020 6.08141350e-031 4.68685002e-047\n",
      " 4.00466287e-069 2.52364317e-094 2.97093670e-117 1.21134996e-133\n",
      " 5.52680113e-143 2.43407444e-147 4.92431958e-149 1.38551672e-149\n",
      " 9.86804513e-150 9.18088492e-150 9.07622092e-150 9.06524261e-150\n",
      " 9.06466517e-150 9.06466517e-150 9.06466517e-150 9.06466517e-150\n",
      " 9.06466517e-150 9.06466517e-150 9.06466517e-150 9.06466517e-150\n",
      " 9.06466517e-150 9.06466517e-150 9.06466517e-150 9.06466517e-150\n",
      " 9.06466517e-150 9.06466517e-150 9.06466517e-150 9.06466517e-150\n",
      " 9.06466517e-150 9.06466517e-150 9.06466517e-150 9.06466517e-150\n",
      " 9.06466517e-150 9.06466517e-150 9.06466517e-150 9.06466517e-150\n",
      " 9.06466517e-150 9.06466517e-150 9.06466517e-150 9.06466517e-150\n",
      " 9.06466517e-150 9.06466517e-150 9.06466517e-150 9.06466517e-150\n",
      " 9.06466517e-150 9.06466517e-150 9.06466517e-150 9.06466517e-150\n",
      " 9.06466517e-150 9.06466517e-150 9.06466517e-150 9.06466517e-150]\n",
      "1.4555806336589286e-06\n",
      "-2.9733959501214255\n",
      "0\n"
     ]
    }
   ],
   "source": [
    "zn = np.random.rand(50)\n",
    "zn = np.reshape(zn, (50,1))\n",
    "\n",
    "T = 50\n",
    "for i in range(T):\n",
    "    h_kn = np.exp(-1/(2*np.power(sig_t, 2))*np.power(np.linalg.norm(zn - zeta,ord=2), 2))\n",
    "    \n",
    "    g_k = np.sum(h_kn)\n",
    "    \n",
    "    y_k = 1/g_k * np.sum(h_kn*x)\n",
    "    \n",
    "    y_kn = np.array([y_k]*len(x))\n",
    "    \n",
    "    k_n = np.argmin(np.power(np.linalg.norm(x - y_kn,ord=2), 2))\n",
    "\n",
    "print(h_kn)\n",
    "print(g_k)\n",
    "print(y_k)\n",
    "print(k_n)"
   ]
  },
  {
   "cell_type": "code",
   "execution_count": 65,
   "metadata": {},
   "outputs": [
    {
     "data": {
      "text/plain": [
       "array([[-2.97953398, -2.97953398, -2.97953398, ..., -2.97953398,\n",
       "        -2.97953398, -2.97953398],\n",
       "       [-2.97953398, -2.97953398, -2.97953398, ..., -2.97953398,\n",
       "        -2.97953398, -2.97953398],\n",
       "       [-2.97953398, -2.97953398, -2.97953398, ..., -2.97953398,\n",
       "        -2.97953398, -2.97953398],\n",
       "       ...,\n",
       "       [-2.97953398, -2.97953398, -2.97953398, ..., -2.97953398,\n",
       "        -2.97953398, -2.97953398],\n",
       "       [-2.97953398, -2.97953398, -2.97953398, ..., -2.97953398,\n",
       "        -2.97953398, -2.97953398],\n",
       "       [-2.97953398, -2.97953398, -2.97953398, ..., -2.97953398,\n",
       "        -2.97953398, -2.97953398]])"
      ]
     },
     "execution_count": 65,
     "metadata": {},
     "output_type": "execute_result"
    }
   ],
   "source": [
    "np.arange(20)*np.array([2]*20)\n",
    "len(x)\n",
    "np.array([y_k]*len(x))\n"
   ]
  },
  {
   "cell_type": "code",
   "execution_count": 68,
   "metadata": {},
   "outputs": [
    {
     "data": {
      "text/plain": [
       "array([-0.02046602,  0.07953398,  0.17953398,  0.27953398,  0.37953398,\n",
       "        0.47953398,  0.57953398,  0.67953398,  0.77953398,  0.87953398,\n",
       "        0.97953398,  1.07953398,  1.17953398,  1.27953398,  1.37953398,\n",
       "        1.47953398,  1.57953398,  1.67953398,  1.77953398,  1.87953398,\n",
       "        1.97953398,  2.07953398,  2.17953398,  2.27953398,  2.37953398,\n",
       "        2.47953398,  2.57953398,  2.67953398,  2.77953398,  2.87953398,\n",
       "        2.97953398,  3.07953398,  3.17953398,  3.27953398,  3.37953398,\n",
       "        3.47953398,  3.57953398,  3.67953398,  3.77953398,  3.87953398,\n",
       "        3.97953398,  4.07953398,  4.17953398,  4.27953398,  4.37953398,\n",
       "        4.47953398,  4.57953398,  4.67953398,  4.77953398,  4.87953398,\n",
       "        4.97953398,  5.07953398,  5.17953398,  5.27953398,  5.37953398,\n",
       "        5.47953398,  5.57953398,  5.67953398,  5.77953398,  5.87953398])"
      ]
     },
     "execution_count": 68,
     "metadata": {},
     "output_type": "execute_result"
    }
   ],
   "source": [
    "x - y_kn"
   ]
  }
 ],
 "metadata": {
  "kernelspec": {
   "display_name": "Python 3",
   "language": "python",
   "name": "python3"
  },
  "language_info": {
   "codemirror_mode": {
    "name": "ipython",
    "version": 3
   },
   "file_extension": ".py",
   "mimetype": "text/x-python",
   "name": "python",
   "nbconvert_exporter": "python",
   "pygments_lexer": "ipython3",
   "version": "3.7.3"
  }
 },
 "nbformat": 4,
 "nbformat_minor": 2
}
