{
 "cells": [
  {
   "cell_type": "code",
   "execution_count": 2,
   "metadata": {},
   "outputs": [],
   "source": [
    "import numpy as np\n",
    "import matplotlib.pyplot as plt"
   ]
  },
  {
   "cell_type": "code",
   "execution_count": 7,
   "metadata": {},
   "outputs": [],
   "source": [
    "resolution = 5\n",
    "resolution2 = 5\n",
    "D = 2\n",
    "data = np.meshgrid(np.linspace(-1, 1, resolution), np.linspace(1, -1, resolution2))\n",
    "data = np.dstack(data)\n",
    "data = data.reshape(resolution * resolution2, D)"
   ]
  },
  {
   "cell_type": "code",
   "execution_count": 32,
   "metadata": {},
   "outputs": [],
   "source": [
    "x = np.arange(0, 1.05, 0.05)\n",
    "x = np.reshape(x, (len(x), 1))\n",
    "\n",
    "y = (-0.2*x)+0.2\n",
    "y = np.reshape(y, (len(y), 1))\n",
    "\n",
    "dat = np.concatenate([x,y], axis=1)\n",
    "\n",
    "a = np.arange(0, 1, 0.05)\n",
    "a = np.reshape(a, (len(a), 1))\n",
    "\n",
    "b = np.array([0]*20)\n",
    "b = np.reshape(b, (len(b), 1))\n",
    "\n",
    "c = np.concatenate([a,b], axis=1)\n",
    "\n",
    "data = np.concatenate([dat, c], axis = 0)"
   ]
  },
  {
   "cell_type": "code",
   "execution_count": 80,
   "metadata": {
    "scrolled": true
   },
   "outputs": [
    {
     "data": {
      "text/plain": [
       "41"
      ]
     },
     "execution_count": 80,
     "metadata": {},
     "output_type": "execute_result"
    }
   ],
   "source": [
    "np.size(data, axis=0)"
   ]
  },
  {
   "cell_type": "code",
   "execution_count": 85,
   "metadata": {},
   "outputs": [],
   "source": [
    "da = np.zeros((41, 2))\n",
    "for i in range(41):\n",
    "    da[i] = np.array([1.5,i/41])"
   ]
  },
  {
   "cell_type": "code",
   "execution_count": 87,
   "metadata": {},
   "outputs": [
    {
     "data": {
      "text/plain": [
       "41"
      ]
     },
     "execution_count": 87,
     "metadata": {},
     "output_type": "execute_result"
    }
   ],
   "source": [
    "len(da)"
   ]
  },
  {
   "cell_type": "code",
   "execution_count": 88,
   "metadata": {},
   "outputs": [
    {
     "data": {
      "text/plain": [
       "array([[1.5       , 0.        ],\n",
       "       [1.5       , 0.02439024],\n",
       "       [1.5       , 0.04878049],\n",
       "       [1.5       , 0.07317073],\n",
       "       [1.5       , 0.09756098],\n",
       "       [1.5       , 0.12195122],\n",
       "       [1.5       , 0.14634146],\n",
       "       [1.5       , 0.17073171],\n",
       "       [1.5       , 0.19512195],\n",
       "       [1.5       , 0.2195122 ],\n",
       "       [1.5       , 0.24390244],\n",
       "       [1.5       , 0.26829268],\n",
       "       [1.5       , 0.29268293],\n",
       "       [1.5       , 0.31707317],\n",
       "       [1.5       , 0.34146341],\n",
       "       [1.5       , 0.36585366],\n",
       "       [1.5       , 0.3902439 ],\n",
       "       [1.5       , 0.41463415],\n",
       "       [1.5       , 0.43902439],\n",
       "       [1.5       , 0.46341463],\n",
       "       [1.5       , 0.48780488],\n",
       "       [1.5       , 0.51219512],\n",
       "       [1.5       , 0.53658537],\n",
       "       [1.5       , 0.56097561],\n",
       "       [1.5       , 0.58536585],\n",
       "       [1.5       , 0.6097561 ],\n",
       "       [1.5       , 0.63414634],\n",
       "       [1.5       , 0.65853659],\n",
       "       [1.5       , 0.68292683],\n",
       "       [1.5       , 0.70731707],\n",
       "       [1.5       , 0.73170732],\n",
       "       [1.5       , 0.75609756],\n",
       "       [1.5       , 0.7804878 ],\n",
       "       [1.5       , 0.80487805],\n",
       "       [1.5       , 0.82926829],\n",
       "       [1.5       , 0.85365854],\n",
       "       [1.5       , 0.87804878],\n",
       "       [1.5       , 0.90243902],\n",
       "       [1.5       , 0.92682927],\n",
       "       [1.5       , 0.95121951],\n",
       "       [1.5       , 0.97560976]])"
      ]
     },
     "execution_count": 88,
     "metadata": {},
     "output_type": "execute_result"
    }
   ],
   "source": [
    "da"
   ]
  },
  {
   "cell_type": "code",
   "execution_count": 84,
   "metadata": {},
   "outputs": [
    {
     "data": {
      "text/plain": [
       "array([[1, 2],\n",
       "       [1, 2],\n",
       "       [1, 2],\n",
       "       [1, 2],\n",
       "       [1, 2],\n",
       "       [1, 2],\n",
       "       [1, 2],\n",
       "       [1, 2],\n",
       "       [1, 2],\n",
       "       [1, 2]])"
      ]
     },
     "execution_count": 84,
     "metadata": {},
     "output_type": "execute_result"
    }
   ],
   "source": [
    "da"
   ]
  },
  {
   "cell_type": "code",
   "execution_count": 79,
   "metadata": {},
   "outputs": [
    {
     "data": {
      "image/png": "[encoded data removed]",
      "text/plain": [
       "<Figure size 432x288 with 1 Axes>"
      ]
     },
     "metadata": {
      "needs_background": "light"
     },
     "output_type": "display_data"
    }
   ],
   "source": [
    "plt.scatter(data[:, 0], data[:, 1])\n",
    "plt.show()"
   ]
  },
  {
   "cell_type": "code",
   "execution_count": 99,
   "metadata": {},
   "outputs": [],
   "source": [
    "sigma = 0\n",
    "sigma_max = 1.0\n",
    "sigma_min = 0.05\n",
    "tau = 40\n",
    "sig = np.zeros((60, 2))\n",
    "for t in range(60):\n",
    "    sigma = sigma_max + (sigma_min - sigma_max) * (t / tau)\n",
    "    if sigma < sigma_min:\n",
    "        sigma = sigma_min\n",
    "    sig[t] = [t, sigma]"
   ]
  },
  {
   "cell_type": "code",
   "execution_count": 100,
   "metadata": {},
   "outputs": [
    {
     "data": {
      "text/plain": [
       "array([[0.0000e+00, 1.0000e+00],\n",
       "       [1.0000e+00, 9.7625e-01],\n",
       "       [2.0000e+00, 9.5250e-01],\n",
       "       [3.0000e+00, 9.2875e-01],\n",
       "       [4.0000e+00, 9.0500e-01],\n",
       "       [5.0000e+00, 8.8125e-01],\n",
       "       [6.0000e+00, 8.5750e-01],\n",
       "       [7.0000e+00, 8.3375e-01],\n",
       "       [8.0000e+00, 8.1000e-01],\n",
       "       [9.0000e+00, 7.8625e-01],\n",
       "       [1.0000e+01, 7.6250e-01],\n",
       "       [1.1000e+01, 7.3875e-01],\n",
       "       [1.2000e+01, 7.1500e-01],\n",
       "       [1.3000e+01, 6.9125e-01],\n",
       "       [1.4000e+01, 6.6750e-01],\n",
       "       [1.5000e+01, 6.4375e-01],\n",
       "       [1.6000e+01, 6.2000e-01],\n",
       "       [1.7000e+01, 5.9625e-01],\n",
       "       [1.8000e+01, 5.7250e-01],\n",
       "       [1.9000e+01, 5.4875e-01],\n",
       "       [2.0000e+01, 5.2500e-01],\n",
       "       [2.1000e+01, 5.0125e-01],\n",
       "       [2.2000e+01, 4.7750e-01],\n",
       "       [2.3000e+01, 4.5375e-01],\n",
       "       [2.4000e+01, 4.3000e-01],\n",
       "       [2.5000e+01, 4.0625e-01],\n",
       "       [2.6000e+01, 3.8250e-01],\n",
       "       [2.7000e+01, 3.5875e-01],\n",
       "       [2.8000e+01, 3.3500e-01],\n",
       "       [2.9000e+01, 3.1125e-01],\n",
       "       [3.0000e+01, 2.8750e-01],\n",
       "       [3.1000e+01, 2.6375e-01],\n",
       "       [3.2000e+01, 2.4000e-01],\n",
       "       [3.3000e+01, 2.1625e-01],\n",
       "       [3.4000e+01, 1.9250e-01],\n",
       "       [3.5000e+01, 1.6875e-01],\n",
       "       [3.6000e+01, 1.4500e-01],\n",
       "       [3.7000e+01, 1.2125e-01],\n",
       "       [3.8000e+01, 9.7500e-02],\n",
       "       [3.9000e+01, 7.3750e-02],\n",
       "       [4.0000e+01, 5.0000e-02],\n",
       "       [4.1000e+01, 5.0000e-02],\n",
       "       [4.2000e+01, 5.0000e-02],\n",
       "       [4.3000e+01, 5.0000e-02],\n",
       "       [4.4000e+01, 5.0000e-02],\n",
       "       [4.5000e+01, 5.0000e-02],\n",
       "       [4.6000e+01, 5.0000e-02],\n",
       "       [4.7000e+01, 5.0000e-02],\n",
       "       [4.8000e+01, 5.0000e-02],\n",
       "       [4.9000e+01, 5.0000e-02],\n",
       "       [5.0000e+01, 5.0000e-02],\n",
       "       [5.1000e+01, 5.0000e-02],\n",
       "       [5.2000e+01, 5.0000e-02],\n",
       "       [5.3000e+01, 5.0000e-02],\n",
       "       [5.4000e+01, 5.0000e-02],\n",
       "       [5.5000e+01, 5.0000e-02],\n",
       "       [5.6000e+01, 5.0000e-02],\n",
       "       [5.7000e+01, 5.0000e-02],\n",
       "       [5.8000e+01, 5.0000e-02],\n",
       "       [5.9000e+01, 5.0000e-02]])"
      ]
     },
     "execution_count": 100,
     "metadata": {},
     "output_type": "execute_result"
    }
   ],
   "source": [
    "sig"
   ]
  },
  {
   "cell_type": "code",
   "execution_count": 101,
   "metadata": {},
   "outputs": [
    {
     "data": {
      "image/png": "[encoded data removed]",
      "text/plain": [
       "<Figure size 432x288 with 1 Axes>"
      ]
     },
     "metadata": {
      "needs_background": "light"
     },
     "output_type": "display_data"
    }
   ],
   "source": [
    "plt.plot(sig[:, 0], sig[:, 1])\n",
    "plt.show()"
   ]
  },
  {
   "cell_type": "code",
   "execution_count": 9,
   "metadata": {
    "scrolled": true
   },
   "outputs": [
    {
     "data": {
      "text/plain": [
       "array([[-1. ,  1. ],\n",
       "       [-0.5,  1. ],\n",
       "       [ 0. ,  1. ],\n",
       "       [ 0.5,  1. ],\n",
       "       [ 1. ,  1. ],\n",
       "       [-1. ,  0.5],\n",
       "       [-0.5,  0.5],\n",
       "       [ 0. ,  0.5],\n",
       "       [ 0.5,  0.5],\n",
       "       [ 1. ,  0.5],\n",
       "       [-1. ,  0. ],\n",
       "       [-0.5,  0. ],\n",
       "       [ 0. ,  0. ],\n",
       "       [ 0.5,  0. ],\n",
       "       [ 1. ,  0. ],\n",
       "       [-1. , -0.5],\n",
       "       [-0.5, -0.5],\n",
       "       [ 0. , -0.5],\n",
       "       [ 0.5, -0.5],\n",
       "       [ 1. , -0.5],\n",
       "       [-1. , -1. ],\n",
       "       [-0.5, -1. ],\n",
       "       [ 0. , -1. ],\n",
       "       [ 0.5, -1. ],\n",
       "       [ 1. , -1. ]])"
      ]
     },
     "execution_count": 9,
     "metadata": {},
     "output_type": "execute_result"
    }
   ],
   "source": [
    "data"
   ]
  },
  {
   "cell_type": "code",
   "execution_count": 8,
   "metadata": {},
   "outputs": [
    {
     "data": {
      "image/png": "[encoded data removed]",
      "text/plain": [
       "<Figure size 432x288 with 1 Axes>"
      ]
     },
     "metadata": {
      "needs_background": "light"
     },
     "output_type": "display_data"
    }
   ],
   "source": [
    "plt.scatter(data[:, 0], data[:, 1])\n",
    "plt.show()"
   ]
  },
  {
   "cell_type": "code",
   "execution_count": 14,
   "metadata": {},
   "outputs": [],
   "source": [
    "a = np.array([[-2, 0.5]])"
   ]
  },
  {
   "cell_type": "code",
   "execution_count": 15,
   "metadata": {},
   "outputs": [
    {
     "data": {
      "text/plain": [
       "array([[-1. ,  1. ],\n",
       "       [-0.5,  1. ],\n",
       "       [ 0. ,  1. ],\n",
       "       [ 0.5,  1. ],\n",
       "       [ 1. ,  1. ],\n",
       "       [-1. ,  0.5],\n",
       "       [-0.5,  0.5],\n",
       "       [ 0. ,  0.5],\n",
       "       [ 0.5,  0.5],\n",
       "       [ 1. ,  0.5],\n",
       "       [-1. ,  0. ],\n",
       "       [-0.5,  0. ],\n",
       "       [ 0. ,  0. ],\n",
       "       [ 0.5,  0. ],\n",
       "       [ 1. ,  0. ],\n",
       "       [-1. , -0.5],\n",
       "       [-0.5, -0.5],\n",
       "       [ 0. , -0.5],\n",
       "       [ 0.5, -0.5],\n",
       "       [ 1. , -0.5],\n",
       "       [-1. , -1. ],\n",
       "       [-0.5, -1. ],\n",
       "       [ 0. , -1. ],\n",
       "       [ 0.5, -1. ],\n",
       "       [ 1. , -1. ],\n",
       "       [-2. ,  0.5]])"
      ]
     },
     "execution_count": 15,
     "metadata": {},
     "output_type": "execute_result"
    }
   ],
   "source": [
    "np.concatenate([data, a])"
   ]
  },
  {
   "cell_type": "code",
   "execution_count": 128,
   "metadata": {},
   "outputs": [],
   "source": [
    "x = np.arange(-3.14, 3.14, 0.1)\n",
    "y = np.sin(x)\n",
    "\n",
    "data = np.stack([x, y], 1)"
   ]
  },
  {
   "cell_type": "code",
   "execution_count": 131,
   "metadata": {},
   "outputs": [
    {
     "data": {
      "image/png": "[encoded data removed]",
      "text/plain": [
       "<Figure size 432x288 with 1 Axes>"
      ]
     },
     "metadata": {
      "needs_background": "light"
     },
     "output_type": "display_data"
    }
   ],
   "source": [
    "plt.plot(data[:, 0], data[:, 1])\n",
    "plt.show()"
   ]
  },
  {
   "cell_type": "code",
   "execution_count": 116,
   "metadata": {},
   "outputs": [
    {
     "data": {
      "text/plain": [
       "-0.3048106211022167"
      ]
     },
     "execution_count": 116,
     "metadata": {},
     "output_type": "execute_result"
    }
   ],
   "source": [
    "np.sin()"
   ]
  }
 ],
 "metadata": {
  "kernelspec": {
   "display_name": "Python 3",
   "language": "python",
   "name": "python3"
  },
  "language_info": {
   "codemirror_mode": {
    "name": "ipython",
    "version": 3
   },
   "file_extension": ".py",
   "mimetype": "text/x-python",
   "name": "python",
   "nbconvert_exporter": "python",
   "pygments_lexer": "ipython3",
   "version": "3.7.3"
  }
 },
 "nbformat": 4,
 "nbformat_minor": 2
}
