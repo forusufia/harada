{
 "cells": [
  {
   "cell_type": "markdown",
   "metadata": {},
   "source": [
    "SOM2用にSOMの関数化を行う  \n",
    "import numpy as np  \n",
    "numpy はインポートしてね"
   ]
  },
  {
   "cell_type": "code",
   "execution_count": 1,
   "metadata": {},
   "outputs": [],
   "source": [
    "%matplotlib inline\n",
    "import numpy as np\n",
    "import matplotlib.pyplot as plt"
   ]
  },
  {
   "cell_type": "code",
   "execution_count": 2,
   "metadata": {},
   "outputs": [],
   "source": [
    "#SOM人工データ\n",
    "x = np.arange(-3, 3, 0.1)\n",
    "n = len(x)\n",
    "\n",
    "y = np.sin(x)\n",
    "\n",
    "X = np.stack([x, y], 1)"
   ]
  },
  {
   "cell_type": "code",
   "execution_count": 32,
   "metadata": {},
   "outputs": [],
   "source": [
    "#近傍半径の設定\n",
    "sig_zero = 1.0\n",
    "sig_min = 0.05\n",
    "Tau = 50.0\n",
    "sig = 0\n",
    "sig_t = []\n",
    "\n",
    "#for sig > sig_min:\n",
    "for t in range(n):\n",
    "    sig_max = sig_zero-(sig_zero-sig_min) * t / Tau\n",
    "    if sig_max > sig_min:\n",
    "        sig = sig_max\n",
    "    else:\n",
    "        sig = sig_min\n",
    "    sig_t.append(sig)\n",
    "    sig_zero = sig_max"
   ]
  },
  {
   "cell_type": "code",
   "execution_count": 39,
   "metadata": {},
   "outputs": [],
   "source": [
    "#ノード設定\n",
    "K = 50\n",
    "l = 1\n",
    "zeta = np.linspace(-1,1,K)\n",
    "zeta = np.reshape(zeta, (K,1))  #縦にしておきたい"
   ]
  },
  {
   "cell_type": "code",
   "execution_count": 12,
   "metadata": {},
   "outputs": [],
   "source": [
    "#潜在変数の初期化\n",
    "zn = np.random.rand(n)\n",
    "zn = np.reshape(zn, (n,1)) #縦にしておきたい"
   ]
  },
  {
   "cell_type": "code",
   "execution_count": 6,
   "metadata": {},
   "outputs": [
    {
     "data": {
      "text/plain": [
       "60"
      ]
     },
     "execution_count": 6,
     "metadata": {},
     "output_type": "execute_result"
    }
   ],
   "source": [
    "#学習率初期設定\n",
    "h_kn = np.zeros((n,K))\n",
    "#np.size(h_kn,axis=0)"
   ]
  },
  {
   "cell_type": "code",
   "execution_count": 7,
   "metadata": {},
   "outputs": [],
   "source": [
    "#ノード毎学習率合計変数の初期設定\n",
    "g_k = np.zeros((K))\n",
    "g_k = np.reshape(g_k,(K,1))"
   ]
  },
  {
   "cell_type": "code",
   "execution_count": 13,
   "metadata": {},
   "outputs": [],
   "source": [
    "#参照ベクトル計算の中で使う変数の初期設定\n",
    "h_X = np.zeros((n,2))"
   ]
  },
  {
   "cell_type": "code",
   "execution_count": 14,
   "metadata": {},
   "outputs": [],
   "source": [
    "#参照ベクトル初期設定\n",
    "y_k = np.zeros((K,2))"
   ]
  },
  {
   "cell_type": "code",
   "execution_count": 16,
   "metadata": {},
   "outputs": [],
   "source": [
    "#潜在変数計算の中で使う\n",
    "xn_yk = np.zeros((K))"
   ]
  },
  {
   "cell_type": "code",
   "execution_count": 15,
   "metadata": {},
   "outputs": [],
   "source": [
    "#潜在変数初期設定\n",
    "k_n = np.zeros((n))\n",
    "k_n = np.reshape(k_n, (n,1))"
   ]
  },
  {
   "cell_type": "code",
   "execution_count": 33,
   "metadata": {},
   "outputs": [
    {
     "data": {
      "text/plain": [
       "<Figure size 432x288 with 0 Axes>"
      ]
     },
     "metadata": {},
     "output_type": "display_data"
    }
   ],
   "source": [
    "T = 60\n",
    "fig = plt.figure()\n",
    "ims = []\n",
    "\n",
    "for time in range(T):\n",
    "    for data in range(n):\n",
    "        for node in range(K):\n",
    "            h_kn[data][node] = np.exp( -1 / (2*np.power(sig_t[time], 2)) * np.power(zn[data]-zeta[node],2))\n",
    "    \n",
    "    for node in range(K):\n",
    "        g_k[node] = np.sum(h_kn[:,node])\n",
    "    \n",
    "    for node in range(K):\n",
    "        for data in range(n):\n",
    "            h_X[data] = h_kn[data][node]*X[data]\n",
    "        y_k[node] = 1/g_k[node] * np.sum(h_X,axis=0)\n",
    "    \n",
    "    for data in range(n):\n",
    "        xn_yk_min = np.power(X[data][0] - y_k[0][0], 2) + np.power(X[data][1] - y_k[0][1], 2)\n",
    "        Nd = 0\n",
    "        for node in range(1,K):\n",
    "            xn_yk = np.power(X[data][0] - y_k[node][0], 2) + np.power(X[data][1] - y_k[node][1], 2)\n",
    "            if xn_yk_min > xn_yk:\n",
    "                xn_yk_min = xn_yk\n",
    "                Nd = node\n",
    "        k_n[data] = Nd\n",
    "        \n",
    "    for data in range(n):\n",
    "        zn[data] = zeta[int(k_n[data])]    \n",
    "    #print(time)\n",
    "    #im = plt.plot(y_k[:,0],y_k[:,1])\n",
    "    #ims.append(im)\n",
    "    \n",
    "#print(h_kn)\n",
    "#print(g_k)\n",
    "#print(y_k)\n",
    "#print(k_n)"
   ]
  },
  {
   "cell_type": "code",
   "execution_count": 34,
   "metadata": {},
   "outputs": [
    {
     "data": {
      "image/png": "[encoded data removed]",
      "text/plain": [
       "<Figure size 432x288 with 1 Axes>"
      ]
     },
     "metadata": {
      "needs_background": "light"
     },
     "output_type": "display_data"
    }
   ],
   "source": [
    "#ani = animation.ArtistAnimation(fig, ims, interval = 100)\n",
    "plt.plot(x, y,'r:',label = \"data\")\n",
    "plt.plot(y_k[:,0],y_k[:,1], label = \"SOM\")\n",
    "plt.legend()\n",
    "plt.show()"
   ]
  },
  {
   "cell_type": "markdown",
   "metadata": {},
   "source": [
    "関数の作り方"
   ]
  },
  {
   "cell_type": "code",
   "execution_count": 35,
   "metadata": {},
   "outputs": [],
   "source": [
    "def add(x,y):\n",
    "    print(x+y)"
   ]
  },
  {
   "cell_type": "code",
   "execution_count": 36,
   "metadata": {},
   "outputs": [
    {
     "name": "stdout",
     "output_type": "stream",
     "text": [
      "8\n"
     ]
    }
   ],
   "source": [
    "add(3 ,5)"
   ]
  },
  {
   "cell_type": "code",
   "execution_count": 37,
   "metadata": {},
   "outputs": [],
   "source": [
    "def add(x ,y):\n",
    "    ans = x + y\n",
    "    return ans"
   ]
  },
  {
   "cell_type": "code",
   "execution_count": 38,
   "metadata": {},
   "outputs": [
    {
     "data": {
      "text/plain": [
       "8"
      ]
     },
     "execution_count": 38,
     "metadata": {},
     "output_type": "execute_result"
    }
   ],
   "source": [
    "n = add(3 ,5)\n",
    "n"
   ]
  },
  {
   "cell_type": "code",
   "execution_count": 40,
   "metadata": {},
   "outputs": [
    {
     "data": {
      "text/plain": [
       "60"
      ]
     },
     "execution_count": 40,
     "metadata": {},
     "output_type": "execute_result"
    }
   ],
   "source": [
    "n = np.size(X, axis = 0)\n",
    "n"
   ]
  },
  {
   "cell_type": "code",
   "execution_count": 41,
   "metadata": {},
   "outputs": [],
   "source": [
    "def SOM(X):\n",
    "    n = np.size(X, axis = 0)\n",
    "    \n",
    "    #近傍半径の設定\n",
    "    sig_zero = 1.0\n",
    "    sig_min = 0.05\n",
    "    Tau = 50.0\n",
    "    sig = 0\n",
    "    sig_t = []\n",
    "\n",
    "    #for sig > sig_min:\n",
    "    for t in range(n):\n",
    "        sig_max = sig_zero-(sig_zero-sig_min) * t / Tau\n",
    "        if sig_max > sig_min:\n",
    "            sig = sig_max\n",
    "        else:\n",
    "            sig = sig_min\n",
    "        sig_t.append(sig)\n",
    "        sig_zero = sig_max\n",
    "\n",
    "    #ノード設定\n",
    "    K = 50\n",
    "    l = 1\n",
    "    zeta = np.linspace(-1,1,K)\n",
    "    zeta = np.reshape(zeta, (K,1))  #縦にしておきたい\n",
    "\n",
    "    #潜在変数の初期化\n",
    "    zn = np.random.rand(n)\n",
    "    zn = np.reshape(zn, (n,1)) #縦にしておきたい\n",
    "\n",
    "    #学習率初期設定\n",
    "    h_kn = np.zeros((n,K))\n",
    "    #np.size(h_kn,axis=0)\n",
    "\n",
    "    #ノード毎学習率合計変数の初期設定\n",
    "    g_k = np.zeros((K))\n",
    "    g_k = np.reshape(g_k,(K,1))\n",
    "\n",
    "    #参照ベクトル計算の中で使う変数の初期設定\n",
    "    h_X = np.zeros((n,2))\n",
    "\n",
    "    #参照ベクトル初期設定\n",
    "    y_k = np.zeros((K,2))\n",
    "\n",
    "    #潜在変数計算の中で使う\n",
    "    xn_yk = np.zeros((K))\n",
    "\n",
    "    #潜在変数初期設定\n",
    "    k_n = np.zeros((n))\n",
    "    k_n = np.reshape(k_n, (n,1))\n",
    "\n",
    "    T = 60\n",
    "    fig = plt.figure()\n",
    "    ims = []\n",
    "\n",
    "    for time in range(T):\n",
    "        for data in range(n):\n",
    "            for node in range(K):\n",
    "                h_kn[data][node] = np.exp( -1 / (2*np.power(sig_t[time], 2)) * np.power(zn[data]-zeta[node],2))\n",
    "\n",
    "        for node in range(K):\n",
    "            g_k[node] = np.sum(h_kn[:,node])\n",
    "\n",
    "        for node in range(K):\n",
    "            for data in range(n):\n",
    "                h_X[data] = h_kn[data][node]*X[data]\n",
    "            y_k[node] = 1/g_k[node] * np.sum(h_X,axis=0)\n",
    "\n",
    "        for data in range(n):\n",
    "            xn_yk_min = np.power(X[data][0] - y_k[0][0], 2) + np.power(X[data][1] - y_k[0][1], 2)\n",
    "            Nd = 0\n",
    "            for node in range(1,K):\n",
    "                xn_yk = np.power(X[data][0] - y_k[node][0], 2) + np.power(X[data][1] - y_k[node][1], 2)\n",
    "                if xn_yk_min > xn_yk:\n",
    "                    xn_yk_min = xn_yk\n",
    "                    Nd = node\n",
    "            k_n[data] = Nd\n",
    "\n",
    "        for data in range(n):\n",
    "            zn[data] = zeta[int(k_n[data])]    \n",
    "            \n",
    "    return y_k"
   ]
  },
  {
   "cell_type": "code",
   "execution_count": 42,
   "metadata": {},
   "outputs": [
    {
     "data": {
      "text/plain": [
       "<Figure size 432x288 with 0 Axes>"
      ]
     },
     "metadata": {},
     "output_type": "display_data"
    }
   ],
   "source": [
    "y_k = SOM(X)"
   ]
  },
  {
   "cell_type": "code",
   "execution_count": 43,
   "metadata": {
    "scrolled": true
   },
   "outputs": [
    {
     "data": {
      "image/png": "[encoded data removed]",
      "text/plain": [
       "<Figure size 432x288 with 1 Axes>"
      ]
     },
     "metadata": {
      "needs_background": "light"
     },
     "output_type": "display_data"
    }
   ],
   "source": [
    "#ani = animation.ArtistAnimation(fig, ims, interval = 100)\n",
    "plt.plot(x, y,'r:',label = \"data\")\n",
    "plt.plot(y_k[:,0],y_k[:,1], label = \"SOM\")\n",
    "plt.legend()\n",
    "plt.show()"
   ]
  },
  {
   "cell_type": "code",
   "execution_count": 46,
   "metadata": {},
   "outputs": [],
   "source": [
    "y_k = np.loadtxt(\"data1.txt\")"
   ]
  },
  {
   "cell_type": "code",
   "execution_count": 87,
   "metadata": {},
   "outputs": [
    {
     "data": {
      "text/plain": [
       "[array([-1.41563962, -1.43136825]), array([-1.73724228, -1.66246434])]"
      ]
     },
     "execution_count": 87,
     "metadata": {},
     "output_type": "execute_result"
    }
   ],
   "source": [
    "Y=[]\n",
    "Y.append(y_k[0])\n",
    "Y.append(y_k[1])\n",
    "Y"
   ]
  },
  {
   "cell_type": "code",
   "execution_count": 60,
   "metadata": {},
   "outputs": [
    {
     "data": {
      "text/plain": [
       "[-1.41563961742582, -1.43136825164061, -1.73724228373245, -1.66246433580369]"
      ]
     },
     "execution_count": 60,
     "metadata": {},
     "output_type": "execute_result"
    }
   ],
   "source": [
    "Y2=[]\n",
    "Y2.extend(y_k[0])\n",
    "Y2.extend(y_k[1])\n",
    "Y2"
   ]
  },
  {
   "cell_type": "code",
   "execution_count": 95,
   "metadata": {},
   "outputs": [
    {
     "data": {
      "text/plain": [
       "array([-1.41563962, -1.43136825, -1.73724228, -1.66246434, -1.858045  ,\n",
       "       -0.82161436, -0.75274065, -2.24195132, -1.72765216, -0.84762343,\n",
       "       -1.45068175, -1.17775457, -0.83158783, -1.85565667, -1.54341245,\n",
       "       -1.29835997, -2.07367541, -0.48941027, -1.98338758, -0.69624346,\n",
       "       -1.76956623, -1.0231239 , -1.52431139, -1.83289514, -1.61070219,\n",
       "       -1.35235595, -2.04221954, -0.58674887, -2.00541067, -0.72211807,\n",
       "       -0.61879397, -2.15144682, -2.09480001, -0.47037368, -1.6373207 ,\n",
       "       -1.51807748, -1.3676448 , -1.25364737, -1.52017051, -1.22873109,\n",
       "       -1.40340714, -1.52224028, -1.4550898 , -1.13661169, -1.560612  ,\n",
       "       -1.36054687, -1.62543933, -2.2767493 , -1.50614759, -1.91853528,\n",
       "       -1.07625859, -1.96653757, -0.87886261, -2.46247976, -1.34882013,\n",
       "       -2.41568875, -1.14104278, -1.57971415, -1.80459488, -1.24941003,\n",
       "       -1.83339199, -1.31532157, -1.26661297, -2.01638979, -2.09392918,\n",
       "       -0.48151858, -1.41286613, -1.68613987, -1.78417462, -1.28593473,\n",
       "       -1.32839103, -2.14355308, -1.22692557, -2.42051696, -1.38876628,\n",
       "       -2.493321  , -1.33659654, -1.70114703, -1.828861  , -0.75863786,\n",
       "       -1.93726107, -1.09694345, -1.14857886, -1.5529035 , -1.83144149,\n",
       "       -1.38624583, -1.23645289, -2.09609451, -1.87698644, -1.38136399,\n",
       "       -1.50161314, -1.55302988, -1.3159984 , -1.56577147, -1.15311253,\n",
       "       -1.54035225, -1.76095847, -0.7954636 , -1.88089427, -0.78632964,\n",
       "       -1.95395639, -0.78213254, -1.68474736, -0.87842457, -1.42329924,\n",
       "       -1.73931478, -2.07604673, -0.49125206, -1.9531212 , -0.90330805,\n",
       "       -1.52680393, -1.70111438, -1.69730442, -2.10932218, -1.07791559,\n",
       "       -1.65159967, -1.32920594, -1.88203458, -1.39817069, -1.29599123,\n",
       "       -1.42216302, -2.53634043, -1.6636124 , -1.21637233, -1.5330433 ,\n",
       "       -1.15801621, -1.91956513, -0.77598831, -1.71665602, -1.2456587 ,\n",
       "       -0.77146623, -2.46165889, -1.64747218, -1.72656669, -0.95229425,\n",
       "       -2.22704637, -2.05384204, -0.64485162, -1.71814814, -1.2514656 ,\n",
       "       -1.62687681, -0.99900105, -1.86689532, -0.72288264, -1.65236408,\n",
       "       -1.75807842, -1.61891587, -1.15480886, -1.83066494, -1.44498791,\n",
       "       -1.98169921, -0.74273915, -2.0938094 , -0.48490224, -1.52744042,\n",
       "       -1.62168292, -1.59469424, -2.11357927, -1.67938242, -1.25844418,\n",
       "       -1.38480763, -2.2455294 , -1.49266372, -1.4281704 , -1.11716671,\n",
       "       -2.01422034, -1.36323472, -1.92871392, -0.74678759, -2.24972675,\n",
       "       -0.42737148, -2.11119311, -1.93364845, -0.96296731, -1.46976249,\n",
       "       -1.1879401 , -1.5325351 , -1.51531316, -0.67697611, -2.27834926,\n",
       "       -1.86340604, -1.24064015, -1.33125841, -2.38477735, -1.66416444,\n",
       "       -2.01204201, -1.30437648, -2.04692411, -1.93907976, -1.06732687,\n",
       "       -1.57135581, -1.41356884, -1.27525336, -2.11420237, -1.49179417,\n",
       "       -1.1345456 , -1.71482947, -1.20635627, -1.55577896, -2.12788717,\n",
       "       -0.8344137 , -1.95752996, -0.96800741, -2.02458057, -2.0607639 ,\n",
       "       -0.54601063, -1.94348359, -0.96204511, -1.67881929, -1.29059776,\n",
       "       -1.52385674, -1.23135268, -0.92066186, -2.41455496, -1.82108014,\n",
       "       -0.73833071, -1.41791717, -1.20270048, -1.40406157, -1.30845793,\n",
       "       -1.43122973, -1.41217286, -0.80063661, -1.68743132, -2.07543798,\n",
       "       -0.53762967, -1.73941252, -1.26307535, -1.60399979, -1.97830762,\n",
       "       -1.47889064, -1.21315488, -1.81603971, -1.18066859, -1.73271227,\n",
       "       -1.15946658, -0.74252749, -2.41544196, -1.49228696, -1.27462912,\n",
       "       -1.68883092, -1.14503014, -1.99916593, -0.75544267, -1.30479395,\n",
       "       -2.1147647 , -1.94342884, -0.75611982, -1.84526713, -1.31425942,\n",
       "       -1.14355568, -1.56896423, -1.79455561, -0.75023067, -1.12413322,\n",
       "       -1.39783633, -1.46487405, -1.46225341, -1.03638623, -2.18589086,\n",
       "       -1.97445712, -0.95550828, -1.73162593, -1.03371322, -1.72012029,\n",
       "       -1.75662119, -1.10438652, -2.53412242, -0.82077273, -1.88486184,\n",
       "       -1.99440565, -0.80940567, -1.67262516, -0.95434474, -1.46649597,\n",
       "       -2.3307657 , -1.00999413, -2.22836439, -1.20930489, -1.51128663,\n",
       "       -1.20903415, -2.04350169, -1.05856842, -1.65180955, -1.15294404,\n",
       "       -1.97056878, -1.98263238, -0.77904632, -1.04047046, -2.5669735 ,\n",
       "       -1.0828298 , -1.88723392, -1.45761777, -1.68261955, -1.15120207,\n",
       "       -1.51765219, -1.76155489, -1.19803412, -2.04755334, -0.59673636,\n",
       "       -1.99000779, -0.60415433, -2.05502664, -0.60136416, -1.96936657,\n",
       "       -0.77469665, -2.08412845, -0.48156875, -1.4332726 , -2.73500544,\n",
       "       -1.47183801, -1.17331153, -1.20774596, -2.64604958, -1.38394435,\n",
       "       -1.53738733, -1.76418782, -1.60315987, -0.4565897 , -2.09805108,\n",
       "       -1.76156375, -1.24832336, -1.41457263, -1.17356946, -1.53816848,\n",
       "       -1.55549518, -1.60048826, -1.97430242, -1.4978762 , -1.37908055,\n",
       "       -1.84087819, -0.97457877, -1.53408505, -2.73977311, -1.57702635,\n",
       "       -1.39854071, -1.37236717, -1.80027105, -1.35830838, -1.53874987,\n",
       "       -1.22459652, -1.51401157, -1.28224782, -1.61784668, -1.26187046,\n",
       "       -1.63625758, -1.55598746, -1.09163009, -1.25690367, -2.62347569,\n",
       "       -0.87509805, -2.2733358 , -1.54859807, -2.76595753, -0.92550408,\n",
       "       -1.96987654, -1.30617837, -2.198992  , -1.34027984, -2.13755452,\n",
       "       -1.60783265, -1.05972291, -0.87126126, -2.4412746 , -0.90372896,\n",
       "       -1.8341488 , -1.56494258, -1.49708385, -1.75707449, -0.98245334,\n",
       "       -1.63714511, -2.22645648, -1.64042132, -1.82439165, -1.80902544,\n",
       "       -0.89158741, -1.8486321 , -1.49146347, -1.79789155, -1.45624888,\n",
       "       -1.42368536, -2.01553954, -1.90174842, -1.21362947, -1.98375502,\n",
       "       -0.68722584, -0.95650065, -1.82454317, -1.79849277, -1.01211485,\n",
       "       -1.87950655, -1.01746678, -1.40455268, -1.85099717, -1.14882202,\n",
       "       -1.4725893 , -1.88984186, -1.31244403, -1.25644426, -2.29345053,\n",
       "       -1.00522772, -2.07244345, -1.58081994, -1.14700623, -1.79117736,\n",
       "       -1.23606307, -1.84179835, -1.51225174, -1.5506937 , -1.59602753,\n",
       "       -1.22843389, -1.42653944, -1.48408249, -2.16482429, -0.73653033,\n",
       "       -1.78611845, -1.56747997, -1.5506474 , -1.31381341, -1.58594345,\n",
       "       -2.01464185, -0.70600869, -1.916235  , -0.85285979, -0.96060034,\n",
       "       -1.53575133, -1.49860149, -1.41214259, -1.07725037, -2.175018  ,\n",
       "       -0.62385815, -2.23136647, -1.32684545, -2.75716982, -1.84787685,\n",
       "       -0.7638328 , -1.54954952, -1.45192964, -1.99029713, -0.569898  ,\n",
       "       -1.57283251, -1.7781301 , -0.84372157, -2.08853613, -2.01834252,\n",
       "       -0.61321333, -2.01836324, -0.54619151, -1.70861959, -1.35725329,\n",
       "       -1.15011045, -2.50049838, -1.19408333, -1.59565204, -1.98437849,\n",
       "       -0.77279979, -1.63107907, -0.98147917, -1.29675628, -2.0651141 ,\n",
       "       -1.77775172, -0.80382899, -1.43425528, -2.21537243, -1.47923034,\n",
       "       -1.90580307, -2.08050293, -0.523074  , -0.69544035, -2.1584256 ,\n",
       "       -1.29788848, -2.00888513, -1.78914476, -1.49934521, -1.50089931,\n",
       "       -1.98607386, -0.53854768, -2.25236137, -1.0499306 , -2.08950681,\n",
       "       -1.29792138, -1.76769248, -1.37801455, -1.8599175 , -1.35654641,\n",
       "       -2.379258  , -1.77226938, -1.01545148, -1.87406366, -1.11901525,\n",
       "       -1.79479651, -0.99629993, -1.51867852, -1.76979433, -1.49171406,\n",
       "       -1.15840322, -1.99035528, -0.60962594, -1.24970047, -1.5654297 ,\n",
       "       -1.19002718, -1.40206694, -1.39182433, -1.43839803, -1.15441643,\n",
       "       -1.42817218, -1.58157682, -2.4435203 , -1.04826464, -1.65756847,\n",
       "       -1.95984389, -0.99505624, -1.52215263, -2.05060675, -1.81643955,\n",
       "       -1.3360416 , -1.81418325, -0.88252884, -1.70858597, -1.34256053,\n",
       "       -1.71563412, -1.80778259, -1.39083882, -2.66302622, -1.38489654,\n",
       "       -1.32328189, -1.5524725 , -1.40102345, -1.64650128, -2.00168294,\n",
       "       -1.77575739, -1.62500508, -1.45435211, -2.48698867, -0.98696214,\n",
       "       -2.14615219, -1.02596639, -2.22900988, -0.82711681, -1.88258811,\n",
       "       -2.02021084, -0.67526295, -1.46460163, -2.08845335, -1.91561265,\n",
       "       -0.97811849, -1.35556063, -1.81101571, -0.84246778, -1.84610865,\n",
       "       -0.55001538, -2.13219198, -1.41406213, -2.23158204, -1.86279134,\n",
       "       -0.89144018, -0.64167909, -2.08304343, -1.07576071, -2.23005145,\n",
       "       -2.02911068, -0.66324737, -1.97166969, -0.6599941 , -1.97564882,\n",
       "       -0.743373  , -1.49025233, -2.18371913, -1.77741459, -0.77083657,\n",
       "       -1.67180067, -1.0923419 , -1.76929664, -1.57758433, -0.80199136,\n",
       "       -1.80592994, -1.83795587, -0.8594799 , -1.79400029, -1.52869213,\n",
       "       -1.36355998, -1.92972603, -1.76415476, -0.79021971, -1.76943304,\n",
       "       -1.46192046, -1.22551487, -1.4977252 , -1.97522029, -0.74905989,\n",
       "       -1.60455736, -1.13135767, -2.06030994, -0.51793078, -0.70830653,\n",
       "       -2.21564427, -0.79329572, -2.24821274, -2.09057769, -0.49211726,\n",
       "       -1.51488707, -1.47347389, -1.85359835, -1.34693006, -1.48515648,\n",
       "       -1.33415146, -1.30880901, -1.49155363, -1.56190577, -1.62294222,\n",
       "       -1.97498927, -0.84338133, -1.74898184, -0.79729236, -1.64314575,\n",
       "       -2.03634967, -1.25903043, -1.77245089, -1.51723711, -1.81100573,\n",
       "       -1.70565111, -0.87284466, -2.0406531 , -0.56772789, -1.13570877,\n",
       "       -1.98650644, -1.73172665, -1.46604744, -1.22504344, -1.74607579,\n",
       "       -1.22705566, -1.30638421, -1.08505789, -1.79437775, -1.29018475,\n",
       "       -1.24060174, -1.80088777, -1.26144988, -2.07166448, -0.55902181,\n",
       "       -0.7023384 , -2.36850202, -1.83162162, -0.95951343, -1.50070816,\n",
       "       -2.20343896, -1.87638224, -1.19635717, -0.96694246, -1.71647939,\n",
       "       -1.13065792, -1.59482381, -1.18363028, -1.36177597, -1.21965561,\n",
       "       -1.57694215, -0.78534953, -1.7039979 , -1.52172714, -2.50658593,\n",
       "       -1.02331587, -2.40901035, -0.61161455, -2.03090197, -1.7031074 ,\n",
       "       -1.62677254, -1.04828377, -2.59044461, -1.75674303, -0.92291807,\n",
       "       -1.34348965, -2.45729462, -1.48742051, -2.14069993, -1.751036  ,\n",
       "       -1.73967336, -2.05451198, -0.6524897 , -1.48427063, -1.3700753 ,\n",
       "       -1.91018481, -0.79118407, -1.35221431, -2.49530661, -1.59751882,\n",
       "       -1.15977336, -1.15435051, -1.68565634, -1.69748031, -1.67051495,\n",
       "       -1.55857186, -1.56726974, -1.00185083, -1.80257522, -1.69927253,\n",
       "       -0.9138354 , -1.63526508, -1.43396103, -1.49594965, -2.3692004 ,\n",
       "       -2.08140076, -0.53577646, -1.66786247, -1.25690802, -1.64736127,\n",
       "       -1.36378229, -1.84925692, -1.22011161, -1.8930112 , -0.79545825,\n",
       "       -1.21790514, -2.02652839, -0.84487563, -2.32662346, -1.35445082,\n",
       "       -2.56403388, -1.26440454, -2.71074056, -1.0003349 , -1.62578442,\n",
       "       -1.26598516, -1.44590208, -1.80682378, -1.67772217, -2.08171198,\n",
       "       -0.4867584 , -1.62997793, -1.48234969, -1.87306711, -1.16954931,\n",
       "       -1.62811237, -1.38647296, -1.2223171 , -1.93592025, -2.05727315,\n",
       "       -0.60562258, -2.0564161 , -0.51816782, -1.72097718, -0.83306016,\n",
       "       -0.87857127, -1.93025755, -1.74535351, -1.15175743, -1.76813464,\n",
       "       -0.96872175, -2.08029601, -0.50353395, -1.98820362, -0.61794259,\n",
       "       -0.90502152, -2.21608347, -1.84887537, -1.05815824, -0.34663041,\n",
       "       -2.13465992, -0.73288789, -1.98268613, -1.72676235, -1.00700418,\n",
       "       -1.7969448 , -1.72560689, -1.59484748, -0.95299514, -1.00906633,\n",
       "       -1.58861764, -0.92070836, -2.38985011, -1.33842057, -2.5511538 ,\n",
       "       -1.83785717, -1.33240672, -1.49098262, -2.02618652, -1.89595009,\n",
       "       -1.03453526, -1.13907683, -1.93964751, -1.43092181, -1.76893969,\n",
       "       -1.69437168, -1.91851152, -1.9768324 , -0.66263828, -1.53081269,\n",
       "       -1.20338369, -1.5646028 , -2.39514075, -2.02241217, -0.78548977,\n",
       "       -0.6434964 , -2.34805757, -1.76319304, -1.45766024, -1.53875715,\n",
       "       -2.62523803, -1.63238569, -1.4420268 , -2.01964821, -0.59254702])"
      ]
     },
     "execution_count": 95,
     "metadata": {},
     "output_type": "execute_result"
    }
   ],
   "source": [
    "y_k.flatten()"
   ]
  },
  {
   "cell_type": "code",
   "execution_count": 83,
   "metadata": {},
   "outputs": [
    {
     "name": "stdout",
     "output_type": "stream",
     "text": [
      "[0. 0.]\n"
     ]
    },
    {
     "ename": "ValueError",
     "evalue": "all input arrays must have the same shape",
     "output_type": "error",
     "traceback": [
      "\u001b[1;31m---------------------------------------------------------------------------\u001b[0m",
      "\u001b[1;31mValueError\u001b[0m                                Traceback (most recent call last)",
      "\u001b[1;32m<ipython-input-83-4dcf3ef48805>\u001b[0m in \u001b[0;36m<module>\u001b[1;34m\u001b[0m\n\u001b[0;32m      3\u001b[0m \u001b[1;31m#Y3 = np.stack([y_k[0] ,y_k[1]] ,0)\u001b[0m\u001b[1;33m\u001b[0m\u001b[1;33m\u001b[0m\u001b[1;33m\u001b[0m\u001b[0m\n\u001b[0;32m      4\u001b[0m \u001b[0mY3\u001b[0m \u001b[1;33m=\u001b[0m \u001b[0mnp\u001b[0m\u001b[1;33m.\u001b[0m\u001b[0mstack\u001b[0m\u001b[1;33m(\u001b[0m\u001b[1;33m[\u001b[0m\u001b[0mY3\u001b[0m \u001b[1;33m,\u001b[0m\u001b[0my_k\u001b[0m\u001b[1;33m[\u001b[0m\u001b[1;36m0\u001b[0m\u001b[1;33m]\u001b[0m\u001b[1;33m]\u001b[0m \u001b[1;33m,\u001b[0m\u001b[1;36m0\u001b[0m\u001b[1;33m)\u001b[0m\u001b[1;33m\u001b[0m\u001b[1;33m\u001b[0m\u001b[0m\n\u001b[1;32m----> 5\u001b[1;33m \u001b[0mY3\u001b[0m \u001b[1;33m=\u001b[0m \u001b[0mnp\u001b[0m\u001b[1;33m.\u001b[0m\u001b[0mstack\u001b[0m\u001b[1;33m(\u001b[0m\u001b[1;33m[\u001b[0m\u001b[0mY3\u001b[0m \u001b[1;33m,\u001b[0m\u001b[0my_k\u001b[0m\u001b[1;33m[\u001b[0m\u001b[1;36m1\u001b[0m\u001b[1;33m]\u001b[0m\u001b[1;33m]\u001b[0m \u001b[1;33m,\u001b[0m\u001b[1;36m0\u001b[0m\u001b[1;33m)\u001b[0m\u001b[1;33m\u001b[0m\u001b[1;33m\u001b[0m\u001b[0m\n\u001b[0m\u001b[0;32m      6\u001b[0m \u001b[0mY3\u001b[0m\u001b[1;33m\u001b[0m\u001b[1;33m\u001b[0m\u001b[0m\n",
      "\u001b[1;32m~\\Anaconda3\\lib\\site-packages\\numpy\\core\\shape_base.py\u001b[0m in \u001b[0;36mstack\u001b[1;34m(arrays, axis, out)\u001b[0m\n\u001b[0;32m    414\u001b[0m     \u001b[0mshapes\u001b[0m \u001b[1;33m=\u001b[0m \u001b[1;33m{\u001b[0m\u001b[0marr\u001b[0m\u001b[1;33m.\u001b[0m\u001b[0mshape\u001b[0m \u001b[1;32mfor\u001b[0m \u001b[0marr\u001b[0m \u001b[1;32min\u001b[0m \u001b[0marrays\u001b[0m\u001b[1;33m}\u001b[0m\u001b[1;33m\u001b[0m\u001b[1;33m\u001b[0m\u001b[0m\n\u001b[0;32m    415\u001b[0m     \u001b[1;32mif\u001b[0m \u001b[0mlen\u001b[0m\u001b[1;33m(\u001b[0m\u001b[0mshapes\u001b[0m\u001b[1;33m)\u001b[0m \u001b[1;33m!=\u001b[0m \u001b[1;36m1\u001b[0m\u001b[1;33m:\u001b[0m\u001b[1;33m\u001b[0m\u001b[1;33m\u001b[0m\u001b[0m\n\u001b[1;32m--> 416\u001b[1;33m         \u001b[1;32mraise\u001b[0m \u001b[0mValueError\u001b[0m\u001b[1;33m(\u001b[0m\u001b[1;34m'all input arrays must have the same shape'\u001b[0m\u001b[1;33m)\u001b[0m\u001b[1;33m\u001b[0m\u001b[1;33m\u001b[0m\u001b[0m\n\u001b[0m\u001b[0;32m    417\u001b[0m \u001b[1;33m\u001b[0m\u001b[0m\n\u001b[0;32m    418\u001b[0m     \u001b[0mresult_ndim\u001b[0m \u001b[1;33m=\u001b[0m \u001b[0marrays\u001b[0m\u001b[1;33m[\u001b[0m\u001b[1;36m0\u001b[0m\u001b[1;33m]\u001b[0m\u001b[1;33m.\u001b[0m\u001b[0mndim\u001b[0m \u001b[1;33m+\u001b[0m \u001b[1;36m1\u001b[0m\u001b[1;33m\u001b[0m\u001b[1;33m\u001b[0m\u001b[0m\n",
      "\u001b[1;31mValueError\u001b[0m: all input arrays must have the same shape"
     ]
    }
   ],
   "source": [
    "Y3 = np.zeros((2))\n",
    "print(Y3)\n",
    "#Y3 = np.stack([y_k[0] ,y_k[1]] ,0)\n",
    "Y3 = np.stack([Y3 ,y_k[0]] ,0)\n",
    "Y3 = np.stack([Y3 ,y_k[1]] ,0)\n",
    "Y3"
   ]
  },
  {
   "cell_type": "code",
   "execution_count": 51,
   "metadata": {},
   "outputs": [
    {
     "name": "stdout",
     "output_type": "stream",
     "text": [
      "a1\n"
     ]
    }
   ],
   "source": [
    "num = 1\n",
    "print(\"a\"+str(num))"
   ]
  },
  {
   "cell_type": "code",
   "execution_count": 98,
   "metadata": {},
   "outputs": [
    {
     "data": {
      "text/plain": [
       "[array([-0.65817847, -2.18552985, -0.74028353, -2.23026062, -0.85692443,\n",
       "        -2.2878596 , -0.97876147, -2.35581854, -1.11535096, -2.44861536,\n",
       "        -1.27413059, -2.53272403, -1.38221935, -2.52852075, -1.43279277,\n",
       "        -2.43746737, -1.46680596, -2.29670707, -1.49942267, -2.16927003,\n",
       "        -1.50863407, -2.07457316, -1.4556581 , -2.00038854, -1.35363687,\n",
       "        -1.96946453, -1.25525161, -1.9765481 , -1.14323001, -1.97286579,\n",
       "        -1.00876618, -1.92442593, -0.93780662, -1.84533828, -0.96537128,\n",
       "        -1.75309649, -1.04625361, -1.65449928, -1.12566658, -1.56864844,\n",
       "        -1.19042706, -1.51520351, -1.25355692, -1.51213012, -1.32612807,\n",
       "        -1.55488918, -1.41266218, -1.61996599, -1.50193328, -1.67862268,\n",
       "        -1.59080082, -1.71208707, -1.67545538, -1.69287688, -1.72609744,\n",
       "        -1.61723978, -1.71666542, -1.53153597, -1.64819666, -1.46772182,\n",
       "        -1.56637428, -1.41880912, -1.50702823, -1.36110857, -1.48313529,\n",
       "        -1.28437297, -1.50749424, -1.21888283, -1.57573689, -1.19388688,\n",
       "        -1.66739634, -1.21335241, -1.74758209, -1.24772899, -1.80304315,\n",
       "        -1.25219649, -1.83879951, -1.19585068, -1.84541076, -1.08957502,\n",
       "        -1.81787135, -1.00680738, -1.7842797 , -0.94896785, -1.78207119,\n",
       "        -0.88499543, -1.82639371, -0.8271844 , -1.89037291, -0.78930461,\n",
       "        -1.9458232 , -0.75479891, -1.98619499, -0.70276706, -2.01929663,\n",
       "        -0.63140783, -2.04563317, -0.5713349 , -2.06164962, -0.53825234]),\n",
       " array([-2.46371751,  0.55718965, -2.43741365,  0.54345439, -2.39560348,\n",
       "         0.52170017, -2.34309389,  0.49413357, -2.28768869,  0.46468738,\n",
       "        -2.24574137,  0.43792563, -2.21438058,  0.4096839 , -2.167551  ,\n",
       "         0.38096308, -2.08912661,  0.36637106, -2.00497988,  0.36498719,\n",
       "        -1.92515565,  0.35638687, -1.86912014,  0.32474947, -1.8717069 ,\n",
       "         0.26974714, -1.91341783,  0.21536748, -1.95287077,  0.17098906,\n",
       "        -1.96169576,  0.12135592, -1.9215878 ,  0.05448999, -1.84318336,\n",
       "        -0.02577161, -1.75331729, -0.09046139, -1.66758894, -0.09996423,\n",
       "        -1.60900319, -0.04661862, -1.58497968,  0.03565755, -1.57391921,\n",
       "         0.1271691 , -1.53921009,  0.20098906, -1.45219645,  0.22406273,\n",
       "        -1.34589578,  0.18860491, -1.29722246,  0.11138864, -1.32259474,\n",
       "        -0.02481857, -1.37928504, -0.20680499, -1.3804265 , -0.290001  ,\n",
       "        -1.30330307, -0.25463256, -1.17510536, -0.15862377, -1.04817619,\n",
       "        -0.07572887, -0.93471174, -0.04664136, -0.86378923, -0.09640348,\n",
       "        -0.86673381, -0.21650758, -0.9313803 , -0.34677585, -1.02950733,\n",
       "        -0.45142309, -1.11646136, -0.54834217, -1.1276578 , -0.64975629,\n",
       "        -1.0619999 , -0.74528975, -0.96198704, -0.82581964, -0.86220436,\n",
       "        -0.85886082, -0.7862643 , -0.79572072, -0.71449815, -0.65623119,\n",
       "        -0.63665043, -0.51913936, -0.56733517, -0.38532112, -0.51207126,\n",
       "        -0.22845596, -0.46956071, -0.11144783, -0.43714993, -0.05630537])]"
      ]
     },
     "execution_count": 98,
     "metadata": {},
     "output_type": "execute_result"
    },
    {
     "data": {
      "text/plain": [
       "<Figure size 432x288 with 0 Axes>"
      ]
     },
     "metadata": {},
     "output_type": "display_data"
    },
    {
     "data": {
      "text/plain": [
       "<Figure size 432x288 with 0 Axes>"
      ]
     },
     "metadata": {},
     "output_type": "display_data"
    }
   ],
   "source": [
    "file = 2\n",
    "D = 2\n",
    "v = []\n",
    "for file in range(file):\n",
    "    file_name = \"data\" + str(file+1) + \".txt\"\n",
    "    ch_som = SOM(np.loadtxt(file_name))\n",
    "    k_size = np.size(ch_som ,axis=0)\n",
    "    #n_size = np.size(ch_som ,axis=1)\n",
    "\n",
    "    #for i in range(k_size):\n",
    "    ch_som.flatten()\n",
    "    v.append(ch_som.flatten())\n",
    "v"
   ]
  },
  {
   "cell_type": "code",
   "execution_count": null,
   "metadata": {},
   "outputs": [],
   "source": []
  }
 ],
 "metadata": {
  "kernelspec": {
   "display_name": "Python 3",
   "language": "python",
   "name": "python3"
  },
  "language_info": {
   "codemirror_mode": {
    "name": "ipython",
    "version": 3
   },
   "file_extension": ".py",
   "mimetype": "text/x-python",
   "name": "python",
   "nbconvert_exporter": "python",
   "pygments_lexer": "ipython3",
   "version": "3.7.3"
  }
 },
 "nbformat": 4,
 "nbformat_minor": 2
}
