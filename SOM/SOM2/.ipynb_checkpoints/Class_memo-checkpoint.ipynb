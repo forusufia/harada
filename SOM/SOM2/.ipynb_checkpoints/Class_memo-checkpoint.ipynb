{
 "cells": [
  {
   "cell_type": "code",
   "execution_count": 1,
   "metadata": {},
   "outputs": [
    {
     "name": "stdout",
     "output_type": "stream",
     "text": [
      "call method\n",
      "100\n"
     ]
    }
   ],
   "source": [
    "class Spam:\n",
    "    val = 100\n",
    "    def ham(self):\n",
    "        self.egg('call method')\n",
    "\n",
    "    def egg(self,msg):\n",
    "        print(\"{0}\".format(msg))\n",
    "        print((\"{0}\".format(self.val)))\n",
    "\n",
    "spam = Spam()\n",
    "spam.ham()"
   ]
  },
  {
   "cell_type": "code",
   "execution_count": 2,
   "metadata": {},
   "outputs": [
    {
     "name": "stdout",
     "output_type": "stream",
     "text": [
      "15\n"
     ]
    }
   ],
   "source": [
    "class Spam:\n",
    "    def __init__(self,ham,egg):\n",
    "        self.ham = ham\n",
    "        self.egg = egg\n",
    "    def output(self):\n",
    "        sum = self.ham + self.egg\n",
    "        print(\"{0}\".format(sum))\n",
    "\n",
    "spam = Spam(5,10)\n",
    "spam.output()"
   ]
  },
  {
   "cell_type": "code",
   "execution_count": 3,
   "metadata": {},
   "outputs": [
    {
     "name": "stdout",
     "output_type": "stream",
     "text": [
      "12\n"
     ]
    }
   ],
   "source": [
    "spam2 = Spam(2,10)\n",
    "spam2.output()"
   ]
  },
  {
   "cell_type": "code",
   "execution_count": 4,
   "metadata": {},
   "outputs": [
    {
     "data": {
      "text/plain": [
       "2"
      ]
     },
     "execution_count": 4,
     "metadata": {},
     "output_type": "execute_result"
    }
   ],
   "source": [
    "spam2.ham"
   ]
  }
 ],
 "metadata": {
  "kernelspec": {
   "display_name": "Python 3",
   "language": "python",
   "name": "python3"
  },
  "language_info": {
   "codemirror_mode": {
    "name": "ipython",
    "version": 3
   },
   "file_extension": ".py",
   "mimetype": "text/x-python",
   "name": "python",
   "nbconvert_exporter": "python",
   "pygments_lexer": "ipython3",
   "version": "3.7.3"
  }
 },
 "nbformat": 4,
 "nbformat_minor": 2
}
