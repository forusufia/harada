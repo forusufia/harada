{
 "cells": [
  {
   "cell_type": "markdown",
   "metadata": {},
   "source": [
    "SOM2用にSOMの関数化を行う  \n",
    "import numpy as np  \n",
    "numpy はインポートしてね"
   ]
  },
  {
   "cell_type": "code",
   "execution_count": 3,
   "metadata": {},
   "outputs": [],
   "source": [
    "%matplotlib inline\n",
    "import numpy as np\n",
    "import matplotlib.pyplot as plt"
   ]
  },
  {
   "cell_type": "markdown",
   "metadata": {},
   "source": [
    "SOM クラス化"
   ]
  },
  {
   "cell_type": "code",
   "execution_count": 4,
   "metadata": {},
   "outputs": [],
   "source": [
    "class SOM:\n",
    "    \n",
    "    def __init__(self,\n",
    "                 \n",
    "        #近傍半径の設定\n",
    "        sig_zero = 1.0,\n",
    "        sig_min = 0.05,\n",
    "        Tau = 50.0,\n",
    "        \n",
    "        #ノード設定\n",
    "        K = 100,\n",
    "        D = 1):\n",
    "        \n",
    "        self.K = K\n",
    "        self.D = D\n",
    "        \n",
    "        #近傍半径の設定\n",
    "        self.sig_zero = sig_zero\n",
    "        self.sig_min = sig_min\n",
    "        self.Tau = Tau\n",
    "\n",
    "    def initialize(self ,X):\n",
    "        self.n = np.size(X ,axis = 0)\n",
    "        self.m = np.size(X ,axis = 1)\n",
    "        self.X = X\n",
    "        \n",
    "        #潜在変数の初期化\n",
    "        zn = np.random.rand(self.n ,2)\n",
    "        #zn = np.reshape(zn ,(self.n ,1))\n",
    "        self.zn = zn\n",
    "        \n",
    "        #ノード設定\n",
    "        resolution = 10\n",
    "        zeta = np.meshgrid(np.linspace(-1 ,1 ,resolution) ,np.linspace(1 ,-1 ,resolution))\n",
    "        zeta = np.dstack(zeta)\n",
    "        zeta = zeta.reshape(resolution**2 ,-1)\n",
    "        zeta.shape\n",
    "        self.zeta = zeta\n",
    "\n",
    "        #学習率初期設定\n",
    "        h_kn = np.zeros((self.n ,self.K))\n",
    "        self.h_kn = h_kn\n",
    "\n",
    "        #ノード毎学習率合計変数の初期設定\n",
    "        g_k = np.zeros((self.K))\n",
    "        g_k = np.reshape(g_k ,(self.K ,self.D))\n",
    "        self.g_k = g_k\n",
    "\n",
    "        #参照ベクトル計算の中で使う変数の初期設定\n",
    "        h_X = np.zeros((self.n ,2))\n",
    "        self.h_X = h_X\n",
    "\n",
    "        #参照ベクトル初期設定\n",
    "        y_k = np.zeros((self.K ,2))\n",
    "        self.y_k = y_k\n",
    "\n",
    "        #潜在変数初期設定\n",
    "        k_n = np.zeros((self.n))\n",
    "        k_n = np.reshape(k_n ,(self.n ,self.D))\n",
    "        self.k_n = k_n\n",
    "    \n",
    "    def sig(self, T):\n",
    "        #近傍半径の設定   \n",
    "        sig = 0\n",
    "        sig_t_s = np.zeros((T))\n",
    "        #for sig > sig_min:\n",
    "        for t in range(T):\n",
    "            sig_max = self.sig_zero-(self.sig_zero - self.sig_min) * t / self.Tau\n",
    "            if sig_max > self.sig_min:\n",
    "                sig = sig_max\n",
    "            else:\n",
    "                sig = self.sig_min\n",
    "            sig_t_s[t] = sig\n",
    "            self.sig_zero = sig_max\n",
    "        self.sig_t = sig_t_s\n",
    "\n",
    "    def fit(self, time):\n",
    "        #print(self.n)\n",
    "        #self.sig(T)\n",
    "        #print(self.sig_t)\n",
    "        for data in range(self.n):\n",
    "            for node in range(self.K):\n",
    "                self.h_kn[data][node] = np.exp(-1 / (2*np.power(self.sig_t[time], 2)) * (np.power(self.zn[data][0] - self.zeta[node][0] ,2) - np.power(self.zn[data][1] - self.zeta[node][1] ,2)))\n",
    "\n",
    "        for node in range(self.K):\n",
    "            self.g_k[node] = np.sum(self.h_kn[:,node])\n",
    "\n",
    "        for node in range(self.K):\n",
    "            for data in range(self.n):\n",
    "                self.h_X[data] = self.h_kn[data][node] * self.X[data]\n",
    "            #print(\"h_X\" ,np.size(h_X ,axis = 0) ,np.size(h_X ,axis = 1))\n",
    "            self.y_k[node] = 1/self.g_k[node] * np.sum(self.h_X ,axis=0)\n",
    "\n",
    "        for data in range(self.n):\n",
    "            xn_yk_min = np.power(self.X[data][0] - self.y_k[0][0], 2) + np.power(self.X[data][1] - self.y_k[0][1], 2)\n",
    "            Nd = 0\n",
    "            for node in range(1 ,self.K):\n",
    "                xn_yk = np.power(self.X[data][0] - self.y_k[node][0], 2) + np.power(self.X[data][1] - self.y_k[node][1], 2)\n",
    "                if xn_yk_min > xn_yk:\n",
    "                    xn_yk_min = xn_yk\n",
    "                    Nd = node\n",
    "            self.k_n[data] = Nd\n",
    "\n",
    "        for data in range(self.n):\n",
    "            self.zn[data] = self.zeta[int(self.k_n[data])]    \n"
   ]
  },
  {
   "cell_type": "code",
   "execution_count": 42,
   "metadata": {},
   "outputs": [],
   "source": [
    "class SOM_p:\n",
    "    \n",
    "    def __init__(self,\n",
    "                 \n",
    "        #近傍半径の設定\n",
    "        sig_zero = 1.0,\n",
    "        sig_min = 0.05,\n",
    "        Tau = 50.0,\n",
    "        \n",
    "        #ノード設定\n",
    "        K = 25,\n",
    "        D = 1):\n",
    "        \n",
    "        self.K = K\n",
    "        self.D = D\n",
    "        \n",
    "        #近傍半径の設定\n",
    "        self.sig_zero = sig_zero\n",
    "        self.sig_min = sig_min\n",
    "        self.Tau = Tau\n",
    "\n",
    "    def initialize(self ,X):\n",
    "        self.n = np.size(X ,axis = 0)\n",
    "        self.m = np.size(X ,axis = 1)\n",
    "        self.X = X\n",
    "        \n",
    "        #潜在変数の初期化\n",
    "        zi = np.random.rand(self.n ,2)\n",
    "        self.zi = zi\n",
    "        \n",
    "        #ノード設定\n",
    "        resolution = 5\n",
    "        zeta = np.meshgrid(np.linspace(-1 ,1 ,resolution) ,np.linspace(1 ,-1 ,resolution))\n",
    "        zeta = np.dstack(zeta)\n",
    "        zeta = zeta.reshape(resolution**2 ,-1)\n",
    "        zeta.shape\n",
    "        self.zeta = zeta\n",
    "\n",
    "        #学習率初期設定\n",
    "        h_il = np.zeros((self.n ,self.K))\n",
    "        self.h_il = h_il\n",
    "\n",
    "        #ノード毎学習率合計変数の初期設定\n",
    "        g_l = np.zeros((self.K))\n",
    "        g_l = np.reshape(g_l ,(self.K ,self.D))\n",
    "        self.g_l = g_l\n",
    "\n",
    "        #参照ベクトル計算の中で使う変数の初期設定\n",
    "        #h_v = np.zeros((self.K))\n",
    "        h_v = []\n",
    "        self.h_v = h_v\n",
    "\n",
    "        #参照ベクトル初期設定\n",
    "        w_l = np.zeros((self.n ,self.m))\n",
    "        self.w_l = w_l\n",
    "\n",
    "        #潜在変数初期設定\n",
    "        l_i = np.zeros((self.n))\n",
    "        l_i = np.reshape(l_i ,(self.n ,self.D))\n",
    "        self.l_i = l_i\n",
    "    \n",
    "    def sig(self, T):\n",
    "        #近傍半径の設定   \n",
    "        sig = 0\n",
    "        sig_t_s = np.zeros((T))\n",
    "        #for sig > sig_min:\n",
    "        for t in range(T):\n",
    "            sig_max = self.sig_zero-(self.sig_zero - self.sig_min) * t / self.Tau\n",
    "            if sig_max > self.sig_min:\n",
    "                sig = sig_max\n",
    "            else:\n",
    "                sig = self.sig_min\n",
    "            sig_t_s[t] = sig\n",
    "            self.sig_zero = sig_max\n",
    "        self.sig_t = sig_t_s\n",
    "\n",
    "    def fit(self, time):\n",
    "        #print(self.n)\n",
    "        #self.sig(T)\n",
    "        #print(self.sig_t)\n",
    "        for data in range(self.n):\n",
    "            for node in range(self.K):\n",
    "                self.h_il[data][node] = np.exp(-1 / (2*np.power(self.sig_t[time], 2)) * (np.power(self.zi[data][0] - self.zeta[node][0] ,2) + np.power(self.zi[data][1] - self.zeta[node][1] ,2)))\n",
    "        #print(\"h_il\" ,np.size(self.h_il ,axis = 0) ,np.size(self.h_il ,axis = 1))\n",
    "            \n",
    "        for node in range(self.K):\n",
    "            self.g_l[node] = np.sum(self.h_il[:,node])\n",
    "        #print(\"h_v\" ,np.size(self.h_v ,axis = 0) ,np.size(self.h_v ,axis = 1))\n",
    "        h_v = []\n",
    "        for node in range(self.K):\n",
    "            for data in range(self.n):\n",
    "                #self.h_v[node] = 1/self.g_l[node] * self.h_il[data][node] * self.X[data]\n",
    "                mhv = 1/self.g_l[node] * self.h_il[data][node] * self.X[data]\n",
    "            h_v.append(mhv)\n",
    "            #print(\"h_v\" ,np.size(self.h_v ,axis = 0) ,np.size(self.h_v ,axis = 1))\n",
    "        for i in range(self.n):\n",
    "            self.w_l =  np.sum(h_v ,axis = 0)\n",
    "        self.h_v =  h_v\n",
    "        #print(\"w_l\" ,np.size(self.w_l ,axis = 0) ,np.size(self.w_l ,axis = 1))\n",
    "            \n",
    "        for data in range(self.n):\n",
    "            xn_yk_min = 0\n",
    "            for node in range(self.m):\n",
    "                xn_yk_min += np.power(self.X[data][node] - self.w_l[0][node], 2)\n",
    "            Nd = 0\n",
    "                \n",
    "            for data2 in range(1 ,self.n):\n",
    "                xn_yk = 0\n",
    "                for node in range(self.m):\n",
    "                    xn_yk += np.power(self.X[data][node] - self.w_l[data2][node], 2)\n",
    "                    if xn_yk_min > xn_yk:\n",
    "                        xn_yk_min = xn_yk\n",
    "                        Nd = node\n",
    "            self.l_i[data] = Nd\n",
    "\n",
    "        for data in range(self.n):\n",
    "            self.zi[data] = self.zeta[int(self.l_i[data])]    \n"
   ]
  },
  {
   "cell_type": "code",
   "execution_count": 48,
   "metadata": {},
   "outputs": [],
   "source": [
    "file = 9\n",
    "D = 2\n",
    "som = []\n",
    "v = []\n",
    "epoc = 5\n",
    "\n",
    "for file_num in range(file):\n",
    "    file_name = \"data\" + str(file_num + 1) + \".txt\"\n",
    "    X = np.loadtxt(file_name)\n",
    "    som.append(SOM())\n",
    "    som[file_num].initialize(X)\n",
    "    som[file_num].sig(epoc)\n",
    "\n",
    "inip = np.zeros((9 ,200))    \n",
    "som_p = SOM_p()\n",
    "som_p.initialize(inip)\n",
    "som_p.sig(epoc)"
   ]
  },
  {
   "cell_type": "code",
   "execution_count": 49,
   "metadata": {},
   "outputs": [
    {
     "name": "stdout",
     "output_type": "stream",
     "text": [
      "epoc =  1\n",
      "epoc =  2\n",
      "epoc =  3\n",
      "epoc =  4\n",
      "epoc =  5\n"
     ]
    }
   ],
   "source": [
    "for epoc_num in range(epoc):\n",
    "    print(\"epoc = \" ,epoc_num+1)\n",
    "    for file_num in range(file):   \n",
    "        som[file_num].fit(epoc_num)\n",
    "        #k_size = np.size(ch_som ,axis=0)\n",
    "        ch_som = som[file_num].y_k\n",
    "        #ch_som.flatten()\n",
    "        v.append(ch_som.flatten())\n",
    "        #print(\"CH_SOM\"+str(file_num+1))"
   ]
  },
  {
   "cell_type": "code",
   "execution_count": 30,
   "metadata": {},
   "outputs": [],
   "source": [
    "som_p.X = v\n",
    "som_p.fit(epoc_num)"
   ]
  },
  {
   "cell_type": "code",
   "execution_count": 62,
   "metadata": {
    "scrolled": true
   },
   "outputs": [],
   "source": [
    "for num in range(file):\n",
    "    for k in range(100):\n",
    "        som[num].y_k[k][0] = som_p.w_l[num][2*k]\n",
    "        som[num].y_k[k][1] = som_p.w_l[num][2*k+1]"
   ]
  },
  {
   "cell_type": "code",
   "execution_count": 46,
   "metadata": {
    "scrolled": true
   },
   "outputs": [
    {
     "name": "stdout",
     "output_type": "stream",
     "text": [
      "epoc =  1\n"
     ]
    },
    {
     "ename": "IndexError",
     "evalue": "invalid index to scalar variable.",
     "output_type": "error",
     "traceback": [
      "\u001b[1;31m---------------------------------------------------------------------------\u001b[0m",
      "\u001b[1;31mIndexError\u001b[0m                                Traceback (most recent call last)",
      "\u001b[1;32m<ipython-input-46-b73a3e9ad807>\u001b[0m in \u001b[0;36m<module>\u001b[1;34m\u001b[0m\n\u001b[0;32m     10\u001b[0m \u001b[1;33m\u001b[0m\u001b[0m\n\u001b[0;32m     11\u001b[0m     \u001b[0msom_p\u001b[0m\u001b[1;33m.\u001b[0m\u001b[0mX\u001b[0m \u001b[1;33m=\u001b[0m \u001b[0mv\u001b[0m\u001b[1;33m\u001b[0m\u001b[1;33m\u001b[0m\u001b[0m\n\u001b[1;32m---> 12\u001b[1;33m     \u001b[0msom_p\u001b[0m\u001b[1;33m.\u001b[0m\u001b[0mfit\u001b[0m\u001b[1;33m(\u001b[0m\u001b[0mepoc_num\u001b[0m\u001b[1;33m)\u001b[0m\u001b[1;33m\u001b[0m\u001b[1;33m\u001b[0m\u001b[0m\n\u001b[0m\u001b[0;32m     13\u001b[0m \u001b[1;33m\u001b[0m\u001b[0m\n\u001b[0;32m     14\u001b[0m     \u001b[1;32mfor\u001b[0m \u001b[0mnum\u001b[0m \u001b[1;32min\u001b[0m \u001b[0mrange\u001b[0m\u001b[1;33m(\u001b[0m\u001b[0mfile\u001b[0m\u001b[1;33m)\u001b[0m\u001b[1;33m:\u001b[0m\u001b[1;33m\u001b[0m\u001b[1;33m\u001b[0m\u001b[0m\n",
      "\u001b[1;32m<ipython-input-42-fba0c831b634>\u001b[0m in \u001b[0;36mfit\u001b[1;34m(self, time)\u001b[0m\n\u001b[0;32m    102\u001b[0m             \u001b[0mxn_yk_min\u001b[0m \u001b[1;33m=\u001b[0m \u001b[1;36m0\u001b[0m\u001b[1;33m\u001b[0m\u001b[1;33m\u001b[0m\u001b[0m\n\u001b[0;32m    103\u001b[0m             \u001b[1;32mfor\u001b[0m \u001b[0mnode\u001b[0m \u001b[1;32min\u001b[0m \u001b[0mrange\u001b[0m\u001b[1;33m(\u001b[0m\u001b[0mself\u001b[0m\u001b[1;33m.\u001b[0m\u001b[0mm\u001b[0m\u001b[1;33m)\u001b[0m\u001b[1;33m:\u001b[0m\u001b[1;33m\u001b[0m\u001b[1;33m\u001b[0m\u001b[0m\n\u001b[1;32m--> 104\u001b[1;33m                 \u001b[0mxn_yk_min\u001b[0m \u001b[1;33m+=\u001b[0m \u001b[0mnp\u001b[0m\u001b[1;33m.\u001b[0m\u001b[0mpower\u001b[0m\u001b[1;33m(\u001b[0m\u001b[0mself\u001b[0m\u001b[1;33m.\u001b[0m\u001b[0mX\u001b[0m\u001b[1;33m[\u001b[0m\u001b[0mdata\u001b[0m\u001b[1;33m]\u001b[0m\u001b[1;33m[\u001b[0m\u001b[0mnode\u001b[0m\u001b[1;33m]\u001b[0m \u001b[1;33m-\u001b[0m \u001b[0mself\u001b[0m\u001b[1;33m.\u001b[0m\u001b[0mw_l\u001b[0m\u001b[1;33m[\u001b[0m\u001b[1;36m0\u001b[0m\u001b[1;33m]\u001b[0m\u001b[1;33m[\u001b[0m\u001b[0mnode\u001b[0m\u001b[1;33m]\u001b[0m\u001b[1;33m,\u001b[0m \u001b[1;36m2\u001b[0m\u001b[1;33m)\u001b[0m\u001b[1;33m\u001b[0m\u001b[1;33m\u001b[0m\u001b[0m\n\u001b[0m\u001b[0;32m    105\u001b[0m             \u001b[0mNd\u001b[0m \u001b[1;33m=\u001b[0m \u001b[1;36m0\u001b[0m\u001b[1;33m\u001b[0m\u001b[1;33m\u001b[0m\u001b[0m\n\u001b[0;32m    106\u001b[0m \u001b[1;33m\u001b[0m\u001b[0m\n",
      "\u001b[1;31mIndexError\u001b[0m: invalid index to scalar variable."
     ]
    }
   ],
   "source": [
    "for epoc_num in range(epoc):\n",
    "    print(\"epoc = \" ,epoc_num+1)\n",
    "    for file_num in range(file):   \n",
    "        som[file_num].fit(epoc_num)\n",
    "        #k_size = np.size(ch_som ,axis=0)\n",
    "        ch_som = som[file_num].y_k\n",
    "        #ch_som.flatten()\n",
    "        v.append(ch_som.flatten())\n",
    "        #print(\"CH_SOM\"+str(file_num+1))\n",
    "    \n",
    "    som_p.X = v\n",
    "    som_p.fit(epoc_num)\n",
    "\n",
    "    for num in range(file):\n",
    "        for k in range(100):\n",
    "            som[num].y_k[k][0] = som_p.w_l[num][2*k]\n",
    "            som[num].y_k[k][1] = som_p.w_l[num][2*k+1]"
   ]
  },
  {
   "cell_type": "code",
   "execution_count": 35,
   "metadata": {},
   "outputs": [
    {
     "name": "stdout",
     "output_type": "stream",
     "text": [
      "v 45 200\n",
      "h_v 25 200\n",
      "w_l 9 200\n"
     ]
    }
   ],
   "source": [
    "print(\"v\" ,np.size(v ,axis = 0) ,np.size(v ,axis = 1))\n",
    "print(\"h_v\" ,np.size(som_p.h_v ,axis = 0) ,np.size(som_p.h_v ,axis = 1))\n",
    "print(\"w_l\" ,np.size(som_p.w_l ,axis = 0) ,np.size(som_p.w_l ,axis = 1))"
   ]
  },
  {
   "cell_type": "code",
   "execution_count": 36,
   "metadata": {},
   "outputs": [
    {
     "data": {
      "text/plain": [
       "25"
      ]
     },
     "execution_count": 36,
     "metadata": {},
     "output_type": "execute_result"
    }
   ],
   "source": [
    "np.size(som_p.h_v ,axis=0)"
   ]
  },
  {
   "cell_type": "code",
   "execution_count": 50,
   "metadata": {},
   "outputs": [
    {
     "data": {
      "image/png": "[encoded data removed]",
      "text/plain": [
       "<Figure size 432x288 with 1 Axes>"
      ]
     },
     "metadata": {
      "needs_background": "light"
     },
     "output_type": "display_data"
    }
   ],
   "source": [
    "plt.scatter(som[0].y_k[:,0],som[0].y_k[:,1], label=\"1\")\n",
    "#plt.scatter(som[0].X[:,0],som[0].X[:,1], label=\"x1\")\n",
    "plt.scatter(som[1].y_k[:,0],som[1].y_k[:,1], label=\"2\")\n",
    "#plt.scatter(som[1].X[:,0],som[1].X[:,1], label=\"x1\")\n",
    "plt.scatter(som[2].y_k[:,0],som[2].y_k[:,1], label=\"3\")\n",
    "#plt.scatter(som[2].X[:,0],som[2].X[:,1], label=\"x1\")\n",
    "plt.scatter(som[3].y_k[:,0],som[3].y_k[:,1], label=\"4\")\n",
    "#plt.scatter(som[3].X[:,0],som[3].X[:,1], label=\"x1\")\n",
    "plt.scatter(som[4].y_k[:,0],som[4].y_k[:,1], label=\"5\")\n",
    "#plt.scatter(som[4].X[:,0],som[4].X[:,1], label=\"x1\")\n",
    "plt.scatter(som[5].y_k[:,0],som[5].y_k[:,1], label=\"6\")\n",
    "#plt.scatter(som[5].X[:,0],som[5].X[:,1], label=\"x1\")\n",
    "plt.scatter(som[6].y_k[:,0],som[6].y_k[:,1], label=\"7\")\n",
    "#plt.scatter(som[6].X[:,0],som[6].X[:,1], label=\"x1\")\n",
    "plt.scatter(som[7].y_k[:,0],som[7].y_k[:,1], label=\"8\")\n",
    "#plt.scatter(som[7].X[:,0],som[7].X[:,1], label=\"x1\")\n",
    "plt.scatter(som[8].y_k[:,0],som[8].y_k[:,1], label=\"9\")\n",
    "#plt.scatter(som[8].X[:,0],som[8].X[:,1], label=\"x1\")\n",
    "plt.scatter(som_p.w_l[:,0],som_p.w_l[:,1], label=\"p\")\n",
    "#plt.scatter(som_p.zeta[:,0],som_p.zeta[:,1], label=\"zeta\")\n",
    "plt.legend()\n",
    "plt.show()"
   ]
  },
  {
   "cell_type": "code",
   "execution_count": 68,
   "metadata": {},
   "outputs": [
    {
     "data": {
      "text/plain": [
       "array([[1.18168728, 0.91924925, 1.19161916, ..., 0.92920333, 1.30744555,\n",
       "        0.93047832],\n",
       "       [1.18168728, 0.91924925, 1.19161916, ..., 0.92920333, 1.30744555,\n",
       "        0.93047832],\n",
       "       [1.18168728, 0.91924925, 1.19161916, ..., 0.92920333, 1.30744555,\n",
       "        0.93047832],\n",
       "       ...,\n",
       "       [1.18168728, 0.91924925, 1.19161916, ..., 0.92920333, 1.30744555,\n",
       "        0.93047832],\n",
       "       [1.18168728, 0.91924925, 1.19161916, ..., 0.92920333, 1.30744555,\n",
       "        0.93047832],\n",
       "       [1.18168728, 0.91924925, 1.19161916, ..., 0.92920333, 1.30744555,\n",
       "        0.93047832]])"
      ]
     },
     "execution_count": 68,
     "metadata": {},
     "output_type": "execute_result"
    }
   ],
   "source": [
    "som_p.w_l"
   ]
  },
  {
   "cell_type": "code",
   "execution_count": 1,
   "metadata": {},
   "outputs": [
    {
     "ename": "NameError",
     "evalue": "name 'som_p' is not defined",
     "output_type": "error",
     "traceback": [
      "\u001b[1;31m---------------------------------------------------------------------------\u001b[0m",
      "\u001b[1;31mNameError\u001b[0m                                 Traceback (most recent call last)",
      "\u001b[1;32m<ipython-input-1-e1be6a051e09>\u001b[0m in \u001b[0;36m<module>\u001b[1;34m\u001b[0m\n\u001b[1;32m----> 1\u001b[1;33m \u001b[0msom_p\u001b[0m\u001b[1;33m.\u001b[0m\u001b[0mh_v\u001b[0m\u001b[1;33m\u001b[0m\u001b[1;33m\u001b[0m\u001b[0m\n\u001b[0m",
      "\u001b[1;31mNameError\u001b[0m: name 'som_p' is not defined"
     ]
    }
   ],
   "source": [
    "som_p.h_v"
   ]
  }
 ],
 "metadata": {
  "kernelspec": {
   "display_name": "Python 3",
   "language": "python",
   "name": "python3"
  },
  "language_info": {
   "codemirror_mode": {
    "name": "ipython",
    "version": 3
   },
   "file_extension": ".py",
   "mimetype": "text/x-python",
   "name": "python",
   "nbconvert_exporter": "python",
   "pygments_lexer": "ipython3",
   "version": "3.7.3"
  }
 },
 "nbformat": 4,
 "nbformat_minor": 2
}
