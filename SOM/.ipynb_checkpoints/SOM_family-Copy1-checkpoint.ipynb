{
 "cells": [
  {
   "cell_type": "code",
   "execution_count": 58,
   "metadata": {},
   "outputs": [],
   "source": [
    "#%matplotlib inline\n",
    "%matplotlib nbagg\n",
    "import numpy as np\n",
    "import pandas as pd\n",
    "import matplotlib.pyplot as plt\n",
    "import matplotlib.animation as animation\n",
    "import sklearn #機械学習のライブラリ"
   ]
  },
  {
   "cell_type": "code",
   "execution_count": 19,
   "metadata": {},
   "outputs": [],
   "source": [
    "x = np.arange(-3, 3, 0.1)\n",
    "n = len(x)"
   ]
  },
  {
   "cell_type": "code",
   "execution_count": 20,
   "metadata": {},
   "outputs": [
    {
     "data": {
      "text/plain": [
       "array([-3.00000000e+00, -2.90000000e+00, -2.80000000e+00, -2.70000000e+00,\n",
       "       -2.60000000e+00, -2.50000000e+00, -2.40000000e+00, -2.30000000e+00,\n",
       "       -2.20000000e+00, -2.10000000e+00, -2.00000000e+00, -1.90000000e+00,\n",
       "       -1.80000000e+00, -1.70000000e+00, -1.60000000e+00, -1.50000000e+00,\n",
       "       -1.40000000e+00, -1.30000000e+00, -1.20000000e+00, -1.10000000e+00,\n",
       "       -1.00000000e+00, -9.00000000e-01, -8.00000000e-01, -7.00000000e-01,\n",
       "       -6.00000000e-01, -5.00000000e-01, -4.00000000e-01, -3.00000000e-01,\n",
       "       -2.00000000e-01, -1.00000000e-01,  2.66453526e-15,  1.00000000e-01,\n",
       "        2.00000000e-01,  3.00000000e-01,  4.00000000e-01,  5.00000000e-01,\n",
       "        6.00000000e-01,  7.00000000e-01,  8.00000000e-01,  9.00000000e-01,\n",
       "        1.00000000e+00,  1.10000000e+00,  1.20000000e+00,  1.30000000e+00,\n",
       "        1.40000000e+00,  1.50000000e+00,  1.60000000e+00,  1.70000000e+00,\n",
       "        1.80000000e+00,  1.90000000e+00,  2.00000000e+00,  2.10000000e+00,\n",
       "        2.20000000e+00,  2.30000000e+00,  2.40000000e+00,  2.50000000e+00,\n",
       "        2.60000000e+00,  2.70000000e+00,  2.80000000e+00,  2.90000000e+00])"
      ]
     },
     "execution_count": 20,
     "metadata": {},
     "output_type": "execute_result"
    }
   ],
   "source": [
    "x"
   ]
  },
  {
   "cell_type": "code",
   "execution_count": 21,
   "metadata": {
    "scrolled": true
   },
   "outputs": [
    {
     "data": {
      "text/plain": [
       "array([-1.41120008e-01, -2.39249329e-01, -3.34988150e-01, -4.27379880e-01,\n",
       "       -5.15501372e-01, -5.98472144e-01, -6.75463181e-01, -7.45705212e-01,\n",
       "       -8.08496404e-01, -8.63209367e-01, -9.09297427e-01, -9.46300088e-01,\n",
       "       -9.73847631e-01, -9.91664810e-01, -9.99573603e-01, -9.97494987e-01,\n",
       "       -9.85449730e-01, -9.63558185e-01, -9.32039086e-01, -8.91207360e-01,\n",
       "       -8.41470985e-01, -7.83326910e-01, -7.17356091e-01, -6.44217687e-01,\n",
       "       -5.64642473e-01, -4.79425539e-01, -3.89418342e-01, -2.95520207e-01,\n",
       "       -1.98669331e-01, -9.98334166e-02,  2.66453526e-15,  9.98334166e-02,\n",
       "        1.98669331e-01,  2.95520207e-01,  3.89418342e-01,  4.79425539e-01,\n",
       "        5.64642473e-01,  6.44217687e-01,  7.17356091e-01,  7.83326910e-01,\n",
       "        8.41470985e-01,  8.91207360e-01,  9.32039086e-01,  9.63558185e-01,\n",
       "        9.85449730e-01,  9.97494987e-01,  9.99573603e-01,  9.91664810e-01,\n",
       "        9.73847631e-01,  9.46300088e-01,  9.09297427e-01,  8.63209367e-01,\n",
       "        8.08496404e-01,  7.45705212e-01,  6.75463181e-01,  5.98472144e-01,\n",
       "        5.15501372e-01,  4.27379880e-01,  3.34988150e-01,  2.39249329e-01])"
      ]
     },
     "execution_count": 21,
     "metadata": {},
     "output_type": "execute_result"
    }
   ],
   "source": [
    "y = np.sin(x)\n",
    "y"
   ]
  },
  {
   "cell_type": "code",
   "execution_count": 22,
   "metadata": {
    "scrolled": true
   },
   "outputs": [
    {
     "data": {
      "text/plain": [
       "array([[-3.00000000e+00, -1.41120008e-01],\n",
       "       [-2.90000000e+00, -2.39249329e-01],\n",
       "       [-2.80000000e+00, -3.34988150e-01],\n",
       "       [-2.70000000e+00, -4.27379880e-01],\n",
       "       [-2.60000000e+00, -5.15501372e-01],\n",
       "       [-2.50000000e+00, -5.98472144e-01],\n",
       "       [-2.40000000e+00, -6.75463181e-01],\n",
       "       [-2.30000000e+00, -7.45705212e-01],\n",
       "       [-2.20000000e+00, -8.08496404e-01],\n",
       "       [-2.10000000e+00, -8.63209367e-01],\n",
       "       [-2.00000000e+00, -9.09297427e-01],\n",
       "       [-1.90000000e+00, -9.46300088e-01],\n",
       "       [-1.80000000e+00, -9.73847631e-01],\n",
       "       [-1.70000000e+00, -9.91664810e-01],\n",
       "       [-1.60000000e+00, -9.99573603e-01],\n",
       "       [-1.50000000e+00, -9.97494987e-01],\n",
       "       [-1.40000000e+00, -9.85449730e-01],\n",
       "       [-1.30000000e+00, -9.63558185e-01],\n",
       "       [-1.20000000e+00, -9.32039086e-01],\n",
       "       [-1.10000000e+00, -8.91207360e-01],\n",
       "       [-1.00000000e+00, -8.41470985e-01],\n",
       "       [-9.00000000e-01, -7.83326910e-01],\n",
       "       [-8.00000000e-01, -7.17356091e-01],\n",
       "       [-7.00000000e-01, -6.44217687e-01],\n",
       "       [-6.00000000e-01, -5.64642473e-01],\n",
       "       [-5.00000000e-01, -4.79425539e-01],\n",
       "       [-4.00000000e-01, -3.89418342e-01],\n",
       "       [-3.00000000e-01, -2.95520207e-01],\n",
       "       [-2.00000000e-01, -1.98669331e-01],\n",
       "       [-1.00000000e-01, -9.98334166e-02],\n",
       "       [ 2.66453526e-15,  2.66453526e-15],\n",
       "       [ 1.00000000e-01,  9.98334166e-02],\n",
       "       [ 2.00000000e-01,  1.98669331e-01],\n",
       "       [ 3.00000000e-01,  2.95520207e-01],\n",
       "       [ 4.00000000e-01,  3.89418342e-01],\n",
       "       [ 5.00000000e-01,  4.79425539e-01],\n",
       "       [ 6.00000000e-01,  5.64642473e-01],\n",
       "       [ 7.00000000e-01,  6.44217687e-01],\n",
       "       [ 8.00000000e-01,  7.17356091e-01],\n",
       "       [ 9.00000000e-01,  7.83326910e-01],\n",
       "       [ 1.00000000e+00,  8.41470985e-01],\n",
       "       [ 1.10000000e+00,  8.91207360e-01],\n",
       "       [ 1.20000000e+00,  9.32039086e-01],\n",
       "       [ 1.30000000e+00,  9.63558185e-01],\n",
       "       [ 1.40000000e+00,  9.85449730e-01],\n",
       "       [ 1.50000000e+00,  9.97494987e-01],\n",
       "       [ 1.60000000e+00,  9.99573603e-01],\n",
       "       [ 1.70000000e+00,  9.91664810e-01],\n",
       "       [ 1.80000000e+00,  9.73847631e-01],\n",
       "       [ 1.90000000e+00,  9.46300088e-01],\n",
       "       [ 2.00000000e+00,  9.09297427e-01],\n",
       "       [ 2.10000000e+00,  8.63209367e-01],\n",
       "       [ 2.20000000e+00,  8.08496404e-01],\n",
       "       [ 2.30000000e+00,  7.45705212e-01],\n",
       "       [ 2.40000000e+00,  6.75463181e-01],\n",
       "       [ 2.50000000e+00,  5.98472144e-01],\n",
       "       [ 2.60000000e+00,  5.15501372e-01],\n",
       "       [ 2.70000000e+00,  4.27379880e-01],\n",
       "       [ 2.80000000e+00,  3.34988150e-01],\n",
       "       [ 2.90000000e+00,  2.39249329e-01]])"
      ]
     },
     "execution_count": 22,
     "metadata": {},
     "output_type": "execute_result"
    }
   ],
   "source": [
    "X = np.stack([x, y], 1)\n",
    "X"
   ]
  },
  {
   "cell_type": "code",
   "execution_count": 23,
   "metadata": {},
   "outputs": [
    {
     "data": {
      "image/png": "[encoded data removed]",
      "text/plain": [
       "<Figure size 432x288 with 1 Axes>"
      ]
     },
     "metadata": {
      "needs_background": "light"
     },
     "output_type": "display_data"
    }
   ],
   "source": [
    "plt.plot(x, y,'r:',label=\"y\")\n",
    "plt.title('three function')\n",
    "plt.legend()\n",
    "plt.show()"
   ]
  },
  {
   "cell_type": "code",
   "execution_count": 24,
   "metadata": {},
   "outputs": [
    {
     "name": "stdout",
     "output_type": "stream",
     "text": [
      "[1.0, 0.96, 0.884, 0.7814, 0.66512, 0.54884, 0.444188, 0.3587222, 0.29523332, 0.25237832600000004, 0.22618916300000003, 0.21178512335000002, 0.20471404934, 0.201649917269, 0.2004949751807, 0.200123743795175, 0.200024748759035, 0.20000371231385525, 0.20000037123138553, 0.2000000185615693, 0.2, 0.2, 0.2, 0.2, 0.2, 0.2, 0.2, 0.2, 0.2, 0.2, 0.2, 0.2, 0.2, 0.2, 0.2, 0.2, 0.2, 0.2, 0.2, 0.2, 0.2, 0.2, 0.2, 0.2, 0.2, 0.2, 0.2, 0.2, 0.2, 0.2, 0.2, 0.2, 0.2, 0.2, 0.2, 0.2, 0.2, 0.2, 0.2, 0.2]\n"
     ]
    },
    {
     "data": {
      "text/plain": [
       "60"
      ]
     },
     "execution_count": 24,
     "metadata": {},
     "output_type": "execute_result"
    }
   ],
   "source": [
    "sig_zero = 1.0\n",
    "sig_min = 0.2\n",
    "Tau = 20.0\n",
    "sig = 0\n",
    "sig_t = []\n",
    "\n",
    "#for sig > sig_min:\n",
    "for t in range(n):\n",
    "    sig_max = sig_zero-(sig_zero-sig_min) * t / Tau\n",
    "    if sig_max > sig_min:\n",
    "        sig = sig_max\n",
    "    else:\n",
    "        sig = sig_min\n",
    "    sig_t.append(sig)\n",
    "    sig_zero = sig_max\n",
    "print(sig_t)\n",
    "len(sig_t)"
   ]
  },
  {
   "cell_type": "code",
   "execution_count": 25,
   "metadata": {},
   "outputs": [
    {
     "data": {
      "image/png": "[encoded data removed]",
      "text/plain": [
       "<Figure size 432x288 with 1 Axes>"
      ]
     },
     "metadata": {
      "needs_background": "light"
     },
     "output_type": "display_data"
    }
   ],
   "source": [
    "a = np.arange(60)\n",
    "plt.plot(a, sig_t,'r:',label=\"y\")\n",
    "plt.title('近傍半径スケジュール')\n",
    "plt.legend()\n",
    "plt.show()"
   ]
  },
  {
   "cell_type": "code",
   "execution_count": 26,
   "metadata": {
    "scrolled": true
   },
   "outputs": [
    {
     "name": "stdout",
     "output_type": "stream",
     "text": [
      "[[-1.        ]\n",
      " [-0.95918367]\n",
      " [-0.91836735]\n",
      " [-0.87755102]\n",
      " [-0.83673469]\n",
      " [-0.79591837]\n",
      " [-0.75510204]\n",
      " [-0.71428571]\n",
      " [-0.67346939]\n",
      " [-0.63265306]\n",
      " [-0.59183673]\n",
      " [-0.55102041]\n",
      " [-0.51020408]\n",
      " [-0.46938776]\n",
      " [-0.42857143]\n",
      " [-0.3877551 ]\n",
      " [-0.34693878]\n",
      " [-0.30612245]\n",
      " [-0.26530612]\n",
      " [-0.2244898 ]\n",
      " [-0.18367347]\n",
      " [-0.14285714]\n",
      " [-0.10204082]\n",
      " [-0.06122449]\n",
      " [-0.02040816]\n",
      " [ 0.02040816]\n",
      " [ 0.06122449]\n",
      " [ 0.10204082]\n",
      " [ 0.14285714]\n",
      " [ 0.18367347]\n",
      " [ 0.2244898 ]\n",
      " [ 0.26530612]\n",
      " [ 0.30612245]\n",
      " [ 0.34693878]\n",
      " [ 0.3877551 ]\n",
      " [ 0.42857143]\n",
      " [ 0.46938776]\n",
      " [ 0.51020408]\n",
      " [ 0.55102041]\n",
      " [ 0.59183673]\n",
      " [ 0.63265306]\n",
      " [ 0.67346939]\n",
      " [ 0.71428571]\n",
      " [ 0.75510204]\n",
      " [ 0.79591837]\n",
      " [ 0.83673469]\n",
      " [ 0.87755102]\n",
      " [ 0.91836735]\n",
      " [ 0.95918367]\n",
      " [ 1.        ]]\n"
     ]
    }
   ],
   "source": [
    "K = 50\n",
    "l = 1\n",
    "zeta = np.linspace(-1,1,K)\n",
    "zeta = np.reshape(zeta, (50,1))\n",
    "print(zeta)"
   ]
  },
  {
   "cell_type": "code",
   "execution_count": 27,
   "metadata": {},
   "outputs": [
    {
     "data": {
      "text/plain": [
       "50"
      ]
     },
     "execution_count": 27,
     "metadata": {},
     "output_type": "execute_result"
    }
   ],
   "source": [
    "len(zeta)"
   ]
  },
  {
   "cell_type": "code",
   "execution_count": 28,
   "metadata": {
    "scrolled": true
   },
   "outputs": [
    {
     "data": {
      "text/plain": [
       "array([[0.05444621],\n",
       "       [0.90205356],\n",
       "       [0.85521695],\n",
       "       [0.78373095],\n",
       "       [0.47353471],\n",
       "       [0.97359225],\n",
       "       [0.21042295],\n",
       "       [0.52878655],\n",
       "       [0.62609624],\n",
       "       [0.46298127],\n",
       "       [0.38578051],\n",
       "       [0.47331734],\n",
       "       [0.28702752],\n",
       "       [0.26213186],\n",
       "       [0.29896504],\n",
       "       [0.40516678],\n",
       "       [0.19089435],\n",
       "       [0.30089434],\n",
       "       [0.58615428],\n",
       "       [0.18007607],\n",
       "       [0.86775117],\n",
       "       [0.96181532],\n",
       "       [0.12266712],\n",
       "       [0.2601068 ],\n",
       "       [0.06934282],\n",
       "       [0.05589855],\n",
       "       [0.21253267],\n",
       "       [0.08690168],\n",
       "       [0.08442725],\n",
       "       [0.54690394],\n",
       "       [0.06531573],\n",
       "       [0.5719756 ],\n",
       "       [0.49815791],\n",
       "       [0.47997037],\n",
       "       [0.82898434],\n",
       "       [0.17132061],\n",
       "       [0.34725542],\n",
       "       [0.17434225],\n",
       "       [0.68718734],\n",
       "       [0.9289205 ],\n",
       "       [0.89790889],\n",
       "       [0.82272465],\n",
       "       [0.33828811],\n",
       "       [0.88146295],\n",
       "       [0.144906  ],\n",
       "       [0.7286678 ],\n",
       "       [0.89942701],\n",
       "       [0.26347544],\n",
       "       [0.20154282],\n",
       "       [0.60311424],\n",
       "       [0.51858049],\n",
       "       [0.97541546],\n",
       "       [0.63268171],\n",
       "       [0.24501615],\n",
       "       [0.06600814],\n",
       "       [0.38801225],\n",
       "       [0.25719759],\n",
       "       [0.92183946],\n",
       "       [0.05630584],\n",
       "       [0.8077538 ]])"
      ]
     },
     "execution_count": 28,
     "metadata": {},
     "output_type": "execute_result"
    }
   ],
   "source": [
    "zn = np.random.rand(n)\n",
    "zn = np.reshape(zn, (n,1))\n",
    "zn"
   ]
  },
  {
   "cell_type": "code",
   "execution_count": 29,
   "metadata": {},
   "outputs": [
    {
     "data": {
      "text/plain": [
       "60"
      ]
     },
     "execution_count": 29,
     "metadata": {},
     "output_type": "execute_result"
    }
   ],
   "source": [
    "len(zn)"
   ]
  },
  {
   "cell_type": "code",
   "execution_count": 30,
   "metadata": {},
   "outputs": [
    {
     "data": {
      "text/plain": [
       "array([1.11185682])"
      ]
     },
     "execution_count": 30,
     "metadata": {},
     "output_type": "execute_result"
    }
   ],
   "source": [
    "np.power(zn[0]-zeta[0],2)"
   ]
  },
  {
   "cell_type": "code",
   "execution_count": 31,
   "metadata": {},
   "outputs": [
    {
     "data": {
      "text/plain": [
       "array([[0., 0., 0., ..., 0., 0., 0.],\n",
       "       [0., 0., 0., ..., 0., 0., 0.],\n",
       "       [0., 0., 0., ..., 0., 0., 0.],\n",
       "       ...,\n",
       "       [0., 0., 0., ..., 0., 0., 0.],\n",
       "       [0., 0., 0., ..., 0., 0., 0.],\n",
       "       [0., 0., 0., ..., 0., 0., 0.]])"
      ]
     },
     "execution_count": 31,
     "metadata": {},
     "output_type": "execute_result"
    }
   ],
   "source": [
    "h_kn = np.zeros((n,K))\n",
    "np.size(h_kn,axis=0)\n",
    "h_kn"
   ]
  },
  {
   "cell_type": "code",
   "execution_count": 32,
   "metadata": {},
   "outputs": [
    {
     "data": {
      "text/plain": [
       "0.0"
      ]
     },
     "execution_count": 32,
     "metadata": {},
     "output_type": "execute_result"
    }
   ],
   "source": [
    "h_kn[0][0]"
   ]
  },
  {
   "cell_type": "code",
   "execution_count": 33,
   "metadata": {},
   "outputs": [
    {
     "data": {
      "text/plain": [
       "50"
      ]
     },
     "execution_count": 33,
     "metadata": {},
     "output_type": "execute_result"
    }
   ],
   "source": [
    "K"
   ]
  },
  {
   "cell_type": "code",
   "execution_count": 34,
   "metadata": {},
   "outputs": [
    {
     "data": {
      "text/plain": [
       "array([1.        , 0.9216    , 0.781456  , 0.61058596, 0.44238461,\n",
       "       0.30122535, 0.19730298, 0.12868162, 0.08716271, 0.06369482,\n",
       "       0.05116154, 0.04485294, 0.04190784, 0.04066269, 0.04019824,\n",
       "       0.04004951, 0.0400099 , 0.04000148, 0.04000015, 0.04000001,\n",
       "       0.04      , 0.04      , 0.04      , 0.04      , 0.04      ,\n",
       "       0.04      , 0.04      , 0.04      , 0.04      , 0.04      ,\n",
       "       0.04      , 0.04      , 0.04      , 0.04      , 0.04      ,\n",
       "       0.04      , 0.04      , 0.04      , 0.04      , 0.04      ,\n",
       "       0.04      , 0.04      , 0.04      , 0.04      , 0.04      ,\n",
       "       0.04      , 0.04      , 0.04      , 0.04      , 0.04      ,\n",
       "       0.04      , 0.04      , 0.04      , 0.04      , 0.04      ,\n",
       "       0.04      , 0.04      , 0.04      , 0.04      , 0.04      ])"
      ]
     },
     "execution_count": 34,
     "metadata": {},
     "output_type": "execute_result"
    }
   ],
   "source": [
    "np.power(sig_t, 2)"
   ]
  },
  {
   "cell_type": "code",
   "execution_count": 35,
   "metadata": {},
   "outputs": [
    {
     "data": {
      "text/plain": [
       "array([[0.57353954, 0.59826423, 0.62301598, ..., 0.68854138, 0.66413161,\n",
       "        0.6395209 ],\n",
       "       [0.16383362, 0.17691214, 0.19071671, ..., 0.99986694, 0.99836941,\n",
       "        0.99521473],\n",
       "       [0.17890238, 0.19281486, 0.20746334, ..., 0.998008  , 0.99461004,\n",
       "        0.98957367],\n",
       "       ...,\n",
       "       [0.15775163, 0.17048226, 0.18393358, ..., 0.99999397, 0.99930295,\n",
       "        0.99695013],\n",
       "       [0.57241501, 0.59713655, 0.62188885, ..., 0.68964726, 0.66524879,\n",
       "        0.6406453 ],\n",
       "       [0.19514998, 0.2099189 , 0.22542966, ..., 0.993901  , 0.98859998,\n",
       "        0.9816904 ]])"
      ]
     },
     "execution_count": 35,
     "metadata": {},
     "output_type": "execute_result"
    }
   ],
   "source": [
    "time = 0\n",
    "for data in range(n):\n",
    "        for node in range(K):\n",
    "            h_kn[data][node] = np.exp( -1 / (2*np.power(sig_t[time], 2)) * np.power(zn[data]-zeta[node],2))\n",
    "h_kn"
   ]
  },
  {
   "cell_type": "code",
   "execution_count": 36,
   "metadata": {},
   "outputs": [
    {
     "data": {
      "text/plain": [
       "array([0.57353954, 0.16383362, 0.17890238, 0.20375275, 0.33768145,\n",
       "       0.14262547, 0.48067599, 0.31080358, 0.26657637, 0.34295464,\n",
       "       0.38281869, 0.33778962, 0.43682618, 0.45090959, 0.43013546,\n",
       "       0.37260111, 0.49207965, 0.42905806, 0.28423819, 0.49843117,\n",
       "       0.17477651, 0.1459692 , 0.53249023, 0.45206262, 0.56453831,\n",
       "       0.57266128, 0.47944901, 0.55395178, 0.55544192, 0.30226357,\n",
       "       0.56697005, 0.29067379, 0.32555022, 0.33448737, 0.18775979,\n",
       "       0.50358841, 0.40351219, 0.50180692, 0.24091754, 0.15561549,\n",
       "       0.16512887, 0.18991806, 0.40840027, 0.17034126, 0.5192318 ,\n",
       "       0.22444016, 0.16465359, 0.4501452 , 0.48585135, 0.27665401,\n",
       "       0.3156746 , 0.14211295, 0.26373123, 0.46068876, 0.56655185,\n",
       "       0.38163562, 0.45372096, 0.15775163, 0.57241501, 0.19514998])"
      ]
     },
     "execution_count": 36,
     "metadata": {},
     "output_type": "execute_result"
    }
   ],
   "source": [
    "h_kn[:,0]"
   ]
  },
  {
   "cell_type": "code",
   "execution_count": 37,
   "metadata": {},
   "outputs": [
    {
     "data": {
      "text/plain": [
       "21.524916805968587"
      ]
     },
     "execution_count": 37,
     "metadata": {},
     "output_type": "execute_result"
    }
   ],
   "source": [
    "sum(h_kn[:,0])"
   ]
  },
  {
   "cell_type": "code",
   "execution_count": 38,
   "metadata": {},
   "outputs": [
    {
     "data": {
      "text/plain": [
       "array([0.])"
      ]
     },
     "execution_count": 38,
     "metadata": {},
     "output_type": "execute_result"
    }
   ],
   "source": [
    "g_k = np.zeros((K))\n",
    "g_k = np.reshape(g_k,(K,1))\n",
    "g_k[0]"
   ]
  },
  {
   "cell_type": "code",
   "execution_count": 39,
   "metadata": {},
   "outputs": [
    {
     "data": {
      "text/plain": [
       "50"
      ]
     },
     "execution_count": 39,
     "metadata": {},
     "output_type": "execute_result"
    }
   ],
   "source": [
    "for node in range(K):\n",
    "    g_k[node] = np.sum(h_kn[:,node])\n",
    "np.size(g_k)"
   ]
  },
  {
   "cell_type": "code",
   "execution_count": 40,
   "metadata": {},
   "outputs": [
    {
     "data": {
      "text/plain": [
       "array([0., 0.])"
      ]
     },
     "execution_count": 40,
     "metadata": {},
     "output_type": "execute_result"
    }
   ],
   "source": [
    "y_k = np.zeros((K,2))\n",
    "y_k = np.reshape(y_k, (K,2))\n",
    "y_k[0]"
   ]
  },
  {
   "cell_type": "code",
   "execution_count": 41,
   "metadata": {},
   "outputs": [
    {
     "data": {
      "text/plain": [
       "array([0., 0.])"
      ]
     },
     "execution_count": 41,
     "metadata": {},
     "output_type": "execute_result"
    }
   ],
   "source": [
    "h_X = np.zeros((n,2))\n",
    "h_X = np.reshape(h_X, (n,2))\n",
    "h_X[0]"
   ]
  },
  {
   "cell_type": "code",
   "execution_count": 42,
   "metadata": {},
   "outputs": [
    {
     "data": {
      "text/plain": [
       "array([-3.        , -0.14112001])"
      ]
     },
     "execution_count": 42,
     "metadata": {},
     "output_type": "execute_result"
    }
   ],
   "source": [
    "X[0]"
   ]
  },
  {
   "cell_type": "code",
   "execution_count": 43,
   "metadata": {
    "scrolled": true
   },
   "outputs": [
    {
     "name": "stdout",
     "output_type": "stream",
     "text": [
      "[[-1.72061861e+00 -8.09379038e-02]\n",
      " [-4.75117497e-01 -3.91970836e-02]\n",
      " [-5.00926673e-01 -5.99301784e-02]\n",
      " [-5.50132412e-01 -8.70798239e-02]\n",
      " [-8.77971781e-01 -1.74075253e-01]\n",
      " [-3.56563672e-01 -8.53573700e-02]\n",
      " [-1.15362237e+00 -3.24678931e-01]\n",
      " [-7.14848228e-01 -2.31767848e-01]\n",
      " [-5.86468023e-01 -2.15526040e-01]\n",
      " [-7.20204736e-01 -2.96041654e-01]\n",
      " [-7.65637371e-01 -3.48096046e-01]\n",
      " [-6.41800284e-01 -3.19650350e-01]\n",
      " [-7.86287123e-01 -4.25402140e-01]\n",
      " [-7.66546308e-01 -4.47151176e-01]\n",
      " [-6.88216739e-01 -4.29952053e-01]\n",
      " [-5.58901669e-01 -3.71667742e-01]\n",
      " [-6.88911516e-01 -4.84919762e-01]\n",
      " [-5.57775472e-01 -4.13422402e-01]\n",
      " [-3.41085826e-01 -2.64921101e-01]\n",
      " [-5.48274292e-01 -4.44205531e-01]\n",
      " [-1.74776508e-01 -1.47069360e-01]\n",
      " [-1.31372276e-01 -1.14341599e-01]\n",
      " [-4.25992182e-01 -3.81985108e-01]\n",
      " [-3.16443834e-01 -2.91226735e-01]\n",
      " [-3.38722987e-01 -3.18762308e-01]\n",
      " [-2.86330638e-01 -2.74548441e-01]\n",
      " [-1.91779603e-01 -1.86706238e-01]\n",
      " [-1.66185534e-01 -1.63703945e-01]\n",
      " [-1.11088384e-01 -1.10349275e-01]\n",
      " [-3.02263567e-02 -3.01760047e-02]\n",
      " [ 1.51071168e-15  1.51071168e-15]\n",
      " [ 2.90673790e-02  2.90189576e-02]\n",
      " [ 6.51100432e-02  6.46768436e-02]\n",
      " [ 1.00346212e-01  9.88477779e-02]\n",
      " [ 7.51039148e-02  7.31171050e-02]\n",
      " [ 2.51794207e-01  2.41433147e-01]\n",
      " [ 2.42107314e-01  2.27840121e-01]\n",
      " [ 3.51264841e-01  3.23272890e-01]\n",
      " [ 1.92734031e-01  1.72823664e-01]\n",
      " [ 1.40053938e-01  1.21897798e-01]\n",
      " [ 1.65128869e-01  1.38951152e-01]\n",
      " [ 2.08909865e-01  1.69256372e-01]\n",
      " [ 4.90080326e-01  3.80645016e-01]\n",
      " [ 2.21443642e-01  1.64133718e-01]\n",
      " [ 7.26924514e-01  5.11676833e-01]\n",
      " [ 3.36660233e-01  2.23877930e-01]\n",
      " [ 2.63445741e-01  1.64583380e-01]\n",
      " [ 7.65246835e-01  4.46393152e-01]\n",
      " [ 8.74532424e-01  4.73145183e-01]\n",
      " [ 5.25642610e-01  2.61797709e-01]\n",
      " [ 6.31349191e-01  2.87042097e-01]\n",
      " [ 2.98437195e-01  1.22673230e-01]\n",
      " [ 5.80208696e-01  2.13225747e-01]\n",
      " [ 1.05958414e+00  3.43538009e-01]\n",
      " [ 1.35972444e+00  3.82684914e-01]\n",
      " [ 9.54089050e-01  2.28398288e-01]\n",
      " [ 1.17967450e+00  2.33893778e-01]\n",
      " [ 4.25929396e-01  6.74198720e-02]\n",
      " [ 1.60276202e+00  1.91752245e-01]\n",
      " [ 5.65934930e-01  4.66895008e-02]]\n"
     ]
    },
    {
     "data": {
      "text/plain": [
       "array([-1.48953839, -1.15814297])"
      ]
     },
     "execution_count": 43,
     "metadata": {},
     "output_type": "execute_result"
    }
   ],
   "source": [
    "for data in range(n):\n",
    "    h_X[data] = h_kn[data][0]*X[data]\n",
    "print(h_X)\n",
    "np.sum(h_X,axis=0)"
   ]
  },
  {
   "cell_type": "code",
   "execution_count": 44,
   "metadata": {
    "scrolled": true
   },
   "outputs": [
    {
     "data": {
      "text/plain": [
       "array([[-0.06920066, -0.05380476],\n",
       "       [-0.06921834, -0.05282199],\n",
       "       [-0.06921676, -0.05182001],\n",
       "       [-0.06919569, -0.05079875],\n",
       "       [-0.06915486, -0.04975816],\n",
       "       [-0.06909404, -0.0486982 ],\n",
       "       [-0.069013  , -0.04761882],\n",
       "       [-0.06891151, -0.04652   ],\n",
       "       [-0.06878935, -0.04540173],\n",
       "       [-0.06864632, -0.04426401],\n",
       "       [-0.06848222, -0.04310683],\n",
       "       [-0.06829685, -0.04193021],\n",
       "       [-0.06809003, -0.04073418],\n",
       "       [-0.0678616 , -0.03951878],\n",
       "       [-0.06761139, -0.03828405],\n",
       "       [-0.06733926, -0.03703007],\n",
       "       [-0.06704506, -0.0357569 ],\n",
       "       [-0.06672866, -0.03446463],\n",
       "       [-0.06638996, -0.03315336],\n",
       "       [-0.06602884, -0.03182319],\n",
       "       [-0.06564521, -0.03047425],\n",
       "       [-0.065239  , -0.02910667],\n",
       "       [-0.06481014, -0.02772061],\n",
       "       [-0.06435856, -0.02631621],\n",
       "       [-0.06388424, -0.02489366],\n",
       "       [-0.06338714, -0.02345314],\n",
       "       [-0.06286725, -0.02199484],\n",
       "       [-0.06232457, -0.02051899],\n",
       "       [-0.06175912, -0.01902579],\n",
       "       [-0.06117092, -0.01751549],\n",
       "       [-0.06056001, -0.01598834],\n",
       "       [-0.05992646, -0.0144446 ],\n",
       "       [-0.05927034, -0.01288454],\n",
       "       [-0.05859172, -0.01130844],\n",
       "       [-0.05789072, -0.00971662],\n",
       "       [-0.05716746, -0.00810938],\n",
       "       [-0.05642205, -0.00648704],\n",
       "       [-0.05565465, -0.00484994],\n",
       "       [-0.05486542, -0.00319842],\n",
       "       [-0.05405454, -0.00153284],\n",
       "       [-0.0532222 ,  0.00014642],\n",
       "       [-0.05236859,  0.001839  ],\n",
       "       [-0.05149395,  0.00354449],\n",
       "       [-0.05059851,  0.0052625 ],\n",
       "       [-0.04968252,  0.00699262],\n",
       "       [-0.04874623,  0.00873443],\n",
       "       [-0.04778994,  0.01048749],\n",
       "       [-0.04681392,  0.01225137],\n",
       "       [-0.04581849,  0.01402563],\n",
       "       [-0.04480397,  0.01580979]])"
      ]
     },
     "execution_count": 44,
     "metadata": {},
     "output_type": "execute_result"
    }
   ],
   "source": [
    "h_X = np.zeros((n,2))\n",
    "h_X = np.reshape(h_X, (n,2))\n",
    "for node in range(K):\n",
    "    for data in range(n):\n",
    "        h_X[data] = h_kn[data][node]*X[data]\n",
    "    y_k[node] = 1/g_k[node] * np.sum(h_X,axis=0)\n",
    "#h_X\n",
    "#np.size(y_k,axis=0)\n",
    "y_k"
   ]
  },
  {
   "cell_type": "code",
   "execution_count": 45,
   "metadata": {},
   "outputs": [
    {
     "data": {
      "text/plain": [
       "array([0.])"
      ]
     },
     "execution_count": 45,
     "metadata": {},
     "output_type": "execute_result"
    }
   ],
   "source": [
    "k_n = np.zeros((n))\n",
    "k_n = np.reshape(k_n, (n,1))\n",
    "k_n[0]"
   ]
  },
  {
   "cell_type": "code",
   "execution_count": 46,
   "metadata": {
    "scrolled": true
   },
   "outputs": [
    {
     "data": {
      "text/plain": [
       "array([0., 0., 0., 0., 0., 0., 0., 0., 0., 0., 0., 0., 0., 0., 0., 0., 0.,\n",
       "       0., 0., 0., 0., 0., 0., 0., 0., 0., 0., 0., 0., 0., 0., 0., 0., 0.,\n",
       "       0., 0., 0., 0., 0., 0., 0., 0., 0., 0., 0., 0., 0., 0., 0., 0.])"
      ]
     },
     "execution_count": 46,
     "metadata": {},
     "output_type": "execute_result"
    }
   ],
   "source": [
    "xn_yk = np.zeros((K))\n",
    "xn_yk"
   ]
  },
  {
   "cell_type": "code",
   "execution_count": 47,
   "metadata": {
    "scrolled": true
   },
   "outputs": [
    {
     "data": {
      "text/plain": [
       "array([[ 0.],\n",
       "       [ 0.],\n",
       "       [ 0.],\n",
       "       [ 0.],\n",
       "       [ 0.],\n",
       "       [ 0.],\n",
       "       [ 0.],\n",
       "       [ 0.],\n",
       "       [ 0.],\n",
       "       [ 0.],\n",
       "       [ 0.],\n",
       "       [ 0.],\n",
       "       [ 0.],\n",
       "       [ 0.],\n",
       "       [ 0.],\n",
       "       [ 0.],\n",
       "       [ 0.],\n",
       "       [ 0.],\n",
       "       [ 0.],\n",
       "       [ 0.],\n",
       "       [ 0.],\n",
       "       [ 0.],\n",
       "       [ 0.],\n",
       "       [ 0.],\n",
       "       [ 0.],\n",
       "       [ 0.],\n",
       "       [ 0.],\n",
       "       [ 0.],\n",
       "       [ 0.],\n",
       "       [ 0.],\n",
       "       [49.],\n",
       "       [49.],\n",
       "       [49.],\n",
       "       [49.],\n",
       "       [49.],\n",
       "       [49.],\n",
       "       [49.],\n",
       "       [49.],\n",
       "       [49.],\n",
       "       [49.],\n",
       "       [49.],\n",
       "       [49.],\n",
       "       [49.],\n",
       "       [49.],\n",
       "       [49.],\n",
       "       [49.],\n",
       "       [49.],\n",
       "       [49.],\n",
       "       [49.],\n",
       "       [49.],\n",
       "       [49.],\n",
       "       [49.],\n",
       "       [49.],\n",
       "       [49.],\n",
       "       [49.],\n",
       "       [49.],\n",
       "       [49.],\n",
       "       [49.],\n",
       "       [49.],\n",
       "       [49.]])"
      ]
     },
     "execution_count": 47,
     "metadata": {},
     "output_type": "execute_result"
    }
   ],
   "source": [
    "for data in range(n):\n",
    "        xn_yk_min = np.power(X[data][0] - y_k[0][0], 2) + np.power(X[data][1] - y_k[0][1], 2)\n",
    "        #print(xn_yk_min)\n",
    "        Nd = 0\n",
    "        for node in range(1,K):\n",
    "            xn_yk = np.power(X[data][0] - y_k[node][0], 2) + np.power(X[data][1] - y_k[node][1], 2)\n",
    "            if xn_yk_min > xn_yk:\n",
    "                xn_yk_min = xn_yk\n",
    "                Nd = node\n",
    "        k_n[data] = Nd\n",
    "k_n"
   ]
  },
  {
   "cell_type": "code",
   "execution_count": 48,
   "metadata": {},
   "outputs": [
    {
     "data": {
      "text/plain": [
       "array([-1.])"
      ]
     },
     "execution_count": 48,
     "metadata": {},
     "output_type": "execute_result"
    }
   ],
   "source": [
    "zeta[0]"
   ]
  },
  {
   "cell_type": "code",
   "execution_count": 60,
   "metadata": {
    "scrolled": true
   },
   "outputs": [
    {
     "data": {
      "application/javascript": [
       "/* Put everything inside the global mpl namespace */\n",
       "window.mpl = {};\n",
       "\n",
       "\n",
       "mpl.get_websocket_type = function() {\n",
       "    if (typeof(WebSocket) !== 'undefined') {\n",
       "        return WebSocket;\n",
       "    } else if (typeof(MozWebSocket) !== 'undefined') {\n",
       "        return MozWebSocket;\n",
       "    } else {\n",
       "        alert('Your browser does not have WebSocket support.' +\n",
       "              'Please try Chrome, Safari or Firefox ≥ 6. ' +\n",
       "              'Firefox 4 and 5 are also supported but you ' +\n",
       "              'have to enable WebSockets in about:config.');\n",
       "    };\n",
       "}\n",
       "\n",
       "mpl.figure = function(figure_id, websocket, ondownload, parent_element) {\n",
       "    this.id = figure_id;\n",
       "\n",
       "    this.ws = websocket;\n",
       "\n",
       "    this.supports_binary = (this.ws.binaryType != undefined);\n",
       "\n",
       "    if (!this.supports_binary) {\n",
       "        var warnings = document.getElementById(\"mpl-warnings\");\n",
       "        if (warnings) {\n",
       "            warnings.style.display = 'block';\n",
       "            warnings.textContent = (\n",
       "                \"This browser does not support binary websocket messages. \" +\n",
       "                    \"Performance may be slow.\");\n",
       "        }\n",
       "    }\n",
       "\n",
       "    this.imageObj = new Image();\n",
       "\n",
       "    this.context = undefined;\n",
       "    this.message = undefined;\n",
       "    this.canvas = undefined;\n",
       "    this.rubberband_canvas = undefined;\n",
       "    this.rubberband_context = undefined;\n",
       "    this.format_dropdown = undefined;\n",
       "\n",
       "    this.image_mode = 'full';\n",
       "\n",
       "    this.root = $('<div/>');\n",
       "    this._root_extra_style(this.root)\n",
       "    this.root.attr('style', 'display: inline-block');\n",
       "\n",
       "    $(parent_element).append(this.root);\n",
       "\n",
       "    this._init_header(this);\n",
       "    this._init_canvas(this);\n",
       "    this._init_toolbar(this);\n",
       "\n",
       "    var fig = this;\n",
       "\n",
       "    this.waiting = false;\n",
       "\n",
       "    this.ws.onopen =  function () {\n",
       "            fig.send_message(\"supports_binary\", {value: fig.supports_binary});\n",
       "            fig.send_message(\"send_image_mode\", {});\n",
       "            if (mpl.ratio != 1) {\n",
       "                fig.send_message(\"set_dpi_ratio\", {'dpi_ratio': mpl.ratio});\n",
       "            }\n",
       "            fig.send_message(\"refresh\", {});\n",
       "        }\n",
       "\n",
       "    this.imageObj.onload = function() {\n",
       "            if (fig.image_mode == 'full') {\n",
       "                // Full images could contain transparency (where diff images\n",
       "                // almost always do), so we need to clear the canvas so that\n",
       "                // there is no ghosting.\n",
       "                fig.context.clearRect(0, 0, fig.canvas.width, fig.canvas.height);\n",
       "            }\n",
       "            fig.context.drawImage(fig.imageObj, 0, 0);\n",
       "        };\n",
       "\n",
       "    this.imageObj.onunload = function() {\n",
       "        fig.ws.close();\n",
       "    }\n",
       "\n",
       "    this.ws.onmessage = this._make_on_message_function(this);\n",
       "\n",
       "    this.ondownload = ondownload;\n",
       "}\n",
       "\n",
       "mpl.figure.prototype._init_header = function() {\n",
       "    var titlebar = $(\n",
       "        '<div class=\"ui-dialog-titlebar ui-widget-header ui-corner-all ' +\n",
       "        'ui-helper-clearfix\"/>');\n",
       "    var titletext = $(\n",
       "        '<div class=\"ui-dialog-title\" style=\"width: 100%; ' +\n",
       "        'text-align: center; padding: 3px;\"/>');\n",
       "    titlebar.append(titletext)\n",
       "    this.root.append(titlebar);\n",
       "    this.header = titletext[0];\n",
       "}\n",
       "\n",
       "\n",
       "\n",
       "mpl.figure.prototype._canvas_extra_style = function(canvas_div) {\n",
       "\n",
       "}\n",
       "\n",
       "\n",
       "mpl.figure.prototype._root_extra_style = function(canvas_div) {\n",
       "\n",
       "}\n",
       "\n",
       "mpl.figure.prototype._init_canvas = function() {\n",
       "    var fig = this;\n",
       "\n",
       "    var canvas_div = $('<div/>');\n",
       "\n",
       "    canvas_div.attr('style', 'position: relative; clear: both; outline: 0');\n",
       "\n",
       "    function canvas_keyboard_event(event) {\n",
       "        return fig.key_event(event, event['data']);\n",
       "    }\n",
       "\n",
       "    canvas_div.keydown('key_press', canvas_keyboard_event);\n",
       "    canvas_div.keyup('key_release', canvas_keyboard_event);\n",
       "    this.canvas_div = canvas_div\n",
       "    this._canvas_extra_style(canvas_div)\n",
       "    this.root.append(canvas_div);\n",
       "\n",
       "    var canvas = $('<canvas/>');\n",
       "    canvas.addClass('mpl-canvas');\n",
       "    canvas.attr('style', \"left: 0; top: 0; z-index: 0; outline: 0\")\n",
       "\n",
       "    this.canvas = canvas[0];\n",
       "    this.context = canvas[0].getContext(\"2d\");\n",
       "\n",
       "    var backingStore = this.context.backingStorePixelRatio ||\n",
       "\tthis.context.webkitBackingStorePixelRatio ||\n",
       "\tthis.context.mozBackingStorePixelRatio ||\n",
       "\tthis.context.msBackingStorePixelRatio ||\n",
       "\tthis.context.oBackingStorePixelRatio ||\n",
       "\tthis.context.backingStorePixelRatio || 1;\n",
       "\n",
       "    mpl.ratio = (window.devicePixelRatio || 1) / backingStore;\n",
       "\n",
       "    var rubberband = $('<canvas/>');\n",
       "    rubberband.attr('style', \"position: absolute; left: 0; top: 0; z-index: 1;\")\n",
       "\n",
       "    var pass_mouse_events = true;\n",
       "\n",
       "    canvas_div.resizable({\n",
       "        start: function(event, ui) {\n",
       "            pass_mouse_events = false;\n",
       "        },\n",
       "        resize: function(event, ui) {\n",
       "            fig.request_resize(ui.size.width, ui.size.height);\n",
       "        },\n",
       "        stop: function(event, ui) {\n",
       "            pass_mouse_events = true;\n",
       "            fig.request_resize(ui.size.width, ui.size.height);\n",
       "        },\n",
       "    });\n",
       "\n",
       "    function mouse_event_fn(event) {\n",
       "        if (pass_mouse_events)\n",
       "            return fig.mouse_event(event, event['data']);\n",
       "    }\n",
       "\n",
       "    rubberband.mousedown('button_press', mouse_event_fn);\n",
       "    rubberband.mouseup('button_release', mouse_event_fn);\n",
       "    // Throttle sequential mouse events to 1 every 20ms.\n",
       "    rubberband.mousemove('motion_notify', mouse_event_fn);\n",
       "\n",
       "    rubberband.mouseenter('figure_enter', mouse_event_fn);\n",
       "    rubberband.mouseleave('figure_leave', mouse_event_fn);\n",
       "\n",
       "    canvas_div.on(\"wheel\", function (event) {\n",
       "        event = event.originalEvent;\n",
       "        event['data'] = 'scroll'\n",
       "        if (event.deltaY < 0) {\n",
       "            event.step = 1;\n",
       "        } else {\n",
       "            event.step = -1;\n",
       "        }\n",
       "        mouse_event_fn(event);\n",
       "    });\n",
       "\n",
       "    canvas_div.append(canvas);\n",
       "    canvas_div.append(rubberband);\n",
       "\n",
       "    this.rubberband = rubberband;\n",
       "    this.rubberband_canvas = rubberband[0];\n",
       "    this.rubberband_context = rubberband[0].getContext(\"2d\");\n",
       "    this.rubberband_context.strokeStyle = \"#000000\";\n",
       "\n",
       "    this._resize_canvas = function(width, height) {\n",
       "        // Keep the size of the canvas, canvas container, and rubber band\n",
       "        // canvas in synch.\n",
       "        canvas_div.css('width', width)\n",
       "        canvas_div.css('height', height)\n",
       "\n",
       "        canvas.attr('width', width * mpl.ratio);\n",
       "        canvas.attr('height', height * mpl.ratio);\n",
       "        canvas.attr('style', 'width: ' + width + 'px; height: ' + height + 'px;');\n",
       "\n",
       "        rubberband.attr('width', width);\n",
       "        rubberband.attr('height', height);\n",
       "    }\n",
       "\n",
       "    // Set the figure to an initial 600x600px, this will subsequently be updated\n",
       "    // upon first draw.\n",
       "    this._resize_canvas(600, 600);\n",
       "\n",
       "    // Disable right mouse context menu.\n",
       "    $(this.rubberband_canvas).bind(\"contextmenu\",function(e){\n",
       "        return false;\n",
       "    });\n",
       "\n",
       "    function set_focus () {\n",
       "        canvas.focus();\n",
       "        canvas_div.focus();\n",
       "    }\n",
       "\n",
       "    window.setTimeout(set_focus, 100);\n",
       "}\n",
       "\n",
       "mpl.figure.prototype._init_toolbar = function() {\n",
       "    var fig = this;\n",
       "\n",
       "    var nav_element = $('<div/>')\n",
       "    nav_element.attr('style', 'width: 100%');\n",
       "    this.root.append(nav_element);\n",
       "\n",
       "    // Define a callback function for later on.\n",
       "    function toolbar_event(event) {\n",
       "        return fig.toolbar_button_onclick(event['data']);\n",
       "    }\n",
       "    function toolbar_mouse_event(event) {\n",
       "        return fig.toolbar_button_onmouseover(event['data']);\n",
       "    }\n",
       "\n",
       "    for(var toolbar_ind in mpl.toolbar_items) {\n",
       "        var name = mpl.toolbar_items[toolbar_ind][0];\n",
       "        var tooltip = mpl.toolbar_items[toolbar_ind][1];\n",
       "        var image = mpl.toolbar_items[toolbar_ind][2];\n",
       "        var method_name = mpl.toolbar_items[toolbar_ind][3];\n",
       "\n",
       "        if (!name) {\n",
       "            // put a spacer in here.\n",
       "            continue;\n",
       "        }\n",
       "        var button = $('<button/>');\n",
       "        button.addClass('ui-button ui-widget ui-state-default ui-corner-all ' +\n",
       "                        'ui-button-icon-only');\n",
       "        button.attr('role', 'button');\n",
       "        button.attr('aria-disabled', 'false');\n",
       "        button.click(method_name, toolbar_event);\n",
       "        button.mouseover(tooltip, toolbar_mouse_event);\n",
       "\n",
       "        var icon_img = $('<span/>');\n",
       "        icon_img.addClass('ui-button-icon-primary ui-icon');\n",
       "        icon_img.addClass(image);\n",
       "        icon_img.addClass('ui-corner-all');\n",
       "\n",
       "        var tooltip_span = $('<span/>');\n",
       "        tooltip_span.addClass('ui-button-text');\n",
       "        tooltip_span.html(tooltip);\n",
       "\n",
       "        button.append(icon_img);\n",
       "        button.append(tooltip_span);\n",
       "\n",
       "        nav_element.append(button);\n",
       "    }\n",
       "\n",
       "    var fmt_picker_span = $('<span/>');\n",
       "\n",
       "    var fmt_picker = $('<select/>');\n",
       "    fmt_picker.addClass('mpl-toolbar-option ui-widget ui-widget-content');\n",
       "    fmt_picker_span.append(fmt_picker);\n",
       "    nav_element.append(fmt_picker_span);\n",
       "    this.format_dropdown = fmt_picker[0];\n",
       "\n",
       "    for (var ind in mpl.extensions) {\n",
       "        var fmt = mpl.extensions[ind];\n",
       "        var option = $(\n",
       "            '<option/>', {selected: fmt === mpl.default_extension}).html(fmt);\n",
       "        fmt_picker.append(option)\n",
       "    }\n",
       "\n",
       "    // Add hover states to the ui-buttons\n",
       "    $( \".ui-button\" ).hover(\n",
       "        function() { $(this).addClass(\"ui-state-hover\");},\n",
       "        function() { $(this).removeClass(\"ui-state-hover\");}\n",
       "    );\n",
       "\n",
       "    var status_bar = $('<span class=\"mpl-message\"/>');\n",
       "    nav_element.append(status_bar);\n",
       "    this.message = status_bar[0];\n",
       "}\n",
       "\n",
       "mpl.figure.prototype.request_resize = function(x_pixels, y_pixels) {\n",
       "    // Request matplotlib to resize the figure. Matplotlib will then trigger a resize in the client,\n",
       "    // which will in turn request a refresh of the image.\n",
       "    this.send_message('resize', {'width': x_pixels, 'height': y_pixels});\n",
       "}\n",
       "\n",
       "mpl.figure.prototype.send_message = function(type, properties) {\n",
       "    properties['type'] = type;\n",
       "    properties['figure_id'] = this.id;\n",
       "    this.ws.send(JSON.stringify(properties));\n",
       "}\n",
       "\n",
       "mpl.figure.prototype.send_draw_message = function() {\n",
       "    if (!this.waiting) {\n",
       "        this.waiting = true;\n",
       "        this.ws.send(JSON.stringify({type: \"draw\", figure_id: this.id}));\n",
       "    }\n",
       "}\n",
       "\n",
       "\n",
       "mpl.figure.prototype.handle_save = function(fig, msg) {\n",
       "    var format_dropdown = fig.format_dropdown;\n",
       "    var format = format_dropdown.options[format_dropdown.selectedIndex].value;\n",
       "    fig.ondownload(fig, format);\n",
       "}\n",
       "\n",
       "\n",
       "mpl.figure.prototype.handle_resize = function(fig, msg) {\n",
       "    var size = msg['size'];\n",
       "    if (size[0] != fig.canvas.width || size[1] != fig.canvas.height) {\n",
       "        fig._resize_canvas(size[0], size[1]);\n",
       "        fig.send_message(\"refresh\", {});\n",
       "    };\n",
       "}\n",
       "\n",
       "mpl.figure.prototype.handle_rubberband = function(fig, msg) {\n",
       "    var x0 = msg['x0'] / mpl.ratio;\n",
       "    var y0 = (fig.canvas.height - msg['y0']) / mpl.ratio;\n",
       "    var x1 = msg['x1'] / mpl.ratio;\n",
       "    var y1 = (fig.canvas.height - msg['y1']) / mpl.ratio;\n",
       "    x0 = Math.floor(x0) + 0.5;\n",
       "    y0 = Math.floor(y0) + 0.5;\n",
       "    x1 = Math.floor(x1) + 0.5;\n",
       "    y1 = Math.floor(y1) + 0.5;\n",
       "    var min_x = Math.min(x0, x1);\n",
       "    var min_y = Math.min(y0, y1);\n",
       "    var width = Math.abs(x1 - x0);\n",
       "    var height = Math.abs(y1 - y0);\n",
       "\n",
       "    fig.rubberband_context.clearRect(\n",
       "        0, 0, fig.canvas.width, fig.canvas.height);\n",
       "\n",
       "    fig.rubberband_context.strokeRect(min_x, min_y, width, height);\n",
       "}\n",
       "\n",
       "mpl.figure.prototype.handle_figure_label = function(fig, msg) {\n",
       "    // Updates the figure title.\n",
       "    fig.header.textContent = msg['label'];\n",
       "}\n",
       "\n",
       "mpl.figure.prototype.handle_cursor = function(fig, msg) {\n",
       "    var cursor = msg['cursor'];\n",
       "    switch(cursor)\n",
       "    {\n",
       "    case 0:\n",
       "        cursor = 'pointer';\n",
       "        break;\n",
       "    case 1:\n",
       "        cursor = 'default';\n",
       "        break;\n",
       "    case 2:\n",
       "        cursor = 'crosshair';\n",
       "        break;\n",
       "    case 3:\n",
       "        cursor = 'move';\n",
       "        break;\n",
       "    }\n",
       "    fig.rubberband_canvas.style.cursor = cursor;\n",
       "}\n",
       "\n",
       "mpl.figure.prototype.handle_message = function(fig, msg) {\n",
       "    fig.message.textContent = msg['message'];\n",
       "}\n",
       "\n",
       "mpl.figure.prototype.handle_draw = function(fig, msg) {\n",
       "    // Request the server to send over a new figure.\n",
       "    fig.send_draw_message();\n",
       "}\n",
       "\n",
       "mpl.figure.prototype.handle_image_mode = function(fig, msg) {\n",
       "    fig.image_mode = msg['mode'];\n",
       "}\n",
       "\n",
       "mpl.figure.prototype.updated_canvas_event = function() {\n",
       "    // Called whenever the canvas gets updated.\n",
       "    this.send_message(\"ack\", {});\n",
       "}\n",
       "\n",
       "// A function to construct a web socket function for onmessage handling.\n",
       "// Called in the figure constructor.\n",
       "mpl.figure.prototype._make_on_message_function = function(fig) {\n",
       "    return function socket_on_message(evt) {\n",
       "        if (evt.data instanceof Blob) {\n",
       "            /* FIXME: We get \"Resource interpreted as Image but\n",
       "             * transferred with MIME type text/plain:\" errors on\n",
       "             * Chrome.  But how to set the MIME type?  It doesn't seem\n",
       "             * to be part of the websocket stream */\n",
       "            evt.data.type = \"image/png\";\n",
       "\n",
       "            /* Free the memory for the previous frames */\n",
       "            if (fig.imageObj.src) {\n",
       "                (window.URL || window.webkitURL).revokeObjectURL(\n",
       "                    fig.imageObj.src);\n",
       "            }\n",
       "\n",
       "            fig.imageObj.src = (window.URL || window.webkitURL).createObjectURL(\n",
       "                evt.data);\n",
       "            fig.updated_canvas_event();\n",
       "            fig.waiting = false;\n",
       "            return;\n",
       "        }\n",
       "        else if (typeof evt.data === 'string' && evt.data.slice(0, 21) == \"data:image/png;base64\") {\n",
       "            fig.imageObj.src = evt.data;\n",
       "            fig.updated_canvas_event();\n",
       "            fig.waiting = false;\n",
       "            return;\n",
       "        }\n",
       "\n",
       "        var msg = JSON.parse(evt.data);\n",
       "        var msg_type = msg['type'];\n",
       "\n",
       "        // Call the  \"handle_{type}\" callback, which takes\n",
       "        // the figure and JSON message as its only arguments.\n",
       "        try {\n",
       "            var callback = fig[\"handle_\" + msg_type];\n",
       "        } catch (e) {\n",
       "            console.log(\"No handler for the '\" + msg_type + \"' message type: \", msg);\n",
       "            return;\n",
       "        }\n",
       "\n",
       "        if (callback) {\n",
       "            try {\n",
       "                // console.log(\"Handling '\" + msg_type + \"' message: \", msg);\n",
       "                callback(fig, msg);\n",
       "            } catch (e) {\n",
       "                console.log(\"Exception inside the 'handler_\" + msg_type + \"' callback:\", e, e.stack, msg);\n",
       "            }\n",
       "        }\n",
       "    };\n",
       "}\n",
       "\n",
       "// from http://stackoverflow.com/questions/1114465/getting-mouse-location-in-canvas\n",
       "mpl.findpos = function(e) {\n",
       "    //this section is from http://www.quirksmode.org/js/events_properties.html\n",
       "    var targ;\n",
       "    if (!e)\n",
       "        e = window.event;\n",
       "    if (e.target)\n",
       "        targ = e.target;\n",
       "    else if (e.srcElement)\n",
       "        targ = e.srcElement;\n",
       "    if (targ.nodeType == 3) // defeat Safari bug\n",
       "        targ = targ.parentNode;\n",
       "\n",
       "    // jQuery normalizes the pageX and pageY\n",
       "    // pageX,Y are the mouse positions relative to the document\n",
       "    // offset() returns the position of the element relative to the document\n",
       "    var x = e.pageX - $(targ).offset().left;\n",
       "    var y = e.pageY - $(targ).offset().top;\n",
       "\n",
       "    return {\"x\": x, \"y\": y};\n",
       "};\n",
       "\n",
       "/*\n",
       " * return a copy of an object with only non-object keys\n",
       " * we need this to avoid circular references\n",
       " * http://stackoverflow.com/a/24161582/3208463\n",
       " */\n",
       "function simpleKeys (original) {\n",
       "  return Object.keys(original).reduce(function (obj, key) {\n",
       "    if (typeof original[key] !== 'object')\n",
       "        obj[key] = original[key]\n",
       "    return obj;\n",
       "  }, {});\n",
       "}\n",
       "\n",
       "mpl.figure.prototype.mouse_event = function(event, name) {\n",
       "    var canvas_pos = mpl.findpos(event)\n",
       "\n",
       "    if (name === 'button_press')\n",
       "    {\n",
       "        this.canvas.focus();\n",
       "        this.canvas_div.focus();\n",
       "    }\n",
       "\n",
       "    var x = canvas_pos.x * mpl.ratio;\n",
       "    var y = canvas_pos.y * mpl.ratio;\n",
       "\n",
       "    this.send_message(name, {x: x, y: y, button: event.button,\n",
       "                             step: event.step,\n",
       "                             guiEvent: simpleKeys(event)});\n",
       "\n",
       "    /* This prevents the web browser from automatically changing to\n",
       "     * the text insertion cursor when the button is pressed.  We want\n",
       "     * to control all of the cursor setting manually through the\n",
       "     * 'cursor' event from matplotlib */\n",
       "    event.preventDefault();\n",
       "    return false;\n",
       "}\n",
       "\n",
       "mpl.figure.prototype._key_event_extra = function(event, name) {\n",
       "    // Handle any extra behaviour associated with a key event\n",
       "}\n",
       "\n",
       "mpl.figure.prototype.key_event = function(event, name) {\n",
       "\n",
       "    // Prevent repeat events\n",
       "    if (name == 'key_press')\n",
       "    {\n",
       "        if (event.which === this._key)\n",
       "            return;\n",
       "        else\n",
       "            this._key = event.which;\n",
       "    }\n",
       "    if (name == 'key_release')\n",
       "        this._key = null;\n",
       "\n",
       "    var value = '';\n",
       "    if (event.ctrlKey && event.which != 17)\n",
       "        value += \"ctrl+\";\n",
       "    if (event.altKey && event.which != 18)\n",
       "        value += \"alt+\";\n",
       "    if (event.shiftKey && event.which != 16)\n",
       "        value += \"shift+\";\n",
       "\n",
       "    value += 'k';\n",
       "    value += event.which.toString();\n",
       "\n",
       "    this._key_event_extra(event, name);\n",
       "\n",
       "    this.send_message(name, {key: value,\n",
       "                             guiEvent: simpleKeys(event)});\n",
       "    return false;\n",
       "}\n",
       "\n",
       "mpl.figure.prototype.toolbar_button_onclick = function(name) {\n",
       "    if (name == 'download') {\n",
       "        this.handle_save(this, null);\n",
       "    } else {\n",
       "        this.send_message(\"toolbar_button\", {name: name});\n",
       "    }\n",
       "};\n",
       "\n",
       "mpl.figure.prototype.toolbar_button_onmouseover = function(tooltip) {\n",
       "    this.message.textContent = tooltip;\n",
       "};\n",
       "mpl.toolbar_items = [[\"Home\", \"Reset original view\", \"fa fa-home icon-home\", \"home\"], [\"Back\", \"Back to previous view\", \"fa fa-arrow-left icon-arrow-left\", \"back\"], [\"Forward\", \"Forward to next view\", \"fa fa-arrow-right icon-arrow-right\", \"forward\"], [\"\", \"\", \"\", \"\"], [\"Pan\", \"Pan axes with left mouse, zoom with right\", \"fa fa-arrows icon-move\", \"pan\"], [\"Zoom\", \"Zoom to rectangle\", \"fa fa-square-o icon-check-empty\", \"zoom\"], [\"\", \"\", \"\", \"\"], [\"Download\", \"Download plot\", \"fa fa-floppy-o icon-save\", \"download\"]];\n",
       "\n",
       "mpl.extensions = [\"eps\", \"jpeg\", \"pdf\", \"png\", \"ps\", \"raw\", \"svg\", \"tif\"];\n",
       "\n",
       "mpl.default_extension = \"png\";var comm_websocket_adapter = function(comm) {\n",
       "    // Create a \"websocket\"-like object which calls the given IPython comm\n",
       "    // object with the appropriate methods. Currently this is a non binary\n",
       "    // socket, so there is still some room for performance tuning.\n",
       "    var ws = {};\n",
       "\n",
       "    ws.close = function() {\n",
       "        comm.close()\n",
       "    };\n",
       "    ws.send = function(m) {\n",
       "        //console.log('sending', m);\n",
       "        comm.send(m);\n",
       "    };\n",
       "    // Register the callback with on_msg.\n",
       "    comm.on_msg(function(msg) {\n",
       "        //console.log('receiving', msg['content']['data'], msg);\n",
       "        // Pass the mpl event to the overridden (by mpl) onmessage function.\n",
       "        ws.onmessage(msg['content']['data'])\n",
       "    });\n",
       "    return ws;\n",
       "}\n",
       "\n",
       "mpl.mpl_figure_comm = function(comm, msg) {\n",
       "    // This is the function which gets called when the mpl process\n",
       "    // starts-up an IPython Comm through the \"matplotlib\" channel.\n",
       "\n",
       "    var id = msg.content.data.id;\n",
       "    // Get hold of the div created by the display call when the Comm\n",
       "    // socket was opened in Python.\n",
       "    var element = $(\"#\" + id);\n",
       "    var ws_proxy = comm_websocket_adapter(comm)\n",
       "\n",
       "    function ondownload(figure, format) {\n",
       "        window.open(figure.imageObj.src);\n",
       "    }\n",
       "\n",
       "    var fig = new mpl.figure(id, ws_proxy,\n",
       "                           ondownload,\n",
       "                           element.get(0));\n",
       "\n",
       "    // Call onopen now - mpl needs it, as it is assuming we've passed it a real\n",
       "    // web socket which is closed, not our websocket->open comm proxy.\n",
       "    ws_proxy.onopen();\n",
       "\n",
       "    fig.parent_element = element.get(0);\n",
       "    fig.cell_info = mpl.find_output_cell(\"<div id='\" + id + \"'></div>\");\n",
       "    if (!fig.cell_info) {\n",
       "        console.error(\"Failed to find cell for figure\", id, fig);\n",
       "        return;\n",
       "    }\n",
       "\n",
       "    var output_index = fig.cell_info[2]\n",
       "    var cell = fig.cell_info[0];\n",
       "\n",
       "};\n",
       "\n",
       "mpl.figure.prototype.handle_close = function(fig, msg) {\n",
       "    var width = fig.canvas.width/mpl.ratio\n",
       "    fig.root.unbind('remove')\n",
       "\n",
       "    // Update the output cell to use the data from the current canvas.\n",
       "    fig.push_to_output();\n",
       "    var dataURL = fig.canvas.toDataURL();\n",
       "    // Re-enable the keyboard manager in IPython - without this line, in FF,\n",
       "    // the notebook keyboard shortcuts fail.\n",
       "    IPython.keyboard_manager.enable()\n",
       "    $(fig.parent_element).html('<img src=\"' + dataURL + '\" width=\"' + width + '\">');\n",
       "    fig.close_ws(fig, msg);\n",
       "}\n",
       "\n",
       "mpl.figure.prototype.close_ws = function(fig, msg){\n",
       "    fig.send_message('closing', msg);\n",
       "    // fig.ws.close()\n",
       "}\n",
       "\n",
       "mpl.figure.prototype.push_to_output = function(remove_interactive) {\n",
       "    // Turn the data on the canvas into data in the output cell.\n",
       "    var width = this.canvas.width/mpl.ratio\n",
       "    var dataURL = this.canvas.toDataURL();\n",
       "    this.cell_info[1]['text/html'] = '<img src=\"' + dataURL + '\" width=\"' + width + '\">';\n",
       "}\n",
       "\n",
       "mpl.figure.prototype.updated_canvas_event = function() {\n",
       "    // Tell IPython that the notebook contents must change.\n",
       "    IPython.notebook.set_dirty(true);\n",
       "    this.send_message(\"ack\", {});\n",
       "    var fig = this;\n",
       "    // Wait a second, then push the new image to the DOM so\n",
       "    // that it is saved nicely (might be nice to debounce this).\n",
       "    setTimeout(function () { fig.push_to_output() }, 1000);\n",
       "}\n",
       "\n",
       "mpl.figure.prototype._init_toolbar = function() {\n",
       "    var fig = this;\n",
       "\n",
       "    var nav_element = $('<div/>')\n",
       "    nav_element.attr('style', 'width: 100%');\n",
       "    this.root.append(nav_element);\n",
       "\n",
       "    // Define a callback function for later on.\n",
       "    function toolbar_event(event) {\n",
       "        return fig.toolbar_button_onclick(event['data']);\n",
       "    }\n",
       "    function toolbar_mouse_event(event) {\n",
       "        return fig.toolbar_button_onmouseover(event['data']);\n",
       "    }\n",
       "\n",
       "    for(var toolbar_ind in mpl.toolbar_items){\n",
       "        var name = mpl.toolbar_items[toolbar_ind][0];\n",
       "        var tooltip = mpl.toolbar_items[toolbar_ind][1];\n",
       "        var image = mpl.toolbar_items[toolbar_ind][2];\n",
       "        var method_name = mpl.toolbar_items[toolbar_ind][3];\n",
       "\n",
       "        if (!name) { continue; };\n",
       "\n",
       "        var button = $('<button class=\"btn btn-default\" href=\"#\" title=\"' + name + '\"><i class=\"fa ' + image + ' fa-lg\"></i></button>');\n",
       "        button.click(method_name, toolbar_event);\n",
       "        button.mouseover(tooltip, toolbar_mouse_event);\n",
       "        nav_element.append(button);\n",
       "    }\n",
       "\n",
       "    // Add the status bar.\n",
       "    var status_bar = $('<span class=\"mpl-message\" style=\"text-align:right; float: right;\"/>');\n",
       "    nav_element.append(status_bar);\n",
       "    this.message = status_bar[0];\n",
       "\n",
       "    // Add the close button to the window.\n",
       "    var buttongrp = $('<div class=\"btn-group inline pull-right\"></div>');\n",
       "    var button = $('<button class=\"btn btn-mini btn-primary\" href=\"#\" title=\"Stop Interaction\"><i class=\"fa fa-power-off icon-remove icon-large\"></i></button>');\n",
       "    button.click(function (evt) { fig.handle_close(fig, {}); } );\n",
       "    button.mouseover('Stop Interaction', toolbar_mouse_event);\n",
       "    buttongrp.append(button);\n",
       "    var titlebar = this.root.find($('.ui-dialog-titlebar'));\n",
       "    titlebar.prepend(buttongrp);\n",
       "}\n",
       "\n",
       "mpl.figure.prototype._root_extra_style = function(el){\n",
       "    var fig = this\n",
       "    el.on(\"remove\", function(){\n",
       "\tfig.close_ws(fig, {});\n",
       "    });\n",
       "}\n",
       "\n",
       "mpl.figure.prototype._canvas_extra_style = function(el){\n",
       "    // this is important to make the div 'focusable\n",
       "    el.attr('tabindex', 0)\n",
       "    // reach out to IPython and tell the keyboard manager to turn it's self\n",
       "    // off when our div gets focus\n",
       "\n",
       "    // location in version 3\n",
       "    if (IPython.notebook.keyboard_manager) {\n",
       "        IPython.notebook.keyboard_manager.register_events(el);\n",
       "    }\n",
       "    else {\n",
       "        // location in version 2\n",
       "        IPython.keyboard_manager.register_events(el);\n",
       "    }\n",
       "\n",
       "}\n",
       "\n",
       "mpl.figure.prototype._key_event_extra = function(event, name) {\n",
       "    var manager = IPython.notebook.keyboard_manager;\n",
       "    if (!manager)\n",
       "        manager = IPython.keyboard_manager;\n",
       "\n",
       "    // Check for shift+enter\n",
       "    if (event.shiftKey && event.which == 13) {\n",
       "        this.canvas_div.blur();\n",
       "        event.shiftKey = false;\n",
       "        // Send a \"J\" for go to next cell\n",
       "        event.which = 74;\n",
       "        event.keyCode = 74;\n",
       "        manager.command_mode();\n",
       "        manager.handle_keydown(event);\n",
       "    }\n",
       "}\n",
       "\n",
       "mpl.figure.prototype.handle_save = function(fig, msg) {\n",
       "    fig.ondownload(fig, null);\n",
       "}\n",
       "\n",
       "\n",
       "mpl.find_output_cell = function(html_output) {\n",
       "    // Return the cell and output element which can be found *uniquely* in the notebook.\n",
       "    // Note - this is a bit hacky, but it is done because the \"notebook_saving.Notebook\"\n",
       "    // IPython event is triggered only after the cells have been serialised, which for\n",
       "    // our purposes (turning an active figure into a static one), is too late.\n",
       "    var cells = IPython.notebook.get_cells();\n",
       "    var ncells = cells.length;\n",
       "    for (var i=0; i<ncells; i++) {\n",
       "        var cell = cells[i];\n",
       "        if (cell.cell_type === 'code'){\n",
       "            for (var j=0; j<cell.output_area.outputs.length; j++) {\n",
       "                var data = cell.output_area.outputs[j];\n",
       "                if (data.data) {\n",
       "                    // IPython >= 3 moved mimebundle to data attribute of output\n",
       "                    data = data.data;\n",
       "                }\n",
       "                if (data['text/html'] == html_output) {\n",
       "                    return [cell, data, j];\n",
       "                }\n",
       "            }\n",
       "        }\n",
       "    }\n",
       "}\n",
       "\n",
       "// Register the function which deals with the matplotlib target/channel.\n",
       "// The kernel may be null if the page has been refreshed.\n",
       "if (IPython.notebook.kernel != null) {\n",
       "    IPython.notebook.kernel.comm_manager.register_target('matplotlib', mpl.mpl_figure_comm);\n",
       "}\n"
      ],
      "text/plain": [
       "<IPython.core.display.Javascript object>"
      ]
     },
     "metadata": {},
     "output_type": "display_data"
    },
    {
     "data": {
      "text/html": [
       "<img src=\"data:image/png;base64,iVBORw0KGgoAAAANSUhEUgAAAbAAAAEgCAYAAADVKCZpAAAgAElEQVR4Xu2dCbhN1fvHP2YVMoaGS6JCsyEqUxJKCA1KJWlOg0RSSIkGpaho0lxklpSiiRAypWSoyBRCkcz+z3v3vv/fdcdz7z3nnrXP+a7nuY/rnrXXftfnXed8z1r7Xe/Kg4oIiIAIiIAIBJBAngDaLJNFQAREQAREAAmYBoEIiIAIiEAgCUjAAuk2GS0CIiACIiAB0xgQAREQAREIJAEJWCDdJqNFQAREQAQkYBoDIiACIiACgSQgAQuk22S0CIiACIiABExjQAREQAREIJAEJGCBdJuMFgEREAERkIBpDIiACIiACASSgAQskG6T0SIgAiIgAhIwjQEREAEREIFAEpCABdJtMloEREAEREACpjEgAiIgAiIQSAISsEC6TUaLgAiIgAhIwDQGREAEREAEAklAAhZIt8loERABERABCZjGgAiIgAiIQCAJSMAC6TYZLQIiIAIiIAHTGBABERABEQgkAQlYIN0mo0VABERABCRgGgMiIAIiIAKBJCABC6TbZLQIiIAIiIAETGNABERABEQgkAQkYIF0m4wWAREQARGQgGkMiIAIiIAIBJKABCyQbpPRIiACIiACEjCNAREQAREQgUASkIAF0m0yWgREQAREQAKmMSACIiACIhBIAhKwQLpNRouACIiACEjANAZEQAREQAQCSUACFki3yWgREAEREAEJmMaACIiACIhAIAnErICVKlXqUMWKFQPpFBktAiIgAtEiMH/+/C1AmWjdPyv3jVkBq1GjxqF58+ZlhYXqioAIiEDcE8iTJ898oGYQQEjAguAl2SgCIiACuURAApZLoDO6jWZgDjhBJoiACASOgATMAZdJwBxwgkwQAREIHAEJWNouewNoAWwCTkujii1nPg9cAuwCOgI/+PVuAB72f38ceCuzUSEBy4yQXhcBERCB1AQkYGmPivrATuDtdATMhKuLL2Dn+mJm/5YELBrDHioeAuwBYw1gm5YQ9fYTAREQgfASkIClz9Pi2j9OR8CGA18BH/iX/wI0TPZzq//3lPXSvJtmYOEd1GpNBEQgPghIwLInYCZsA4EZ/uXTgB6+gBUGbOnQyiPAf8AzmoHFxxtKvRSB/ydw6BBs2AAFC0Lp0t6fp02DkiXh7LMFKgwEJGDZE7DJwIAUAtYduBAolELA7BnZoDRucwtgPyQkJNRYvXp1GNypJkRABKJK4LvvwITr/PNh/34oXhw6dYIXXvDMKlIE7rgDnnoKDh6EM86ALl3gVn/R5sAByJcvql0I0s0lYNkTMC0hBmmUy1YRiBQBE6s1a6BCBe8OZ54JZcvC1Kne/8eOhWOPhTp1vP/PmePVLVcOdu6Em2+Gdu2gbVtvtmaC9vrr0LJlpCyOqXYlYNkTsEuBu5IFcdjXq9p+EIcFbpzjN2uRiRbEsTWjUaNnYDH1nlJn4omAzZwmTQJbQSlQABYvhvLloUw2shv9+iv07g0PPwynngpz58LEidC9OxQtGk9UQ+6rBCxtVBacYUEZtnD9J9AHKOBXHQZYGP1QoJkfRn+jH31oVToBD/l1+wMjMvOGBCwzQnpdBBwhsGMHPPGEJyolSsDMmbBqFbRv7wlYOMvw4dCjh9d+qVLhbDlm2pKAOeBKCZgDTpAJIhAKge+/h/POg/HjoYVtFY1w2bLlfwEgN90EjRpBhw4RvmlwmpeAOeArCZgDTpAJIpAegWXLvOW8667zavz+O+T26RH2vKxpU2jdGh54QL7yCUjAHBgKEjAHnCATRCA9AjfcAJ99BvaM6sgjo8fJAkYsSjF/fvj6a1i40ItgzJs3ejZF+c4SsCg7wG4vAXPACTJBBJIT2LzZ+58FY9jvJh7HHOMOo9tv9/aULVgARx3ljl25bIkELJeBp3U7CZgDTpAJIpBEYN8+qF4dTj4ZPracBQ4WE9RNm7yQfdtvZsEkDRo4aGhkTZKARZZvSK1LwELCpEoikHsEPvoIKlcORsaMYcO8zdHz5wfD3jB6UQIWRpjZbUoCll1yuk4EwkTAZl22LHfFFV6wRJDK7t0wahRcf32QrA6LrRKwsGDMWSMSsJzx09UikGMCf//thahffbW3xyuoxSIkn3wSnnsOClta1tguEjAH/CsBc8AJMiE+CezaBYUKefkH9+zxfg9yeest6NoVZs3ynuHFeJGAOeBgCZgDTpAJ8UfABKtxYy9gw7JexErZutXLeG9l714vG36MFgmYA46VgDngBJkQnwQefRSqVfOefcVaefVVGDoUvvzyf4IWY32UgDngUAmYA06QCfFDwPZ1WU7DSpViu8+2T8wiFN95J2afh0nAHBjCEjAHnCAT4ofAxRfD2rWwZEn8nL3133/e+WMxtulZAubA21YC5oATZEL8EFi0yBOwS+1UpDgotunZtgZYyqkpUyCPHaYRG0UC5oAfJWAOOEEmxDYB+xC3yDzLJB+P5c03vRyKMZbJXgLmwGCWgDngBJkQ2wTslOPOnWHGDDj//Njua2a927jROxE6BooEzAEnSsAccIJMiG0CFjJvwQx2plYMLaFl2Wk//QR168KgQZ6gB7xIwNJ2oJ20/DyQD3gNGJii2nNAI/9vdr6Cpaku7v//ALDE/30N0DKzMSIBy4yQXheBbBKw/IC2zysOslKERMiOY7FTnu++GxISQrrE5UoSsNTeMdFaDjQB1gJzgfbAT+k4sgtwNtDJf30nUCQrTpeAZYWW6opAiAS2b4cTT4Q2bcCWEFUOJ2DPBS2FVvGk797BAyQBS+2zukBfICmjZ0+/yoB03Psd0Af4XAIWvDeALI5xAnYcyumnQ4UKMd7RbHSvZ08YNw6+/x6KFctGA9G/RAKW2gftAFtCTFogtnPEzwXuSsNd9q6YDRwP2NKhlf3AQv9fW3ocn5mbNQPLjJBeF4EsELCZhSW1tdmXSvoEvvnGO2n6sccCe6qzBCy1ey2njM2+kgtYbcCWClOWHr54JX/tWGA9YNv8pwONgVVpXHsLYD8kJCTUWL16td5qIiAC4SAwZAg8+CDMneuliVLJnIAdimlh9gErErDUDsvKEuIC4E7AlhHTKm8CdqTr6IzGhWZgAXvXyFy3CWzYAK+9Bg8/HN8Rh6F66bff4JJLYPDgwJ2FJgFL7WT7GmJBHDZzWucHcVwDLE1R9RTgM8DWKQ75r5UAdgF7gNLALKBVBgEgiZdJwEJ9p6meCGRAwAIS7FlOPIfJZ2eAWJopC3R56CGoVy87LUTtGglY2ugvAQb7YfRvAP2BfsA8YKJ/iQV62IlxDyZrwrb527kMB4G8fhuZhj9JwKI2/nXjWCFgS2ANGsAZZ8DLL8dKr9SPTAhIwBwYIhIwB5wgE4JNwPY3Pf00VKzonarseDl06BC//vA9CaedSYFCjpycbMEvdvyKZeq32VgAigTMASdJwBxwgkwQgVwisH75z3z97gjW//ITF3a6jbObtsilO4dwmxtu8PaGjR0biMhECVgIPo10FQlYpAmr/Zgl8M8/3vObJ56A2hYs7G75Z8smvnnvTX757huOKl6C8664ltMaNSFvPsud4EixlFt2gnNAniNKwBwYNxIwB5wgE4JJwHL7tWoFb73lbKb5fXv3MG/iWL6fMBoOHaJmyzbUatmWgoWPcJe5Hfo5YgQ88IDTYiYBc2AIScAccIJMCC4Bh/cw/bZgHtNGDOPvPzdycp0LaHBdJ4qVttSpjpcXX4SuXcFySZ52mrPGSsAccI0EzAEnyIRgEbBMG2PGwH33OfmsZue2rXw5YjjL58ykxLHHc9FNtycGbASm2OnNK1fCySc7bbIEzAH3SMAccIJMCBaBvn3huedg6VI43jK5uVEOHTzIkulT+ea9Eezft5c6ba6mVss25MtfwA0Ds2OFnWBt2xMcfC4mAcuOQ8N8jQQszEDVXOwTcDDf4fY/NzJ1+Av8sXQxJ1Q/gyY330mJ8scF2xd2irUdAGrZ/G+80bm+SMAccIkEzAEnyIRgEFi3DgoUgGPceY5ks64Fn03m2w/eJG/efInPuU6/sCl5HJyxZNnJ9kXBckt26gRFsnRKVJZvlZ0LJGDZoRbmayRgYQaq5mKXQMuWsGQJLF/uCVmUyz+bN/Hpy4MTZ10nnlWDJrd0oWgpyyIXg8U2i5so57UkQ24UCZgDfpCAOeAEmRAMAhY2v2yZt/crisUyafz0zXSmjxhmkfE0vL4zp194cWzMutLiavvtmjeHdu28wBlHigTMAUdIwBxwgkxwm4B9+3dkw+9/O/7hi1dfTIwwPO7U6jS/sytHH1PWbX45tc5U2p6BNWkC116b09bCdr0ELGwos9+QBCz77HRlHBCwD0+bcZ1yCgy0M2KjV2yp8JOhg9j199+cd+W1iRGG9txLJToEJGDR4X7YXSVgDjhBJrhLYN8+b1OtnbBs/0ahHNi/n1mj32fO+I8oUe5YLr37AcpWqhwFS6J8S/sy8dFHUKiQlwElykUCFmUH2O0lYA44QSaIQDoELFDj4xeeYsPyZYm5Cxt1vMXtNFCR9KQt5Z57LpQtC5MnR/JOIbUtAQsJU2QrScAiy1etB5jACy94z12qVo1KJ1bOnc1nLw/m4MEDNLn5Lk49v0FU7HDqpnbidZkykN/O/o1ukYBFl3/i3SVgDjhBJrhHYNs2qFIF7IiPQYNy1b4D+/clZo7/4ZMJiUuFl97TPXHpUCUZATvJef16OOmkqGGRgKWPvhnwvH8q82tAyqfHHYGngXV+E0MBq2flBuBh//fHgbcy8rAELGrjXzd2nYBlRS9cGIoWzTVL/9mymY8HD2TDil84u9ll1O/QifwO7DnLNQCh3qhxY9i4ERYvjlqEqAQsbWdZWNFyoAmwFpgLtAd+SlbdBKwmcFeKJkoC8/zXDgHzbZIFbEtvXEjAQn3HqF7cELBkvRUq5Hr+vd8Xzmfy0EEc2LePprfdwyl1L4gb5Fnu6PTpnn8aNcrypeG6QAKWNsm6QF+gqf9yT//fASEImAldQ+BWv+5w4CvgAwlYuIat2olpAvaMxULm7SyqRx7Jla5aOqjZ40by3UfvU/r4BC7r2pOSx7qTJDhXIATwJhKwtJ3WDrAlxM7+y9cB56aYbdkMzARtsz9bs+3pfwDdgMKALR1asXfgf8AzErAAvkNkcu4TsLB5y79naaMqRz5Uffe/O5ny4rP8Ov97ql7QMDFYo4AtW6qERsACbebOhXfeCa1+GGtJwNKGeYU/+0ouYHZeeZdk1UsBO4E9wG3AlcCFwANAoRQCtgtI+RT6FsB+SEhIqLF69eowulVNiYAIhEJgy5rfmTCoPxYq3+C6zpzdrEXspoMKBUh26gwYAN9/Dx984D2vzMUiAUsbdihLiMmvtGdmW4Gj/WdlWkLMxUGsW8UIgT17oG1b6NED6tWLeKeWz57Bpy8NpuARR3DZfT057tRqEb9nTN7ADr+MUoJfCVjaI8o2OFgQR2M/ytCCOK4BliarXh7Y4P//cqAHUAewIA4L3DjHf+0HP4jDBC7NoiCOmHxbq1NZJbBiBVxyCQwdCk2THj9ntZHM69ueru9GvceccaMoX+UUWnZ9iCIlbUFFJUcELCJxwQIv6W8uFQlY+qAvAQb7YfRvAP2Bfn6E4UT/+VdLYL8/+7odWOY31wl4yP/drhuRkT8lYLk02nUb9wnY868Ihqzv2fUvnwx5hl9/mJuYPf7CTrcrRD5co6J9e5g6Ff74A448MlytZtiOBCxXMGd8EwmYA06QCdEl8MUX0KBBRMVr24Z1jH/qMbb/uYFGHW/lzCbN9bwrnF635/i2DHzyyeFsVQKWazSzeSMJWDbB6bLYIPDzz1CtGjz5JHTvHpE+/b54QeLm5Dx589Gya09OqHZ6RO6jRn0CJmSW8DfCRTOwCAMOpXkJWCiUVCdmCViG80mToGFDKFYsrN20gycXfDqJr95+jVLHJ9D6gYc5+phyYb2HGktBoG9fmDAB5s2LeIYOCZgDo08C5oATZEJ0CJh4WTaHCBQ7AmX6G8NYPO1TTqpZh0vu6krBI3Ln2UwEuhOcJseOhRkz4PHHI/4sTALmwLCQgDngBJmQ+wR27oTzzwf7xn65BfKGr/y3cwcfPzeANT8upnbrK7jgquvIE6VQ7/D1Si2lJCABc2BMSMAccIJMyH0CFq1mmebtm/p554Xt/lvXW7DGo4mbk5vc0oXqDWw3jEquE1i0yAur72hJiyJTJGCR4ZqlViVgWcKlyiKQLoE/li5m4qAnEmdbLbv14vhTq4tWtAhcfz1MmwarVkUsQ4cELFrOTXZfCZgDTpAJuUvgvffg0kuhePGw3Xfp19OYOnwIxcuVp82DfRSsETay2Wxo0yZvW0SJEtlsIPPLJGCZM4p4DQlYxBHrBi4RsKNS7BDEPn2gd+8cW2aZ5GcmZtYYScJpZyZmki98VJEct6sGwkTAAnX+/jusX1aSLJOAhclHOWlGApYTero2kAQWLvRELIcHVe7fu5dPX3qOX2Z9m5hZo/FNd5DPgaPuA+mTSBltS4nLl8N334U9Z6IELFJOy0K7ErAswFLVYBMIY6qoXf/8zYSnH2f98p+pd01HarVsq8waLo6OkSPBlhPvuCPs+8IkYA44XALmgBNkQuQJ7N0L55wDnTvDvffm6H7bNq5n3MC+/LNlM83vvF8nJ+eIZnAvloA54DsJmANOkAmRJ2DPQe6/H9q08bLOZ7PYjMtyGh4CWnd7WMegZJNjrl9m2Va2bvW2ToSpSMDCBDInzUjAckJP18YTgRVzvkvMJm/Hn7Tp2ZcS5Y+Lp+4Hu6+XXeYtJc6eHbbsKxIwB4aEBMwBJ8iEyBKwsPk6dbzAjWyWH6ZM5Mu3XqV85ZNp3b03Rxaz82NVAkNg82YvEjGMx+VIwBzwvgTMASfIhMgR+PdfqFABWraEN+xovawVC5P/+r0RzP94HJVr1eWSu7tRoGDkM51nzUrVDpmABfJYGrEw7A+TgIVMPXIVJWCRY6uWHSGwYYMXQl22bJYMsjD5KS89x/JZ33JW0xY06ngzefPmy1IbquwQgQMHoGZN7/gcm5XnsEjA0gbYDHjeP435NWBgimpdgc7+acybATuBebVf5wCwxP99DWCnNmdYJGCZEdLrgSWQg3Ohdu/cyYRnHmftzz9Sv0Mnara4XGHygR0IyQx/6SU44QSwZ2I5LBKw1ADt691yoAmwFpgLtAd+Sla1ETAH2AXcDjQErvJf3wlkKQ2ABCyHo1iXu0vAog3Ll4fXX8+SjTv+2sKYJ3qzbcN6mt15H1XPb5Cl61U5PghIwFL7uS7QF2jqv9TT/3dAOkPibGAocL4ELD7eNOpliAQOHoQnnoCSJb1NrCGWLX+sZsyAPuzdtYtW3XolpodSiTEC9hxs2DBvKbFx9k8LkIClHhftAFtCtCVCK9cB5wJ3pTOETLw2Ao/7r+8HFvrLi7b0OD6zoacZWGaE9Hq8ELDlwvFPP0b+goVo82BfjqlYKV66Hl/9tE3tVatCs2bw4ovZ7rsELDW6K/zZV3IBqw10SYNyB1/YbH1jj//6scB6wN550wH7erEqjWtvAeyHhISEGqtXJz1Cy7YvdaEIuENg+nSwnIT164dsk+3xmjzkaY4uU5a2D/WjWJljQr5WFQNIwPaElSmToz1hErDUfg91CfEiYAhg4rUpneHzJvAxMDqj4aUZWADffDI5YwIXXuhtWl28OKQErgunfsK0N17m2Cqn0rr7IxxRtJgIi0CmBCRgqRHl94M4bOa0zg/iuAZYmqyqPfcyUbKlxhXJ/m4H31hgh83GSgOzgFYpAkBS3VECluk4VYWgEfjvP1i7FqpUydDyQ4cO8d2od5k9diSVatSmxT3dKVCocNB6K3ujREACljZ4S9Q22A+jt52X/YF+wDxgIvAFcDqwwb88KVzezkUfDhwE8vptZBp+JQGL0ujXbcNPwJ5t2NKh7fnKpBw8cIAvXnuRJdOnclqji2ly853kzac9Xplx0+v/IyABc2A0SMAccIJMCA+B/v1h3Dj4+ms46qh029y3dw+Tn3+KVfPmUKfNVZx3ZQft8QqPB+KqFQmYA+6WgDngBJkQHgKjRsG338IQezycdrENyuOe6pd4jteFN97K2U1bhOfeaiXuCEjAHHC5BMwBJ8iEXCGwY+sWxvTvzfaN62l+Vzed45Ur1GP3JhIwB3wrAXPACTIhZwTWrYNp0+Daa9M9dXfr+rWM7v8INgNr/cDD2qCcM+K6GovAzzMfqBkEGHmCYGR2bJSAZYearnGKwOOPQ79+sHw5VKyYyrQNK39h7MBHyZs3b+IG5bKVKjtlvowJJgEJmAN+k4A54ASZkDMCljZq0SI423aYHF5+X/QDEwc9wZFHH03bXo9Ropzt9VcRgZwTkIDlnGGOW5CA5RihGogmgf37vdD5NMqymV8z5cXnKHXc8bR5qB9FSpSMpqW6d4wRkIA54FAJmANOkAnZI7BwoXcsxpgxUNsyrv2vLPh0EtPffIXjT61OqwcepvBRWTqkIXv26Kq4IiABc8DdEjAHnCATskfABKxXL+9wQjsuHkjMrvHR+8we8wEn1TyXSy27hk5Qzh5fXZUhAQmYAwNEAuaAE2RCWAgcPHiA6W8MY9HnU6je8CIuvqWLsmuEhawaSYuABMyBcSEBc8AJMiFrBA4dghEj4IoroGjRxGv379vHlKGDWD57BrVataNe+xuUXSNrVFU7iwQkYFkEFonqErBIUFWbESUwfz7UrOkdSnjrrez9bxcTnunPmh8X0aBDJ2pe1iait1fjImAEJGAOjAMJmANOkAlZJzB3Lpx5Jrt2/8fYAX3Z9Psqmt52D9UbZP+E3awboSvimYAEzAHvS8AccIJMCJ2A7fnys83/s2UTo/v3ZsfmTbS4rwcn1bDDy1VEIHcISMByh3OGd5GAOeAEmRAagQMHoE4d6NiRv1pdlpgaat/u3bTu0TsxXF5FBHKTgAQsN2mncy8JmANOkAmhEdi+He64g63n1+WDH74jX/78tH2oH2UqnBja9aolAmEkIAFLH6adtvy8f6jla8DAFFULAW8DNYC/gKuA3/06PYGbgAPA3cBnGflMAhbGEa2mIk7gt4XzmfjsExQpXpJ2Dz/G0ceUi/g9dQMRSIuABCztcWHHwi4HmgBrgblAe+CnZNXvAM4AbgOuBi73Rawa8AFgaQks6Zud3nyyL2Zp3k0CpjdnIAh8+SUrtm3h49HvUuqECrTt+ShHFS8RCNNlZGwSkICl7de6QF+gabIZlf06IFl1m1VZnVmAJYLbCJQBHvTrJNVNXk8CFpvvo9jv1YED7Dn2WDbmOcjs22+i9QOPUOjI9E9cjn0g6qELBCRgaXuhHWBLiJ39l68DLLzqrmTVf/Tr2AzNyiq/jonabOBd/++vA1OA0ek5XDMwF94KsiE9AkmpoZa+/QaVTq1OwyeeIX/BggImAlEnIAFL2wVX+LOv5AJmS4JdklVf6tdJLmBWp58/K0suYJ8AY1Lc6hbAfkhISKixevXqqA8GGSACKQkkpoZ6/WUWffEppzVqQpOb71JqKA0TZwhIwNJ2hZYQnRmiMiRaBBJTQw15hlKvj6ByiVKU+epb8qRzbEq0bNR945uABCxt/9szLQvisJQC6/wgjmsAm3UllTuB05MFcVjunCsB2wzzfrIgjmlAFQVxxPcbLWi991JDPc6aHxdzdcFiHJevILz5ZtC6IXtjnIAELH0HXwIM9sPo3wD6+8uD84CJQGHgHcCOoN3qRyL+6jfXC+hk+U2Be/1nYOneSc/AYvxdFrDu7fp7O2MHWmqoX2l2+71Uq39hwHogc+OFgATMAU9LwBxwgkxIJPD3po2MeaI3O/76i9YdbqJCyTJQq5boiICTBCRgDrhFAuaAE2QCm1f/xpgBfTiwdy+te/ThuJeHw8svw9q1UMZ2iKiIgFsEJGAO+EMC5oAT4tyEtT/9yPinH6NA4cKJqaFKn1ABduyAGTOgefM4p6Puu0pAAuaAZyRgDjghjk1YOXc2Hz//JEeXKUvbXv0oVvqYOKahrgeJgATMAW9JwBxwQpyasGT6VD5/ZSjlTqqSmFH+yGJHw5IlcNdd8NprUMUCaFVEwE0CEjAH/CIBc8AJcWaCZdeYM3YkM0e9S8WzatDyvp6Jy4eJ5dNPoWtXb/mwZMk4I6PuBomABMwBb0nAHHBCHJmQmF1jxCssmjqZavUacfFt9yQei3JYOXTIzmuPIyrqahAJSMAc8JoEzAEnxIkJ+/fuZcrQQSyfM5Oal7Wh/jUdyeOfroyJ1pdfQqNGEq84GQ9B76YEzAEPSsAccEIcmLBn17+JkYYWcdjw+s7UuLT14b3++mto2BDeeQc6dIgDIupi0AlIwBzwYI4EbN8+KFDAgV7IBJcJ7Nz6F2MH9OGvdWtpdse9VL2gYWpzDxyAkSOhbVsoZOe1qoiA2wQkYA74J9sC9sMP0Lo1jB4NtS0RvooIpCbw19o/GDOgN7t37qTl/Q9R8QzLfqYiAsEnIAFzwIfZFjDbaNq+PfTtCzVrOtATmeAagXXLfmL8U/3Imz8/bXo+StkTT0pt4v790KoV3HEHXHqpa12QPSKQLgEJmAODI9sC5oDtMsFdAivmzuKT55+maOnSidk1jj6mXNrGWqqoli3hkUfg8svd7ZAsE4EUBCRgDgyJHAvYzp3w3ntw882QFFHmQL9kQvQILJz6CdPfGHb4BuWMzDl40Is8VOh89JymO2eZgAQsy8jCf0GOBczEy6LGvvkG6tULv4FqMTAEDh08yLcfvs3cCaOpdE4tWtzbgwKF/A3KafXCnqNWqwZJm5gD01MZKgL2fSvPfCAQz09idldljgXMosfsg0jHXsT1e9pOUP7s5cEsm/k1ZzZpzoU33kbefPnSZ7JrF1SoAE2awPt2BquKCASLgATMAX/lWMCS98HELKMPLQf6KxPCT2D3vzuZOOgJ/li6mAva30DtVlHQwtkAABneSURBVO3s22nmN7KNy5Yu6swzM6+rGiLgGAEJ2OEOscRvI4GKwO/AlcC2FD47C3gZKAYc8E9qtmus2JnrDexcQP//HYGFmfk8bAJmR74PGAALFsCRR2Z2W70eIwT+2bKZcQP7snX9Oprefk9ieigVEYgHAhKww738FLAVGAg8CJQAeqQYCCcDh4AVwLGArcFWBbb7AvYxMDorgydsAvbttzB0KAwZAsfoSIys+CCodTf9/muieO3dvTtxj1eF0+37VQilZ08oXhx6pBzeIVyrKiLgCAEJ2OGO+AWwFAUbgPLAV8ApmfhqEdDOFzSbgUVPwBwZVDIjdwj8tmAekwY/SeGjitDmwT6UTrCFgxCK5Ty86iooXRpeeimEC1RFBNwkIAE73C82iyqe7E+2fGizsPSKpb94C6gOHPRnYHWBPcA0fxZnv2dYwjYDS7qL7euZPRvama6qxCKBRZ9PYdobL1Mm4UQu79GbIiVLZb2bel6adWa6wikC8ShgXwBp7ejs5YtRqAKWNEO7AZjte9X+thEoCLwCrAL6pePxWwD7ISEhocbq1avDNzA6d4aPPgITsqJFw9euWoo6gcQw+Q/eYu7EMZx4ds3EMPmChY8I3a6VK70xUbZs6Neopgg4SiAeBSwjV4S6hGgBHLa8OAD4KJ0GbSmyG9AiM9+HfQa2fj3s3QsVQ1xSysxAve4EgX179/Dp0GcTj0IJKUw+LaubNYNffgETMkWrOuFXGZF9AhKww9k9DfyVLIjDohK7p8Brs6spwCRgcIrXbAZmz88sfvk5YLe/jJihh8IuYMnvZnnuUh5WmP3xoiujRODf7dsSj0LZuGoFDa69kRotLg8tTD6lvStWeOLVvHmUeqLbikD4CEjADmdpDxJG2aoesAa4wo9KtJ3etwGdATsoaQSwNNmlSeHy04EyvoBZ+LxdszMzd0VMwO69F5Yvh08+ycwEve4wgS1rfmfsk4/y345/uKRLN6rUssesKiIgAhIwB8ZAxATMQur/+AP699cszAE/Z8eE3xfOZ9LggYnPuVp3703ZSpWz0wx88AFMnw7PPQdFimSvDV0lAo4RkIA54JCICZgDfZMJ2SNw6NAhFnz6MV+99SqlEypweY8+FC1VOnuN2VUDB8LEiTBjhhI+Z5+irnSMgATMAYdEXMDmz4ft26FxYwd6KxMyI3Bg/36mjxjG4i8+5aSa5yYuG2Yp0jC9GyhsPjP0ej1gBCRgDjgsogJmm1btsEuLOJszR8dlOODvjEz4b+cOPn5uAGt+XEytVu2od/X15MnJETmbN8OGDXDGGY73XOaJQNYJSMCyzizsV0RUwMxaC5suXx6KWfS/iqsEtq5fy7gnH2XHls00uaUL1RuEYcZ8//1eejF7Fqr0Yq66XnZlk4AELJvgwnlZxAUsyVibjdn+sEKFwmm+2goDgV8XzGXy80+Tr0ABWt3fi+NOrRaGVi0V9TawjPNt2oSnPbUiAg4RkIA54IxcETB7/nHxxVC1qveNXMUJAhasYVk1LLtGmQon0rrbwxQro0TMTjhHRjhPQALmgItyRcCsn717wwknwM03O9BrmWCZNT4fPoSfZ3zFyXUuoNnt91IgXCcjf/01PP442BE7xx0n2CIQkwQkYA64NdcEzIG+ygSPgJ3hZQdQ/vnrCs6/6jrOvfzK7GXWSA+o5cK0s+FmzoQjspArUQ4SgQARkIA54KxcFTB7DjZunHeURv36DvQ+/kywU5PtGJQD+/bS/K5uVK55bmQgmK9DOZU5MndXqyIQcQISsIgjzvwGuSpgFsRRrRqccw6MsqxZKrlFIHFz8pSJfPXO65Qodywtu/Wi1HEnhPf2O3eCLR9econEK7xk1ZqDBCRgDjglVwXM+vvrr3aGi9JL5aLv9+3ZzeevvsjP335J5Vp1aHZHVwodeWT4LRg0CLp1gyVL4LTTwt++WhQBhwhIwBxwRq4LWFKf9+wBi06MxAepA1xdMWHbhnVMfHYAW/5YzXlXXEOdy6/K2ebkjDq2bx988YWyzbvifNkRUQISsIjiDa3xqAjYv//CWWdB69bwtJ0ioxIJAivmzuLTF58jb758XNqlGxXPqhGJ23ht6uicyLFVy04SkIA54JaoCJj1u18/OO88uOgiByjElgkHDxxgxodvJ+7xKlupCi279ozs/q5p0+DOO72EvSefHFsw1RsRSIeABMyBoRE1AXOg77Fowo6tWxKzaqxbtpQzLmpGo463kr9Agch21QI3LGx+/HgI116yyFqs1kUgxwQkYDlGmPMGoipg9szkhRe8b+2XXZbzzsR5C3Z+1ydDB7F/716a3HwnVes1inMi6r4IRI6ABCw125LASKAi8DtwpWWUS8MFB4Al/t/t9OaW/u8nAh8C1s4PwHXA3oxcGFUBs+cmFlJvS4nDhkVupMV4y7Zk+N1H7zNn3EhKn1CBFvc9GP4Q+bQYbt0K778Pt94KkZ7lxbgP1b3gEZCApfbZU8BWOwIQeBAoAfRIw7U7gbSOtrXNVWN9ETNFWAS87KyAmWGW8LWEdVMlOwT+2byJyS88zfrlP3NaoyZceOOtFChUODtNZf2aF1+Eu++GxYuhevWsX68rRCDABCRgqZ33C9AQ2ACUB74CTglRwPIAm4FyFhMG1AX6Ak2dFrAk4+zsKNvorNx5Ib+ll8+ZydThL3Do4EEuuvkuqp7fIORrw1LRsm3Yni+d9xUWnGokWAQkYKn9tR0onuzPtnyY1vTEBGqhL1Q2WxsP2Jnvs4HK/vWWZmEKkOGO0qguISZ11ITrpJOgdm0YMyZYozgK1u7bvZuv3n6NxdM+pdxJVbj07u4UL2ffd3Kp2P49O2W7VKlcuqFuIwLuEYhXAfvCnyWl9Egv4K0QBexYYD1QCZgO2OmD/wCzUgjYJ8Dpabj+FsB+SEhIqLF69erojw5LAGvZG+zIFZV0CWxcuZxPhj7Dto0bqHVZG86/qgP58kc4yjClNXYkTp8+MG8enGiPXVVEIP4IxKuAZeTpUJcQk7fxJvAxYFOX4C4hJu+REsGmGiMWqPH9hNHMGv0+RxUvSfM77+OE6mdE51Nj6VJ45x0vdF4Je6PjA9016gQkYKldYGkp/koWxGHRhN1TVLMlxV3AHn/Z0GZdrYCfgI98IbNIRAviWAy8lJGnnVhCTDLw4EEvKKB4ce88KZVEAlvXr03MqLFh5S+ccl59LrrpDgoXSSuGR8BEQARyi4AELDVpe6hgkYQJgIXHX+FHJdYEbgM6A+cBw4GDQF5gMPC635QtKSaF0S8AOvhCl65PnRIws/KmmzwBs8SwcV4sOGPBp5P49oO3EzcjX3jT7bkfqJHcB9Onw4QJ0L8/SEDjfHSq+xIwB8aAcwKm5cPEUWFJeKcOH8Lan3+k0jm1aHJLF4qUsAl5FMvAgfDGG7BokQ6qjKIbdGs3CEjAHPCDcwKWxOSnn2DFCmhlq6PxUw4ePMAPkycwc+S75CtQgAbX38RpDZuE98TknODctUsnCOSEn66NGQISMAdc6ayA2aGIy5bB8uVxc3bYpt9/5fNXhrBx1Qoq1ahNk853UqSkA6Hq9kXC0n7ZYaQqIiACiQQkYA4MBGcF7I8/vMSwZco4QCmyJti+ru9Gv8/8yeM5omgxGt5wM6eeV9+dWVeLFrBggXcYaaFCkYWh1kUgIAQkYA44ylkBS2Jjz8T+/BPKWYKR2CqHDh1i5bzZfPnmK+zYspnTGl1M/Q43ckSRom51dNMmbzZcv75bdskaEYgiAQlYFOEn3dp5AevaFUaNAtt7dPTRDhALjwnbNq5PFK7fFsxLTMDb+KbbOb5qhklTwnPjrLSycyccdZT2emWFmerGDQEJmAOudl7A5s6Fb76Be++FfPkcIJYzE/bs2pWYNX7+5AmJQRrntWvP2c1bki9//pw1HO6rbU9e48aWqgXesgQxKiIgAskJSMAcGA/OC1hyRgEOsbdMGkumT+W7j95j19/bqd7gIi5of330Q+PTG4OW73DwYChdGm64wYGRKhNEwC0CEjAH/BEYAZs9G2w5cdKkQCWRtedcq+bNYcaHb/PX2jUcd2o1Gl7XmXKVT3bA+zJBBEQguwQkYNklF8brAiNgduZU+/YwcqSX9NfxYsK15sdFzBz5DhtW/EKJ8sdR75obqFyrrjvRhWkxtFnubbfB1VdDI53o7Pgwk3lRJCABiyL8pFsHRsDMYHsuk9eyZ7lbkoRr1ugPWLdsKUVKlaZu2/ac1vAi8gbhGd7GjVCvHtx3H9xxh7ugZZkIRJmABCzKDrDbB0rAzOD9+71nMx06OBVab3kLV86fw9zxoxOT7lrap9qtr+D0C5uSv2BBBzydBRP+/dfLtqFM81mApqrxRkAC5oDHAydgK1d6S4iWUPb++6NOcO9/u1j6zXQWTJmUmL+wWJmy1G7VNjFII1DCtXu3l+fw1ltjItoz6gNDBsQ8AQmYAy4OnIAZM0ttVKVK1On9s3kTbz1wFyZidjJyzcvaUKX2ecFYKkxJ7+23vWjDb7+FCy6IOlsZIAKuE5CAOeChQApYErd162DbtqgFddjzLosurFyzDuWrnOKAN3Nogp2wXNNO7lERARHIjIAELDNCufB6YAXMouXOOQfsX8vTp+c12RstliZq7144/vjsXa+rRCBOCUjADne8HfY0EqgI/A5cacdCpRgbFtf8XLK/nQpcDYwH3gQaAH/7r3cEFmY2tgIrYNax77/30kudEgOzn8wcFanXLVzelg1XrfKSJ6uIgAiEREACdjimp/zTlwcCDwIlgB4ZkDTBWwnYV+ddvoB9DIwOib5fKdAClryja9dqFpEVxyfVteNqbAZ71VXZuVrXiEDcEpCAHe76X4CGwAagPPAVkNHU4hZ/xnWt34zNwOJTwF59Fe65B+wZjs6sCu0DxZYOjzkmtLqqJQIikIqABOxwJNuB4sn+ZMuHNgtLr0wHnvVFy+qYgNUF9gDT/Fmc/Z5hiYkZmB238sIL0Lu3zqvKzOH2+po1cNZZ0KePJ/wqIiACWSYQjwL2BZDWwVa9AEv5HaqA2QxtMXAssM8nb3/bCNiu2VeAVUC/dLxiszf7ISEhocbq1auz7DxnL7Aj7+3QxSBkvYgWRAvaePhhL2VUpUrRskL3FYFAE4hHAcvIYVlZQrSvzdWTRCiNRm0pshvQIrMREhMzsKRO2vlVlgbp4ovhyScz63r8vW4Rm3v2KFgj/jyvHkeAgATscKhPA38BSUEcFqTRPR3us4GewJfJXrcZmD0/y+NHKu72lxFjfwkxeQ8ffBAaNIDmzSMwZAPepC2zvv46TJ8eqIz+Aacu82OUgATscMeWAkbZqp49pQCu8KMSbWfpbUBnv7qF2c8ETrD0tsmasGdiZXwBs/B5u2ZnZmMnpmZgKTtrsw1bTlTxCHz2GXz4oSdijidFlstEwHUCEjAHPBSzAjZxInTp4p3mXKGCA6SjaILlOdQeryg6QLeORQISMAe8GrMCtmwZdO/uJai1U4Xjtfz6q7ekOmQItG4drxTUbxEIOwEJWNiRZr3BmBWw5CgOHPDSJR1xRNYBBf0KyxXZqRMMGACnWuIWFREQgXAQkICFg2IO24h5AbPIu2uvha1bYfLk+Amv13aCHL4zdLkIZExAAubACIl5ATPGFrRgM5FutrMgDorNOC+9FIoVg5Ejleg4DlyuLuY+AQlY7jNPdce4ELDkvbYjWMqVi/2ZmJ1aXbQo3HSTA6NMJohA7BGQgDng07gSsC1b4PTToUMHeNq23cVYsWVDE2gHDvuMMbLqjgikIiABc2BQxJWAGe+nnoIWLWIz6a8djTJjBvzyCxx1lAOjSyaIQOwSkIA54Nu4E7DkzG1Trz0rsqW2WCg//wxLl0K7drHQG/VBBJwmIAFzwD1xK2ArV3ph5Y884mVlD2rZuBGmTIEbbwxqD2S3CASSgATMAbfFrYAZ+5kzoVYtKGgJ/ANaLPfj0KHesuFxxwW0EzJbBIJHQALmgM/iWsCS+P/7L7RtCz17elkrXC+2t23HDi9M3vI9rloVm8/0XPeD7ItrAhIwB9wvAQP++MM7guXZZ4ORxd5yPM6a5QVsKMehA+8imRCPBCRgDnhdAuY7Yd8+KFDA+8/48VC1KpxyigMeSsOESZNgwQLvUEpllXfTR7Iq5glIwBxwsQQshRMsZ6LtozrzTLCM9i6U/fu9XIYnnAAdO7pgkWwQgbgnIAFzYAhIwNJwwvr1Xvql8uXBfrdIv3POiZ637JlXo0berPDll6Nnh+4sAiLw/wQkYA4MBglYJk645x4YNszLcJGbx7KYcFqIvz2XO/po+O+/+Mym78B7RCaIQFoEJGCpqdgpzH2BqkBtYF46Q6cZ8DyQD3gNGOjXOxH4ECgJ/ABcB+zNaPhJwDJ5c/79txcsYRuerYwYAY0bQ4IdnB3mYjMtO3zSjn1ZsgTq1PGexzVpEuYbqTkREIGcEpCApSZownUQGA5Y6vS0BMxEazlgn2prgblAe+AnYBQw1hexYcAiIMM1JwlYFobx5s3e6c4PPACPPgoHD4LlVzzmmCw0kk5Ve8517rlQrx5YIl4rmzaFp+2cW6cWREAEUhCQgKU/JL7KQMDq+rO0pv7lPf1/bRa2GSgH7AdS1kvzbhKwLL4v16zxohXt+ZhthK5f38uEYWH4NluzGZQJmj1Dy6zY0qTNtF580avZt6+XHcRyGqqIgAg4TUAClj0Bs0R3toTY2b/clgnP9UVtNlDZ//sJwBTgtIxGgQQsB++R1avhlVegRw9vU7H9fuut8NtvULEijBsH774Lo0Z5x7e89BK8+SbMmeMJXK9engh++WVogpcDU3WpCIhAeAnEq4B94c+SUtLsBUzw/5jRDMyek9nsK7mA2fOyfsCsFAL2CXB6Gm67BbAfEhISaqy2D2KVnBNYtgw+/xzuvNPbn/Xaa/D88/D9995zLTtc0kRt+HAvMENFBEQgsATiVcBCcZiWEEOhpDoiIAIiECUCErDsLSHm94M4GgPr/CCOa4ClwEfAmGRBHIuBl7SEGKURrtuKgAjELAEJWGrXXg4MAcoA24GF/nLhsX64/CX+JfavhapZROIbQH//75WShdEvADoAeyRgMfseUsdEQASiREACFiXwyW+rIA4HnCATREAEAkdAAuaAyyRgDjhBJoiACASOgATMAZdJwBxwgkwQAREIHAEJmAMuk4A54ASZIAIiEDgCEjAHXCYBc8AJMkEERCBwBCRgDrhMAuaAE2SCCIhA4AhIwNxwmeVPzG4qjtLAFje6ERYrYqk/sdQXc676E5YhHpFG4tU3FfwtTxGBGs5GQ8jMGs7bBaYty5ZfMzDWZm5oLPUnlvpinlN/Mh+/0aoh30SLfIj3lYClDUoDN8QBFIVq8k0UoGfhlrHkn1jqSyx+WUICJgHLwmeTE1X1oeKEG9I1Ipb8E0t9kYC5/b4Jq3WW0f6VsLYY3cZiqT+x1BcbFepPdN8bGd1dvnHXN4mWaQbmuINkngiIgAiIQNoEJGAaGSIgAiIgAoEkIAFL322PAa2Ag8AmoCOwPpBe9ox+GrgM2AusAm70TwYIYpfs8NO+QFXADj21ZxVBK3b6+PP+yQuvAQOD1oEU9trpES3890qGp6UHoJ926vvb/gG99v63xwnmqyCWwsA3QCHAjqwaDfQJYkfSslkClr4niwH/+C/fDVQDbguw4y8GpgP7gSf9fvQIaH9MuOyDZTjQLYACZscFLQeaAGv9s+/aAz8F1B9mdn1gp//BH3QBKw/Yzw9AUWA+0Dqg/rHP+KN83xQAZgD3ALMDPNb+33QJWGhe7AkkALeHVt35WnY+WzvgWuctzdjAjE74drlrdf0ZZFPfSBtfVga4bHQItlUEPgaCLmApuzoBGAp8HgIDl6sc6QuYfY7NcdnQUG2TgGVMyg7UvB74G2gEWHaPWCiTgJHAuwHvTFAFzL482BJiZ5//dcC5wF0B90csCpj1yZbgTJSTVmSC5iab8dsssjLwIhDUlZdU3ONdwL7w17lTgukF2LeupGLfkG0t2fW141D6Y32zLCNtgEMOvxND6UtQBcye4dnsK7mA2bO8Lg77IxTTYk3AigBf+yfDjw0FgON1igPj/HH2o+O2hmRevAtYSJAAyw02OQaWRm7wn+M1BnaF2nmH6wVVwLSE6PCg8k2z50W2HPoZ8Kz75oZsoX0J/xd4JuQrHK4oAUvfOVWAFf7L9s24gf/cyGF3ZmiaLVnZG9H6EStLoUEVMIsGsyAO+yKxzg/iuAZYGtTB5dsdKzMw+1x8C9gK3Btwn5QB9vkRx0cAU/0gLhPnwBcJWPouHAOc4ke7WVZ7i0C0D5uglpV+KO1ffgcsCimoUZUWhDLEz5i9HVjoL8kFyTeXAIP9MHoLQbfnrUEuHwAN/ez6f/rL7a8HtEMXAN8CS/z3v3XjIeCTAPbnDF+M7TlYXmAU0C+A/UjTZAlYrHhS/RABERCBOCMgAYszh6u7IiACIhArBCRgseJJ9UMEREAE4oyABCzOHK7uioAIiECsEJCAxYon1Q8REAERiDMCErA4c7i6KwIiIAKxQkACFiueVD9EQAREIM4ISMDizOHqrgiIgAjECgEJWKx4Uv0QAREQgTgjIAGLM4eruyIgAiIQKwQkYLHiSfVDBERABOKMgAQszhyu7oqACIhArBCQgMWKJ9UPERABEYgzAhKwOHO4uisCIiACsUJAAhYrnlQ/REAERCDOCEjA4szh6q4IiIAIxAoBCViseFL9EAEREIE4IyABizOHq7siIAIiECsEJGCx4kn1QwREQATijIAELM4cru6KgAiIQKwQkIDFiifVDxEQARGIMwL/B7BTkhEk8UiaAAAAAElFTkSuQmCC\" width=\"432\">"
      ],
      "text/plain": [
       "<IPython.core.display.HTML object>"
      ]
     },
     "metadata": {},
     "output_type": "display_data"
    }
   ],
   "source": [
    "T = 50\n",
    "fig = plt.figure()\n",
    "ims = []\n",
    "\n",
    "for time in range(T):\n",
    "    for data in range(n):\n",
    "        for node in range(K):\n",
    "            h_kn[data][node] = np.exp( -1 / (2*np.power(sig_t[time], 2)) * np.power(zn[data]-zeta[node],2))\n",
    "    \n",
    "    for node in range(K):\n",
    "        g_k[node] = np.sum(h_kn[:,node])\n",
    "    \n",
    "    for node in range(K):\n",
    "        for data in range(n):\n",
    "            h_X[data] = h_kn[data][node]*X[data]\n",
    "        y_k[node] = 1/g_k[node] * np.sum(h_X,axis=0)\n",
    "    \n",
    "    for data in range(n):\n",
    "        xn_yk_min = np.power(X[data][0] - y_k[0][0], 2) + np.power(X[data][1] - y_k[0][1], 2)\n",
    "        Nd = 0\n",
    "        for node in range(1,K):\n",
    "            xn_yk = np.power(X[data][0] - y_k[node][0], 2) + np.power(X[data][1] - y_k[node][1], 2)\n",
    "            if xn_yk_min > xn_yk:\n",
    "                xn_yk_min = xn_yk\n",
    "                Nd = node\n",
    "        k_n[data] = Nd\n",
    "        \n",
    "    for data in range(n):\n",
    "        zn[data] = zeta[int(k_n[data])]    \n",
    "    #print(time)\n",
    "    im = plt.plot(y_k[:,0],y_k[:,1])\n",
    "    ims.append(im)\n",
    "    \n",
    "#print(h_kn)\n",
    "#print(g_k)\n",
    "#print(y_k)\n",
    "#print(k_n)\n",
    "\n",
    "ani = animation.ArtistAnimation(fig, ims, interval = 100)\n",
    "plt.plot(x, y,'r:',label=\"y\")\n",
    "plt.show()"
   ]
  },
  {
   "cell_type": "code",
   "execution_count": 55,
   "metadata": {},
   "outputs": [],
   "source": [
    "%matplotlib nbagg\n",
    "import matplotlib.animation as animation\n",
    "\n",
    "ani = animation.ArtistAnimation(fig, ims, interval = 100)\n",
    "plt.show()"
   ]
  },
  {
   "cell_type": "code",
   "execution_count": 52,
   "metadata": {},
   "outputs": [
    {
     "data": {
      "text/plain": [
       "<function matplotlib.pyplot.show(*args, **kw)>"
      ]
     },
     "execution_count": 52,
     "metadata": {},
     "output_type": "execute_result"
    },
    {
     "data": {
      "image/png": "[encoded data removed]",
      "text/plain": [
       "<Figure size 432x288 with 1 Axes>"
      ]
     },
     "metadata": {
      "needs_background": "light"
     },
     "output_type": "display_data"
    }
   ],
   "source": [
    "plt.plot(x, y,'r:',label=\"y\")\n",
    "plt.plot(y_k[:,0],y_k[:,1])\n",
    "#plt.legend\n",
    "plt.show"
   ]
  },
  {
   "cell_type": "code",
   "execution_count": null,
   "metadata": {},
   "outputs": [],
   "source": []
  }
 ],
 "metadata": {
  "kernelspec": {
   "display_name": "Python 3",
   "language": "python",
   "name": "python3"
  },
  "language_info": {
   "codemirror_mode": {
    "name": "ipython",
    "version": 3
   },
   "file_extension": ".py",
   "mimetype": "text/x-python",
   "name": "python",
   "nbconvert_exporter": "python",
   "pygments_lexer": "ipython3",
   "version": "3.7.3"
  }
 },
 "nbformat": 4,
 "nbformat_minor": 2
}
